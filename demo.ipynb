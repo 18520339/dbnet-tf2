{
 "cells": [
  {
   "cell_type": "code",
   "execution_count": 1,
   "id": "cH_SACrr2zIt",
   "metadata": {
    "colab": {
     "base_uri": "https://localhost:8080/"
    },
    "id": "cH_SACrr2zIt",
    "outputId": "4a8b2217-3f71-4507-b523-30c84379fdc7"
   },
   "outputs": [
    {
     "name": "stdout",
     "output_type": "stream",
     "text": [
      "Found GPU at: /device:GPU:0\n",
      "nvcc: NVIDIA (R) Cuda compiler driver\n",
      "Copyright (c) 2005-2020 NVIDIA Corporation\n",
      "Built on Mon_Nov_30_19:15:10_Pacific_Standard_Time_2020\n",
      "Cuda compilation tools, release 11.2, V11.2.67\n",
      "Build cuda_11.2.r11.2/compiler.29373293_0\n"
     ]
    }
   ],
   "source": [
    "# https://github.com/MhLiao/DB\n",
    "# https://github.com/zonasw/DBNet\n",
    "# https://github.com/WenmuZhou/DBNet.pytorch\n",
    "# https://github.com/xuannianz/DifferentiableBinarization\n",
    "import tensorflow as tf\n",
    "physical_devices = tf.config.list_physical_devices('GPU') \n",
    "if len(physical_devices) > 0:\n",
    "    tf.config.experimental.set_memory_growth(physical_devices[0], True)\n",
    "    device_name = tf.test.gpu_device_name()\n",
    "    print('Found GPU at:', device_name)\n",
    "    !nvcc -V\n",
    "else: print('Using CPU')"
   ]
  },
  {
   "cell_type": "markdown",
   "id": "jsE4qkKQ5WLW",
   "metadata": {
    "id": "jsE4qkKQ5WLW"
   },
   "source": [
    "# Hyperparameters"
   ]
  },
  {
   "cell_type": "code",
   "execution_count": 2,
   "id": "7c68cfa9",
   "metadata": {},
   "outputs": [],
   "source": [
    "IGNORE_TEXTS = ['###']\n",
    "BATCH_SIZE = 4\n",
    "IMAGE_SIZE = 640\n",
    "THRESH_MIN = 0.3\n",
    "THRESH_MAX = 0.7\n",
    "SHRINK_RATIO = 0.4"
   ]
  },
  {
   "cell_type": "code",
   "execution_count": 3,
   "id": "830df2ac",
   "metadata": {
    "id": "830df2ac"
   },
   "outputs": [],
   "source": [
    "MIN_BOX_SCORE = 0.6\n",
    "MAX_CANDIDATES = 500\n",
    "IMAGE_SHORT_SIDE = 736\n",
    "AREA_PRECISION_CONSTRAINT = 0.4\n",
    "AREA_RECALL_CONSTRAINT = 0.4"
   ]
  },
  {
   "cell_type": "code",
   "execution_count": 4,
   "id": "131e7a82",
   "metadata": {},
   "outputs": [],
   "source": [
    "TRAIN_PATHS_MAP = './datasets/train.txt'\n",
    "VALIDATE_PATHS_MAP = './datasets/validate.txt'\n",
    "LEARNING_RATE = 7e-3\n",
    "EPOCHS = 50"
   ]
  },
  {
   "cell_type": "markdown",
   "id": "37746e4b",
   "metadata": {
    "id": "37746e4b"
   },
   "source": [
    "# Load the data"
   ]
  },
  {
   "cell_type": "code",
   "execution_count": 5,
   "id": "95c0b98e",
   "metadata": {
    "colab": {
     "base_uri": "https://localhost:8080/"
    },
    "id": "95c0b98e",
    "outputId": "02de6f04-283f-41c7-b0bc-f5b2d656bebb"
   },
   "outputs": [
    {
     "name": "stdout",
     "output_type": "stream",
     "text": [
      "[GET] Loading from ./datasets/train.txt: 1000 images\n",
      "[GET] Loading from ./datasets/validate.txt: 500 images\n"
     ]
    }
   ],
   "source": [
    "from loader import AnnotationsImporter, DataGenerator\n",
    "train_annotations = AnnotationsImporter(TRAIN_PATHS_MAP)\n",
    "validate_annotations = AnnotationsImporter(VALIDATE_PATHS_MAP)"
   ]
  },
  {
   "cell_type": "code",
   "execution_count": 6,
   "id": "1b5790c4",
   "metadata": {
    "colab": {
     "base_uri": "https://localhost:8080/"
    },
    "id": "1b5790c4",
    "outputId": "25a0c23a-7ad9-403b-9639-ae2594ba3475"
   },
   "outputs": [
    {
     "name": "stdout",
     "output_type": "stream",
     "text": [
      "Number of images found: 1000 + 500 = 1500\n",
      "Number of bounding boxes in all images: 11886 + 5230 = 17116\n"
     ]
    }
   ],
   "source": [
    "print(\n",
    "    f'Number of images found:'\n",
    "    f' {train_annotations.images_count} + {validate_annotations.images_count} ='\n",
    "    f' {train_annotations.images_count + validate_annotations.images_count}\\n'\n",
    "    f'Number of bounding boxes in all images:'\n",
    "    f' {train_annotations.all_boxes_count} + {validate_annotations.all_boxes_count} ='\n",
    "    f' {train_annotations.all_boxes_count + validate_annotations.all_boxes_count}'\n",
    ")"
   ]
  },
  {
   "cell_type": "code",
   "execution_count": 7,
   "id": "05434ed0",
   "metadata": {
    "id": "05434ed0"
   },
   "outputs": [],
   "source": [
    "train_generator = DataGenerator(\n",
    "    train_annotations.annotations, \n",
    "    BATCH_SIZE, IMAGE_SIZE, IGNORE_TEXTS,  \n",
    "    THRESH_MIN, THRESH_MAX, SHRINK_RATIO, seed=2022\n",
    ")\n",
    "validate_generator = DataGenerator(\n",
    "    validate_annotations.annotations, \n",
    "    BATCH_SIZE, IMAGE_SIZE, IGNORE_TEXTS, \n",
    "    THRESH_MIN, THRESH_MAX, SHRINK_RATIO, seed=None\n",
    ")"
   ]
  },
  {
   "cell_type": "markdown",
   "id": "5d975c4a",
   "metadata": {
    "id": "5d975c4a"
   },
   "source": [
    "# Build and compile the model"
   ]
  },
  {
   "cell_type": "code",
   "execution_count": null,
   "id": "b9RnIgR15uI1",
   "metadata": {
    "colab": {
     "base_uri": "https://localhost:8080/"
    },
    "id": "b9RnIgR15uI1",
    "outputId": "42efe721-4920-454d-edbc-156eb9556b58",
    "scrolled": true
   },
   "outputs": [],
   "source": [
    "from model import DBNet\n",
    "from processor import PostProcessor\n",
    "post_processor = PostProcessor(min_box_score=MIN_BOX_SCORE, max_candidates=MAX_CANDIDATES)\n",
    "dbnet = DBNet(post_processor, backbone='ResNet18', k=50)"
   ]
  },
  {
   "cell_type": "code",
   "execution_count": null,
   "id": "ae2f6e79",
   "metadata": {
    "id": "ae2f6e79"
   },
   "outputs": [],
   "source": [
    "from tensorflow.keras.optimizers import Adam\n",
    "from losses import DBLoss\n",
    "dbnet.compile(optimizer=Adam(LEARNING_RATE), loss=DBLoss())\n",
    "dbnet.model.summary(line_length=120)"
   ]
  },
  {
   "cell_type": "markdown",
   "id": "71bde2f0",
   "metadata": {
    "id": "71bde2f0"
   },
   "source": [
    "# Training"
   ]
  },
  {
   "cell_type": "code",
   "execution_count": null,
   "id": "16534850",
   "metadata": {},
   "outputs": [],
   "source": [
    "from metrics import TedEvalMetric\n",
    "from tqdm.notebook import tqdm\n",
    "\n",
    "tedeval_callback = TedEvalMetric(\n",
    "    true_annotations = validate_annotations.annotations, \n",
    "    ignore_texts = IGNORE_TEXTS, \n",
    "    min_box_score = MIN_BOX_SCORE,\n",
    "    image_short_side = IMAGE_SHORT_SIDE,\n",
    "    area_precision_constraint = AREA_PRECISION_CONSTRAINT,\n",
    "    area_recall_constraint = AREA_RECALL_CONSTRAINT,\n",
    "    progressbar = tqdm,\n",
    "    level = 'train'\n",
    ")"
   ]
  },
  {
   "cell_type": "code",
   "execution_count": null,
   "id": "bc14e70d",
   "metadata": {
    "id": "bc14e70d"
   },
   "outputs": [],
   "source": [
    "from tensorflow.keras.callbacks import EarlyStopping, ReduceLROnPlateau\n",
    "\n",
    "# Stop if no improvement after 5 epochs\n",
    "early_stopping_callback = EarlyStopping(patience=5, restore_best_weights=True, verbose=1)\n",
    "\n",
    "# Reduce the learning rate once learning stagnates\n",
    "reduce_lr_callback = ReduceLROnPlateau(\n",
    "    monitor = 'val_loss', \n",
    "    patience = 2, # Reduce if no improvement after 2 epochs\n",
    "    min_lr = 1e-6, # Lower bound on the learning rate \n",
    "    factor = 0.5, # => new_lr = lr * factor\n",
    "    verbose = 1\n",
    ")"
   ]
  },
  {
   "cell_type": "code",
   "execution_count": null,
   "id": "0e6c3f9e",
   "metadata": {
    "colab": {
     "base_uri": "https://localhost:8080/"
    },
    "id": "0e6c3f9e",
    "outputId": "d071771f-ae47-4f86-a79c-6c9612541ffc",
    "scrolled": false
   },
   "outputs": [],
   "source": [
    "%%time\n",
    "history = dbnet.fit(\n",
    "    train_generator,\n",
    "    validation_data = validate_generator,\n",
    "    validation_steps = len(validate_generator),\n",
    "    steps_per_epoch = len(train_generator),\n",
    "    epochs = EPOCHS,\n",
    "    callbacks = [tedeval_callback, reduce_lr_callback, early_stopping_callback],\n",
    "    verbose = 1\n",
    ").history"
   ]
  }
 ],
 "metadata": {
  "accelerator": "GPU",
  "colab": {
   "collapsed_sections": [],
   "include_colab_link": true,
   "machine_shape": "hm",
   "name": "demo.ipynb",
   "provenance": []
  },
  "kernelspec": {
   "display_name": "Python 3 (ipykernel)",
   "language": "python",
   "name": "python3"
  },
  "language_info": {
   "codemirror_mode": {
    "name": "ipython",
    "version": 3
   },
   "file_extension": ".py",
   "mimetype": "text/x-python",
   "name": "python",
   "nbconvert_exporter": "python",
   "pygments_lexer": "ipython3",
   "version": "3.8.13"
  }
 },
 "nbformat": 4,
 "nbformat_minor": 5
}
