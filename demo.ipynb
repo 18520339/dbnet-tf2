{
 "cells": [
  {
   "cell_type": "code",
   "execution_count": 1,
   "id": "cH_SACrr2zIt",
   "metadata": {
    "colab": {
     "base_uri": "https://localhost:8080/"
    },
    "id": "cH_SACrr2zIt",
    "outputId": "4a8b2217-3f71-4507-b523-30c84379fdc7"
   },
   "outputs": [
    {
     "name": "stdout",
     "output_type": "stream",
     "text": [
      "Found GPU at: /device:GPU:0\n",
      "nvcc: NVIDIA (R) Cuda compiler driver\n",
      "Copyright (c) 2005-2020 NVIDIA Corporation\n",
      "Built on Mon_Nov_30_19:15:10_Pacific_Standard_Time_2020\n",
      "Cuda compilation tools, release 11.2, V11.2.67\n",
      "Build cuda_11.2.r11.2/compiler.29373293_0\n"
     ]
    }
   ],
   "source": [
    "# https://github.com/MhLiao/DB\n",
    "# https://github.com/zonasw/DBNet\n",
    "# https://github.com/WenmuZhou/DBNet.pytorch\n",
    "# https://github.com/xuannianz/DifferentiableBinarization\n",
    "import tensorflow as tf\n",
    "physical_devices = tf.config.list_physical_devices('GPU') \n",
    "if len(physical_devices) > 0:\n",
    "    tf.config.experimental.set_memory_growth(physical_devices[0], True)\n",
    "    device_name = tf.test.gpu_device_name()\n",
    "    print('Found GPU at:', device_name)\n",
    "    !nvcc -V\n",
    "else: print('Using CPU')"
   ]
  },
  {
   "cell_type": "markdown",
   "id": "jsE4qkKQ5WLW",
   "metadata": {
    "id": "jsE4qkKQ5WLW"
   },
   "source": [
    "# Hyperparameters"
   ]
  },
  {
   "cell_type": "code",
   "execution_count": 2,
   "id": "7c68cfa9",
   "metadata": {},
   "outputs": [],
   "source": [
    "IGNORE_TEXTS = ['###']\n",
    "BATCH_SIZE = 10\n",
    "IMAGE_SIZE = 640\n",
    "THRESH_MIN = 0.3\n",
    "THRESH_MAX = 0.7\n",
    "SHRINK_RATIO = 0.4"
   ]
  },
  {
   "cell_type": "code",
   "execution_count": 3,
   "id": "830df2ac",
   "metadata": {
    "id": "830df2ac"
   },
   "outputs": [],
   "source": [
    "MIN_BOX_SCORE = 0.7\n",
    "MAX_CANDIDATES = 500\n",
    "IMAGE_SHORT_SIDE = 736\n",
    "AREA_PRECISION_CONSTRAINT = 0.4\n",
    "AREA_RECALL_CONSTRAINT = 0.4"
   ]
  },
  {
   "cell_type": "code",
   "execution_count": 4,
   "id": "131e7a82",
   "metadata": {},
   "outputs": [],
   "source": [
    "TRAIN_PATHS_MAP = './datasets/train.txt'\n",
    "VALIDATE_PATHS_MAP = './datasets/validate.txt'\n",
    "LEARNING_RATE = 7e-4\n",
    "EPOCHS = 100"
   ]
  },
  {
   "cell_type": "markdown",
   "id": "37746e4b",
   "metadata": {
    "id": "37746e4b"
   },
   "source": [
    "# Load the data"
   ]
  },
  {
   "cell_type": "code",
   "execution_count": 5,
   "id": "95c0b98e",
   "metadata": {
    "colab": {
     "base_uri": "https://localhost:8080/"
    },
    "id": "95c0b98e",
    "outputId": "02de6f04-283f-41c7-b0bc-f5b2d656bebb"
   },
   "outputs": [
    {
     "name": "stdout",
     "output_type": "stream",
     "text": [
      "[GET] Loading from ./datasets/train.txt: 1000 images\n",
      "[GET] Loading from ./datasets/validate.txt: 500 images\n"
     ]
    }
   ],
   "source": [
    "from loader import AnnotationsImporter, DataGenerator\n",
    "train_annotations = AnnotationsImporter(TRAIN_PATHS_MAP)\n",
    "validate_annotations = AnnotationsImporter(VALIDATE_PATHS_MAP)"
   ]
  },
  {
   "cell_type": "code",
   "execution_count": 6,
   "id": "1b5790c4",
   "metadata": {
    "colab": {
     "base_uri": "https://localhost:8080/"
    },
    "id": "1b5790c4",
    "outputId": "25a0c23a-7ad9-403b-9639-ae2594ba3475"
   },
   "outputs": [
    {
     "name": "stdout",
     "output_type": "stream",
     "text": [
      "Number of images found: 1000 + 500 = 1500\n",
      "Number of bounding boxes in all images: 11886 + 5230 = 17116\n"
     ]
    }
   ],
   "source": [
    "print(\n",
    "    f'Number of images found:'\n",
    "    f' {train_annotations.images_count} + {validate_annotations.images_count} ='\n",
    "    f' {train_annotations.images_count + validate_annotations.images_count}\\n'\n",
    "    f'Number of bounding boxes in all images:'\n",
    "    f' {train_annotations.all_boxes_count} + {validate_annotations.all_boxes_count} ='\n",
    "    f' {train_annotations.all_boxes_count + validate_annotations.all_boxes_count}'\n",
    ")"
   ]
  },
  {
   "cell_type": "code",
   "execution_count": 7,
   "id": "05434ed0",
   "metadata": {
    "id": "05434ed0"
   },
   "outputs": [],
   "source": [
    "train_generator = DataGenerator(\n",
    "    train_annotations.annotations, \n",
    "    BATCH_SIZE, IMAGE_SIZE, IGNORE_TEXTS,  \n",
    "    THRESH_MIN, THRESH_MAX, SHRINK_RATIO, seed=None\n",
    ")\n",
    "validate_generator = DataGenerator(\n",
    "    validate_annotations.annotations, \n",
    "    BATCH_SIZE, IMAGE_SIZE, IGNORE_TEXTS, \n",
    "    THRESH_MIN, THRESH_MAX, SHRINK_RATIO, seed=None\n",
    ")"
   ]
  },
  {
   "cell_type": "markdown",
   "id": "5d975c4a",
   "metadata": {
    "id": "5d975c4a"
   },
   "source": [
    "# Build and compile the model"
   ]
  },
  {
   "cell_type": "code",
   "execution_count": 8,
   "id": "b9RnIgR15uI1",
   "metadata": {
    "colab": {
     "base_uri": "https://localhost:8080/"
    },
    "id": "b9RnIgR15uI1",
    "outputId": "42efe721-4920-454d-edbc-156eb9556b58",
    "scrolled": true
   },
   "outputs": [
    {
     "name": "stdout",
     "output_type": "stream",
     "text": [
      "Model: \"DBNet\"\n",
      "________________________________________________________________________________________________________________________\n",
      " Layer (type)                          Output Shape               Param #       Connected to                            \n",
      "========================================================================================================================\n",
      " image (InputLayer)                    [(None, None, None, 3)]    0             []                                      \n",
      "                                                                                                                        \n",
      " conv1 (Conv2D)                        (None, None, None, 64)     9408          ['image[0][0]']                         \n",
      "                                                                                                                        \n",
      " bn_conv1 (BatchNormalization)         (None, None, None, 64)     256           ['conv1[0][0]']                         \n",
      "                                                                                                                        \n",
      " conv1_relu (Activation)               (None, None, None, 64)     0             ['bn_conv1[0][0]']                      \n",
      "                                                                                                                        \n",
      " pool1 (MaxPooling2D)                  (None, None, None, 64)     0             ['conv1_relu[0][0]']                    \n",
      "                                                                                                                        \n",
      " padding2a_branch2a (ZeroPadding2D)    (None, None, None, 64)     0             ['pool1[0][0]']                         \n",
      "                                                                                                                        \n",
      " res2a_branch2a (Conv2D)               (None, None, None, 64)     36864         ['padding2a_branch2a[0][0]']            \n",
      "                                                                                                                        \n",
      " bn2a_branch2a (BatchNormalization)    (None, None, None, 64)     256           ['res2a_branch2a[0][0]']                \n",
      "                                                                                                                        \n",
      " res2a_branch2a_relu (Activation)      (None, None, None, 64)     0             ['bn2a_branch2a[0][0]']                 \n",
      "                                                                                                                        \n",
      " padding2a_branch2b (ZeroPadding2D)    (None, None, None, 64)     0             ['res2a_branch2a_relu[0][0]']           \n",
      "                                                                                                                        \n",
      " res2a_branch2b (Conv2D)               (None, None, None, 64)     36864         ['padding2a_branch2b[0][0]']            \n",
      "                                                                                                                        \n",
      " res2a_branch1 (Conv2D)                (None, None, None, 64)     4096          ['pool1[0][0]']                         \n",
      "                                                                                                                        \n",
      " bn2a_branch2b (BatchNormalization)    (None, None, None, 64)     256           ['res2a_branch2b[0][0]']                \n",
      "                                                                                                                        \n",
      " bn2a_branch1 (BatchNormalization)     (None, None, None, 64)     256           ['res2a_branch1[0][0]']                 \n",
      "                                                                                                                        \n",
      " res2a (Add)                           (None, None, None, 64)     0             ['bn2a_branch2b[0][0]',                 \n",
      "                                                                                 'bn2a_branch1[0][0]']                  \n",
      "                                                                                                                        \n",
      " res2a_relu (Activation)               (None, None, None, 64)     0             ['res2a[0][0]']                         \n",
      "                                                                                                                        \n",
      " padding2b1_branch2a (ZeroPadding2D)   (None, None, None, 64)     0             ['res2a_relu[0][0]']                    \n",
      "                                                                                                                        \n",
      " res2b1_branch2a (Conv2D)              (None, None, None, 64)     36864         ['padding2b1_branch2a[0][0]']           \n",
      "                                                                                                                        \n",
      " bn2b1_branch2a (BatchNormalization)   (None, None, None, 64)     256           ['res2b1_branch2a[0][0]']               \n",
      "                                                                                                                        \n",
      " res2b1_branch2a_relu (Activation)     (None, None, None, 64)     0             ['bn2b1_branch2a[0][0]']                \n",
      "                                                                                                                        \n",
      " padding2b1_branch2b (ZeroPadding2D)   (None, None, None, 64)     0             ['res2b1_branch2a_relu[0][0]']          \n",
      "                                                                                                                        \n",
      " res2b1_branch2b (Conv2D)              (None, None, None, 64)     36864         ['padding2b1_branch2b[0][0]']           \n",
      "                                                                                                                        \n",
      " bn2b1_branch2b (BatchNormalization)   (None, None, None, 64)     256           ['res2b1_branch2b[0][0]']               \n",
      "                                                                                                                        \n",
      " res2b1 (Add)                          (None, None, None, 64)     0             ['bn2b1_branch2b[0][0]',                \n",
      "                                                                                 'res2a_relu[0][0]']                    \n",
      "                                                                                                                        \n",
      " res2b1_relu (Activation)              (None, None, None, 64)     0             ['res2b1[0][0]']                        \n",
      "                                                                                                                        \n",
      " padding3a_branch2a (ZeroPadding2D)    (None, None, None, 64)     0             ['res2b1_relu[0][0]']                   \n",
      "                                                                                                                        \n",
      " res3a_branch2a (Conv2D)               (None, None, None, 128)    73728         ['padding3a_branch2a[0][0]']            \n",
      "                                                                                                                        \n",
      " bn3a_branch2a (BatchNormalization)    (None, None, None, 128)    512           ['res3a_branch2a[0][0]']                \n",
      "                                                                                                                        \n",
      " res3a_branch2a_relu (Activation)      (None, None, None, 128)    0             ['bn3a_branch2a[0][0]']                 \n",
      "                                                                                                                        \n",
      " padding3a_branch2b (ZeroPadding2D)    (None, None, None, 128)    0             ['res3a_branch2a_relu[0][0]']           \n",
      "                                                                                                                        \n",
      " res3a_branch2b (Conv2D)               (None, None, None, 128)    147456        ['padding3a_branch2b[0][0]']            \n",
      "                                                                                                                        \n",
      " res3a_branch1 (Conv2D)                (None, None, None, 128)    8192          ['res2b1_relu[0][0]']                   \n"
     ]
    },
    {
     "name": "stdout",
     "output_type": "stream",
     "text": [
      "                                                                                                                        \n",
      " bn3a_branch2b (BatchNormalization)    (None, None, None, 128)    512           ['res3a_branch2b[0][0]']                \n",
      "                                                                                                                        \n",
      " bn3a_branch1 (BatchNormalization)     (None, None, None, 128)    512           ['res3a_branch1[0][0]']                 \n",
      "                                                                                                                        \n",
      " res3a (Add)                           (None, None, None, 128)    0             ['bn3a_branch2b[0][0]',                 \n",
      "                                                                                 'bn3a_branch1[0][0]']                  \n",
      "                                                                                                                        \n",
      " res3a_relu (Activation)               (None, None, None, 128)    0             ['res3a[0][0]']                         \n",
      "                                                                                                                        \n",
      " padding3b1_branch2a (ZeroPadding2D)   (None, None, None, 128)    0             ['res3a_relu[0][0]']                    \n",
      "                                                                                                                        \n",
      " res3b1_branch2a (Conv2D)              (None, None, None, 128)    147456        ['padding3b1_branch2a[0][0]']           \n",
      "                                                                                                                        \n",
      " bn3b1_branch2a (BatchNormalization)   (None, None, None, 128)    512           ['res3b1_branch2a[0][0]']               \n",
      "                                                                                                                        \n",
      " res3b1_branch2a_relu (Activation)     (None, None, None, 128)    0             ['bn3b1_branch2a[0][0]']                \n",
      "                                                                                                                        \n",
      " padding3b1_branch2b (ZeroPadding2D)   (None, None, None, 128)    0             ['res3b1_branch2a_relu[0][0]']          \n",
      "                                                                                                                        \n",
      " res3b1_branch2b (Conv2D)              (None, None, None, 128)    147456        ['padding3b1_branch2b[0][0]']           \n",
      "                                                                                                                        \n",
      " bn3b1_branch2b (BatchNormalization)   (None, None, None, 128)    512           ['res3b1_branch2b[0][0]']               \n",
      "                                                                                                                        \n",
      " res3b1 (Add)                          (None, None, None, 128)    0             ['bn3b1_branch2b[0][0]',                \n",
      "                                                                                 'res3a_relu[0][0]']                    \n",
      "                                                                                                                        \n",
      " res3b1_relu (Activation)              (None, None, None, 128)    0             ['res3b1[0][0]']                        \n",
      "                                                                                                                        \n",
      " padding4a_branch2a (ZeroPadding2D)    (None, None, None, 128)    0             ['res3b1_relu[0][0]']                   \n",
      "                                                                                                                        \n",
      " res4a_branch2a (Conv2D)               (None, None, None, 256)    294912        ['padding4a_branch2a[0][0]']            \n",
      "                                                                                                                        \n",
      " bn4a_branch2a (BatchNormalization)    (None, None, None, 256)    1024          ['res4a_branch2a[0][0]']                \n",
      "                                                                                                                        \n",
      " res4a_branch2a_relu (Activation)      (None, None, None, 256)    0             ['bn4a_branch2a[0][0]']                 \n",
      "                                                                                                                        \n",
      " padding4a_branch2b (ZeroPadding2D)    (None, None, None, 256)    0             ['res4a_branch2a_relu[0][0]']           \n",
      "                                                                                                                        \n",
      " res4a_branch2b (Conv2D)               (None, None, None, 256)    589824        ['padding4a_branch2b[0][0]']            \n",
      "                                                                                                                        \n",
      " res4a_branch1 (Conv2D)                (None, None, None, 256)    32768         ['res3b1_relu[0][0]']                   \n",
      "                                                                                                                        \n",
      " bn4a_branch2b (BatchNormalization)    (None, None, None, 256)    1024          ['res4a_branch2b[0][0]']                \n",
      "                                                                                                                        \n",
      " bn4a_branch1 (BatchNormalization)     (None, None, None, 256)    1024          ['res4a_branch1[0][0]']                 \n",
      "                                                                                                                        \n",
      " res4a (Add)                           (None, None, None, 256)    0             ['bn4a_branch2b[0][0]',                 \n",
      "                                                                                 'bn4a_branch1[0][0]']                  \n",
      "                                                                                                                        \n",
      " res4a_relu (Activation)               (None, None, None, 256)    0             ['res4a[0][0]']                         \n",
      "                                                                                                                        \n",
      " padding4b1_branch2a (ZeroPadding2D)   (None, None, None, 256)    0             ['res4a_relu[0][0]']                    \n",
      "                                                                                                                        \n",
      " res4b1_branch2a (Conv2D)              (None, None, None, 256)    589824        ['padding4b1_branch2a[0][0]']           \n",
      "                                                                                                                        \n",
      " bn4b1_branch2a (BatchNormalization)   (None, None, None, 256)    1024          ['res4b1_branch2a[0][0]']               \n",
      "                                                                                                                        \n",
      " res4b1_branch2a_relu (Activation)     (None, None, None, 256)    0             ['bn4b1_branch2a[0][0]']                \n",
      "                                                                                                                        \n",
      " padding4b1_branch2b (ZeroPadding2D)   (None, None, None, 256)    0             ['res4b1_branch2a_relu[0][0]']          \n",
      "                                                                                                                        \n",
      " res4b1_branch2b (Conv2D)              (None, None, None, 256)    589824        ['padding4b1_branch2b[0][0]']           \n",
      "                                                                                                                        \n",
      " bn4b1_branch2b (BatchNormalization)   (None, None, None, 256)    1024          ['res4b1_branch2b[0][0]']               \n",
      "                                                                                                                        \n",
      " res4b1 (Add)                          (None, None, None, 256)    0             ['bn4b1_branch2b[0][0]',                \n",
      "                                                                                 'res4a_relu[0][0]']                    \n"
     ]
    },
    {
     "name": "stdout",
     "output_type": "stream",
     "text": [
      "                                                                                                                        \n",
      " res4b1_relu (Activation)              (None, None, None, 256)    0             ['res4b1[0][0]']                        \n",
      "                                                                                                                        \n",
      " padding5a_branch2a (ZeroPadding2D)    (None, None, None, 256)    0             ['res4b1_relu[0][0]']                   \n",
      "                                                                                                                        \n",
      " res5a_branch2a (Conv2D)               (None, None, None, 512)    1179648       ['padding5a_branch2a[0][0]']            \n",
      "                                                                                                                        \n",
      " bn5a_branch2a (BatchNormalization)    (None, None, None, 512)    2048          ['res5a_branch2a[0][0]']                \n",
      "                                                                                                                        \n",
      " res5a_branch2a_relu (Activation)      (None, None, None, 512)    0             ['bn5a_branch2a[0][0]']                 \n",
      "                                                                                                                        \n",
      " padding5a_branch2b (ZeroPadding2D)    (None, None, None, 512)    0             ['res5a_branch2a_relu[0][0]']           \n",
      "                                                                                                                        \n",
      " res5a_branch2b (Conv2D)               (None, None, None, 512)    2359296       ['padding5a_branch2b[0][0]']            \n",
      "                                                                                                                        \n",
      " res5a_branch1 (Conv2D)                (None, None, None, 512)    131072        ['res4b1_relu[0][0]']                   \n",
      "                                                                                                                        \n",
      " bn5a_branch2b (BatchNormalization)    (None, None, None, 512)    2048          ['res5a_branch2b[0][0]']                \n",
      "                                                                                                                        \n",
      " bn5a_branch1 (BatchNormalization)     (None, None, None, 512)    2048          ['res5a_branch1[0][0]']                 \n",
      "                                                                                                                        \n",
      " res5a (Add)                           (None, None, None, 512)    0             ['bn5a_branch2b[0][0]',                 \n",
      "                                                                                 'bn5a_branch1[0][0]']                  \n",
      "                                                                                                                        \n",
      " res5a_relu (Activation)               (None, None, None, 512)    0             ['res5a[0][0]']                         \n",
      "                                                                                                                        \n",
      " padding5b1_branch2a (ZeroPadding2D)   (None, None, None, 512)    0             ['res5a_relu[0][0]']                    \n",
      "                                                                                                                        \n",
      " res5b1_branch2a (Conv2D)              (None, None, None, 512)    2359296       ['padding5b1_branch2a[0][0]']           \n",
      "                                                                                                                        \n",
      " bn5b1_branch2a (BatchNormalization)   (None, None, None, 512)    2048          ['res5b1_branch2a[0][0]']               \n",
      "                                                                                                                        \n",
      " res5b1_branch2a_relu (Activation)     (None, None, None, 512)    0             ['bn5b1_branch2a[0][0]']                \n",
      "                                                                                                                        \n",
      " padding5b1_branch2b (ZeroPadding2D)   (None, None, None, 512)    0             ['res5b1_branch2a_relu[0][0]']          \n",
      "                                                                                                                        \n",
      " res5b1_branch2b (Conv2D)              (None, None, None, 512)    2359296       ['padding5b1_branch2b[0][0]']           \n",
      "                                                                                                                        \n",
      " bn5b1_branch2b (BatchNormalization)   (None, None, None, 512)    2048          ['res5b1_branch2b[0][0]']               \n",
      "                                                                                                                        \n",
      " res5b1 (Add)                          (None, None, None, 512)    0             ['bn5b1_branch2b[0][0]',                \n",
      "                                                                                 'res5a_relu[0][0]']                    \n",
      "                                                                                                                        \n",
      " res5b1_relu (Activation)              (None, None, None, 512)    0             ['res5b1[0][0]']                        \n",
      "                                                                                                                        \n",
      " in5 (Conv2D)                          (None, None, None, 256)    131072        ['res5b1_relu[0][0]']                   \n",
      "                                                                                                                        \n",
      " up5 (UpSampling2D)                    (None, None, None, 256)    0             ['in5[0][0]']                           \n",
      "                                                                                                                        \n",
      " in4 (Conv2D)                          (None, None, None, 256)    65536         ['res4b1_relu[0][0]']                   \n",
      "                                                                                                                        \n",
      " tf.__operators__.add (TFOpLambda)     (None, None, None, 256)    0             ['up5[0][0]',                           \n",
      "                                                                                 'in4[0][0]']                           \n",
      "                                                                                                                        \n",
      " up4 (UpSampling2D)                    (None, None, None, 256)    0             ['tf.__operators__.add[0][0]']          \n",
      "                                                                                                                        \n",
      " in3 (Conv2D)                          (None, None, None, 256)    32768         ['res3b1_relu[0][0]']                   \n",
      "                                                                                                                        \n",
      " tf.__operators__.add_1 (TFOpLambda)   (None, None, None, 256)    0             ['up4[0][0]',                           \n",
      "                                                                                 'in3[0][0]']                           \n",
      "                                                                                                                        \n",
      " up3 (UpSampling2D)                    (None, None, None, 256)    0             ['tf.__operators__.add_1[0][0]']        \n",
      "                                                                                                                        \n",
      " in2 (Conv2D)                          (None, None, None, 256)    16384         ['res2b1_relu[0][0]']                   \n",
      "                                                                                                                        \n",
      " tf.__operators__.add_2 (TFOpLambda)   (None, None, None, 256)    0             ['up3[0][0]',                           \n",
      "                                                                                 'in2[0][0]']                           \n",
      "                                                                                                                        \n"
     ]
    },
    {
     "name": "stdout",
     "output_type": "stream",
     "text": [
      " P2 (ConvBnRelu)                       (None, None, None, 64)     147712        ['tf.__operators__.add_2[0][0]']        \n",
      "                                                                                                                        \n",
      " P3 (Sequential)                       (None, None, None, 64)     147456        ['tf.__operators__.add_1[0][0]']        \n",
      "                                                                                                                        \n",
      " P4 (Sequential)                       (None, None, None, 64)     147456        ['tf.__operators__.add[0][0]']          \n",
      "                                                                                                                        \n",
      " P5 (Sequential)                       (None, None, None, 64)     147456        ['in5[0][0]']                           \n",
      "                                                                                                                        \n",
      " fuse (Concatenate)                    (None, None, None, 256)    0             ['P2[0][0]',                            \n",
      "                                                                                 'P3[0][0]',                            \n",
      "                                                                                 'P4[0][0]',                            \n",
      "                                                                                 'P5[0][0]']                            \n",
      "                                                                                                                        \n",
      " probability_map (DeConvMap)           (None, None, None)         164673        ['fuse[0][0]']                          \n",
      "                                                                                                                        \n",
      " threshold_map (DeConvMap)             (None, None, None)         164673        ['fuse[0][0]']                          \n",
      "                                                                                                                        \n",
      " approximate_binary_map (Lambda)       (None, None, None)         0             ['probability_map[0][0]',               \n",
      "                                                                                 'threshold_map[0][0]']                 \n",
      "                                                                                                                        \n",
      "========================================================================================================================\n",
      "Total params: 12,355,650\n",
      "Trainable params: 12,345,282\n",
      "Non-trainable params: 10,368\n",
      "________________________________________________________________________________________________________________________\n"
     ]
    }
   ],
   "source": [
    "from model import DBNet\n",
    "from processor import PostProcessor\n",
    "post_processor = PostProcessor(min_box_score=MIN_BOX_SCORE, max_candidates=MAX_CANDIDATES)\n",
    "dbnet = DBNet(post_processor, backbone='ResNet18', freeze_bn=False, k=50)\n",
    "dbnet.model.summary(line_length=120)"
   ]
  },
  {
   "cell_type": "code",
   "execution_count": 9,
   "id": "ae2f6e79",
   "metadata": {
    "id": "ae2f6e79"
   },
   "outputs": [],
   "source": [
    "from tensorflow.keras.optimizers import Adam\n",
    "from losses import DBLoss\n",
    "dbnet.compile(\n",
    "    optimizer = Adam(LEARNING_RATE, amsgrad=True), \n",
    "    loss = DBLoss(alpha=1.0, beta=10.0, negative_ratio=3.0)\n",
    ")"
   ]
  },
  {
   "cell_type": "markdown",
   "id": "71bde2f0",
   "metadata": {
    "id": "71bde2f0"
   },
   "source": [
    "# Training"
   ]
  },
  {
   "cell_type": "code",
   "execution_count": 10,
   "id": "16534850",
   "metadata": {},
   "outputs": [
    {
     "data": {
      "application/vnd.jupyter.widget-view+json": {
       "model_id": "94f40c9374b64917afd8ba40f824493d",
       "version_major": 2,
       "version_minor": 0
      },
      "text/plain": [
       "Reading evaluation images:   0%|          | 0/500 [00:00<?, ?image/s]"
      ]
     },
     "metadata": {},
     "output_type": "display_data"
    }
   ],
   "source": [
    "from metrics import TedEvalMetric\n",
    "from tqdm.notebook import tqdm\n",
    "\n",
    "tedeval_callback = TedEvalMetric(\n",
    "    true_annotations = validate_annotations.annotations, \n",
    "    ignore_texts = IGNORE_TEXTS, \n",
    "    min_box_score = MIN_BOX_SCORE,\n",
    "    image_short_side = IMAGE_SHORT_SIDE,\n",
    "    area_precision_constraint = AREA_PRECISION_CONSTRAINT,\n",
    "    area_recall_constraint = AREA_RECALL_CONSTRAINT,\n",
    "    progressbar = tqdm,\n",
    "    level = 'epoch'\n",
    ")"
   ]
  },
  {
   "cell_type": "code",
   "execution_count": 11,
   "id": "bc14e70d",
   "metadata": {
    "id": "bc14e70d"
   },
   "outputs": [],
   "source": [
    "from tensorflow.keras.callbacks import EarlyStopping, ReduceLROnPlateau\n",
    "\n",
    "# Stop if no improvement after 5 epochs\n",
    "early_stopping_callback = EarlyStopping(patience=5, restore_best_weights=True, verbose=1)\n",
    "\n",
    "# Reduce the learning rate once learning stagnates\n",
    "reduce_lr_callback = ReduceLROnPlateau(\n",
    "    monitor = 'val_loss', \n",
    "    patience = 2, # Reduce if no improvement after 2 epochs\n",
    "    min_lr = 1e-6, # Lower bound on the learning rate \n",
    "    factor = 0.5, # => new_lr = lr * factor\n",
    "    verbose = 1\n",
    ")"
   ]
  },
  {
   "cell_type": "code",
   "execution_count": null,
   "id": "0e6c3f9e",
   "metadata": {
    "colab": {
     "base_uri": "https://localhost:8080/"
    },
    "id": "0e6c3f9e",
    "outputId": "d071771f-ae47-4f86-a79c-6c9612541ffc",
    "scrolled": false
   },
   "outputs": [
    {
     "name": "stdout",
     "output_type": "stream",
     "text": [
      "Epoch 1/100\n",
      "100/100 [==============================] - ETA: 0s - loss: 2.9642"
     ]
    },
    {
     "data": {
      "application/vnd.jupyter.widget-view+json": {
       "model_id": "6e516d3986b6404497badb29e6ecdb77",
       "version_major": 2,
       "version_minor": 0
      },
      "text/plain": [
       "Predicting bounding boxes:   0%|          | 0/500 [00:00<?, ?image/s]"
      ]
     },
     "metadata": {},
     "output_type": "display_data"
    },
    {
     "data": {
      "application/vnd.jupyter.widget-view+json": {
       "model_id": "bb93a21232a64d2daa608c7ce7315359",
       "version_major": 2,
       "version_minor": 0
      },
      "text/plain": [
       "Calculating TedEval metric:   0%|          | 0/500 [00:00<?, ?image/s]"
      ]
     },
     "metadata": {},
     "output_type": "display_data"
    },
    {
     "name": "stdout",
     "output_type": "stream",
     "text": [
      "Evaluation metrics for epoch 1 - precision: 0.0000 - recall: 0.0000 - fmeasure: 0.0000\n",
      "100/100 [==============================] - 140s 1s/step - loss: 2.9627 - val_loss: 3.0906 - lr: 7.0000e-04\n",
      "Epoch 2/100\n",
      "100/100 [==============================] - ETA: 0s - loss: 2.6311"
     ]
    },
    {
     "data": {
      "application/vnd.jupyter.widget-view+json": {
       "model_id": "e77aac146e6f4abdb9674b148e2621bb",
       "version_major": 2,
       "version_minor": 0
      },
      "text/plain": [
       "Predicting bounding boxes:   0%|          | 0/500 [00:00<?, ?image/s]"
      ]
     },
     "metadata": {},
     "output_type": "display_data"
    },
    {
     "data": {
      "application/vnd.jupyter.widget-view+json": {
       "model_id": "16707066f2e44cbf8c0c9c896d50f2fe",
       "version_major": 2,
       "version_minor": 0
      },
      "text/plain": [
       "Calculating TedEval metric:   0%|          | 0/500 [00:00<?, ?image/s]"
      ]
     },
     "metadata": {},
     "output_type": "display_data"
    },
    {
     "name": "stdout",
     "output_type": "stream",
     "text": [
      "Evaluation metrics for epoch 2 - precision: 0.0000 - recall: 0.0000 - fmeasure: 0.0000\n",
      "100/100 [==============================] - 138s 1s/step - loss: 2.6257 - val_loss: 2.8413 - lr: 7.0000e-04\n",
      "Epoch 3/100\n",
      "  8/100 [=>............................] - ETA: 34s - loss: 2.4350"
     ]
    }
   ],
   "source": [
    "%%time\n",
    "history = dbnet.fit(\n",
    "    train_generator,\n",
    "    validation_data = validate_generator,\n",
    "    validation_steps = len(validate_generator),\n",
    "    steps_per_epoch = len(train_generator),\n",
    "    epochs = EPOCHS,\n",
    "    callbacks = [tedeval_callback, reduce_lr_callback, early_stopping_callback],\n",
    "    verbose = 1\n",
    ").history"
   ]
  }
 ],
 "metadata": {
  "accelerator": "GPU",
  "colab": {
   "collapsed_sections": [],
   "include_colab_link": true,
   "machine_shape": "hm",
   "name": "demo.ipynb",
   "provenance": []
  },
  "kernelspec": {
   "display_name": "Python 3 (ipykernel)",
   "language": "python",
   "name": "python3"
  },
  "language_info": {
   "codemirror_mode": {
    "name": "ipython",
    "version": 3
   },
   "file_extension": ".py",
   "mimetype": "text/x-python",
   "name": "python",
   "nbconvert_exporter": "python",
   "pygments_lexer": "ipython3",
   "version": "3.8.13"
  }
 },
 "nbformat": 4,
 "nbformat_minor": 5
}
