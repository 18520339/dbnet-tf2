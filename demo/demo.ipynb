{
 "cells": [
  {
   "cell_type": "code",
   "execution_count": 1,
   "id": "42280462",
   "metadata": {},
   "outputs": [],
   "source": [
    "# https://github.com/MhLiao/DB\n",
    "# https://github.com/zonasw/DBNet\n",
    "# https://github.com/WenmuZhou/DBNet.pytorch\n",
    "# https://github.com/xuannianz/DifferentiableBinarization\n",
    "import sys\n",
    "import tensorflow as tf\n",
    "sys.path.append('..')\n",
    "tf.get_logger().setLevel('ERROR')"
   ]
  },
  {
   "cell_type": "code",
   "execution_count": 2,
   "id": "cH_SACrr2zIt",
   "metadata": {
    "colab": {
     "base_uri": "https://localhost:8080/"
    },
    "id": "cH_SACrr2zIt",
    "outputId": "4a8b2217-3f71-4507-b523-30c84379fdc7"
   },
   "outputs": [
    {
     "name": "stdout",
     "output_type": "stream",
     "text": [
      "Found GPU at: /device:GPU:0\n",
      "nvcc: NVIDIA (R) Cuda compiler driver\n",
      "Copyright (c) 2005-2020 NVIDIA Corporation\n",
      "Built on Mon_Nov_30_19:15:10_Pacific_Standard_Time_2020\n",
      "Cuda compilation tools, release 11.2, V11.2.67\n",
      "Build cuda_11.2.r11.2/compiler.29373293_0\n"
     ]
    }
   ],
   "source": [
    "physical_devices = tf.config.list_physical_devices('GPU') \n",
    "if len(physical_devices) > 0:\n",
    "    tf.config.experimental.set_memory_growth(physical_devices[0], True)\n",
    "    device_name = tf.test.gpu_device_name()\n",
    "    print('Found GPU at:', device_name)\n",
    "    !nvcc -V\n",
    "else: print('Using CPU')"
   ]
  },
  {
   "cell_type": "markdown",
   "id": "jsE4qkKQ5WLW",
   "metadata": {
    "id": "jsE4qkKQ5WLW"
   },
   "source": [
    "# Hyperparameters"
   ]
  },
  {
   "cell_type": "code",
   "execution_count": 3,
   "id": "7c68cfa9",
   "metadata": {},
   "outputs": [],
   "source": [
    "IGNORE_TEXTS = ['###']\n",
    "IMAGE_SIZE = 640 # Must be divisible by 32\n",
    "THRESH_MIN = 0.3\n",
    "THRESH_MAX = 0.7\n",
    "SHRINK_RATIO = 0.4\n",
    "\n",
    "MIN_BOX_SCORE = 0.5\n",
    "MAX_CANDIDATES = 1000\n",
    "IMAGE_SHORT_SIDE = 736 # Must be divisible by 32\n",
    "AREA_PRECISION_CONSTRAINT = 0.4\n",
    "AREA_RECALL_CONSTRAINT = 0.4"
   ]
  },
  {
   "cell_type": "code",
   "execution_count": 4,
   "id": "9dee8cb1",
   "metadata": {},
   "outputs": [],
   "source": [
    "TRAIN_PATHS_MAP = './datasets/train.txt'\n",
    "VALIDATE_PATHS_MAP = './datasets/validate.txt'\n",
    "TRAIN_BATCH_SIZE = 8\n",
    "VALIDATE_BATCH_SIZE = 1\n",
    "LEARNING_RATE = 1e-3\n",
    "EPOCHS = 50"
   ]
  },
  {
   "cell_type": "markdown",
   "id": "37746e4b",
   "metadata": {
    "id": "37746e4b"
   },
   "source": [
    "# Load the data"
   ]
  },
  {
   "cell_type": "code",
   "execution_count": 5,
   "id": "95c0b98e",
   "metadata": {
    "colab": {
     "base_uri": "https://localhost:8080/"
    },
    "id": "95c0b98e",
    "outputId": "02de6f04-283f-41c7-b0bc-f5b2d656bebb"
   },
   "outputs": [
    {
     "name": "stdout",
     "output_type": "stream",
     "text": [
      "[GET] Loading from ./datasets/train.txt: 1000 images\n",
      "[GET] Loading from ./datasets/validate.txt: 500 images\n"
     ]
    }
   ],
   "source": [
    "from tfdbnet.loader import AnnotationsImporter, DataGenerator\n",
    "train_annotations = AnnotationsImporter(TRAIN_PATHS_MAP)\n",
    "validate_annotations = AnnotationsImporter(VALIDATE_PATHS_MAP)"
   ]
  },
  {
   "cell_type": "code",
   "execution_count": 6,
   "id": "1b5790c4",
   "metadata": {
    "colab": {
     "base_uri": "https://localhost:8080/"
    },
    "id": "1b5790c4",
    "outputId": "25a0c23a-7ad9-403b-9639-ae2594ba3475"
   },
   "outputs": [
    {
     "name": "stdout",
     "output_type": "stream",
     "text": [
      "Number of images found: 1000 + 500 = 1500\n",
      "Number of bounding boxes in all images: 11886 + 5230 = 17116\n"
     ]
    }
   ],
   "source": [
    "print(\n",
    "    f'Number of images found:'\n",
    "    f' {train_annotations.images_count} + {validate_annotations.images_count} ='\n",
    "    f' {train_annotations.images_count + validate_annotations.images_count}\\n'\n",
    "    f'Number of bounding boxes in all images:'\n",
    "    f' {train_annotations.all_boxes_count} + {validate_annotations.all_boxes_count} ='\n",
    "    f' {train_annotations.all_boxes_count + validate_annotations.all_boxes_count}'\n",
    ")"
   ]
  },
  {
   "cell_type": "code",
   "execution_count": 7,
   "id": "05434ed0",
   "metadata": {
    "id": "05434ed0"
   },
   "outputs": [],
   "source": [
    "train_generator = DataGenerator(\n",
    "    train_annotations.annotations, \n",
    "    TRAIN_BATCH_SIZE, IMAGE_SIZE, IGNORE_TEXTS,  \n",
    "    THRESH_MIN, THRESH_MAX, SHRINK_RATIO, seed=2022\n",
    ")\n",
    "validate_generator = DataGenerator(\n",
    "    validate_annotations.annotations, \n",
    "    VALIDATE_BATCH_SIZE, IMAGE_SIZE, IGNORE_TEXTS, \n",
    "    THRESH_MIN, THRESH_MAX, SHRINK_RATIO, seed=None # No shuffle\n",
    ")"
   ]
  },
  {
   "cell_type": "markdown",
   "id": "5d975c4a",
   "metadata": {
    "id": "5d975c4a"
   },
   "source": [
    "# Build and compile the model"
   ]
  },
  {
   "cell_type": "code",
   "execution_count": 8,
   "id": "b9RnIgR15uI1",
   "metadata": {
    "colab": {
     "base_uri": "https://localhost:8080/"
    },
    "id": "b9RnIgR15uI1",
    "outputId": "42efe721-4920-454d-edbc-156eb9556b58",
    "scrolled": true
   },
   "outputs": [],
   "source": [
    "from tfdbnet.model import DBNet\n",
    "from tfdbnet.processor import PostProcessor\n",
    "post_processor = PostProcessor(min_box_score=MIN_BOX_SCORE, max_candidates=MAX_CANDIDATES)\n",
    "dbnet = DBNet(post_processor, backbone='ResNet18', k=50)"
   ]
  },
  {
   "cell_type": "code",
   "execution_count": 9,
   "id": "ae2f6e79",
   "metadata": {
    "id": "ae2f6e79",
    "scrolled": true
   },
   "outputs": [
    {
     "name": "stdout",
     "output_type": "stream",
     "text": [
      "Model: \"DBNet\"\n",
      "________________________________________________________________________________________________________________________\n",
      " Layer (type)                          Output Shape               Param #       Connected to                            \n",
      "========================================================================================================================\n",
      " image (InputLayer)                    [(None, None, None, 3)]    0             []                                      \n",
      "                                                                                                                        \n",
      " conv1 (Conv2D)                        (None, None, None, 64)     9408          ['image[0][0]']                         \n",
      "                                                                                                                        \n",
      " bn_conv1 (BatchNormalization)         (None, None, None, 64)     256           ['conv1[0][0]']                         \n",
      "                                                                                                                        \n",
      " conv1_relu (Activation)               (None, None, None, 64)     0             ['bn_conv1[0][0]']                      \n",
      "                                                                                                                        \n",
      " pool1 (MaxPooling2D)                  (None, None, None, 64)     0             ['conv1_relu[0][0]']                    \n",
      "                                                                                                                        \n",
      " padding2a_branch2a (ZeroPadding2D)    (None, None, None, 64)     0             ['pool1[0][0]']                         \n",
      "                                                                                                                        \n",
      " res2a_branch2a (Conv2D)               (None, None, None, 64)     36864         ['padding2a_branch2a[0][0]']            \n",
      "                                                                                                                        \n",
      " bn2a_branch2a (BatchNormalization)    (None, None, None, 64)     256           ['res2a_branch2a[0][0]']                \n",
      "                                                                                                                        \n",
      " res2a_branch2a_relu (Activation)      (None, None, None, 64)     0             ['bn2a_branch2a[0][0]']                 \n",
      "                                                                                                                        \n",
      " padding2a_branch2b (ZeroPadding2D)    (None, None, None, 64)     0             ['res2a_branch2a_relu[0][0]']           \n",
      "                                                                                                                        \n",
      " res2a_branch2b (Conv2D)               (None, None, None, 64)     36864         ['padding2a_branch2b[0][0]']            \n",
      "                                                                                                                        \n",
      " res2a_branch1 (Conv2D)                (None, None, None, 64)     4096          ['pool1[0][0]']                         \n",
      "                                                                                                                        \n",
      " bn2a_branch2b (BatchNormalization)    (None, None, None, 64)     256           ['res2a_branch2b[0][0]']                \n",
      "                                                                                                                        \n",
      " bn2a_branch1 (BatchNormalization)     (None, None, None, 64)     256           ['res2a_branch1[0][0]']                 \n",
      "                                                                                                                        \n",
      " res2a (Add)                           (None, None, None, 64)     0             ['bn2a_branch2b[0][0]',                 \n",
      "                                                                                 'bn2a_branch1[0][0]']                  \n",
      "                                                                                                                        \n",
      " res2a_relu (Activation)               (None, None, None, 64)     0             ['res2a[0][0]']                         \n",
      "                                                                                                                        \n",
      " padding2b1_branch2a (ZeroPadding2D)   (None, None, None, 64)     0             ['res2a_relu[0][0]']                    \n",
      "                                                                                                                        \n",
      " res2b1_branch2a (Conv2D)              (None, None, None, 64)     36864         ['padding2b1_branch2a[0][0]']           \n",
      "                                                                                                                        \n",
      " bn2b1_branch2a (BatchNormalization)   (None, None, None, 64)     256           ['res2b1_branch2a[0][0]']               \n",
      "                                                                                                                        \n",
      " res2b1_branch2a_relu (Activation)     (None, None, None, 64)     0             ['bn2b1_branch2a[0][0]']                \n",
      "                                                                                                                        \n",
      " padding2b1_branch2b (ZeroPadding2D)   (None, None, None, 64)     0             ['res2b1_branch2a_relu[0][0]']          \n",
      "                                                                                                                        \n",
      " res2b1_branch2b (Conv2D)              (None, None, None, 64)     36864         ['padding2b1_branch2b[0][0]']           \n",
      "                                                                                                                        \n",
      " bn2b1_branch2b (BatchNormalization)   (None, None, None, 64)     256           ['res2b1_branch2b[0][0]']               \n",
      "                                                                                                                        \n",
      " res2b1 (Add)                          (None, None, None, 64)     0             ['bn2b1_branch2b[0][0]',                \n",
      "                                                                                 'res2a_relu[0][0]']                    \n",
      "                                                                                                                        \n",
      " res2b1_relu (Activation)              (None, None, None, 64)     0             ['res2b1[0][0]']                        \n",
      "                                                                                                                        \n",
      " padding3a_branch2a (ZeroPadding2D)    (None, None, None, 64)     0             ['res2b1_relu[0][0]']                   \n",
      "                                                                                                                        \n",
      " res3a_branch2a (Conv2D)               (None, None, None, 128)    73728         ['padding3a_branch2a[0][0]']            \n",
      "                                                                                                                        \n",
      " bn3a_branch2a (BatchNormalization)    (None, None, None, 128)    512           ['res3a_branch2a[0][0]']                \n",
      "                                                                                                                        \n",
      " res3a_branch2a_relu (Activation)      (None, None, None, 128)    0             ['bn3a_branch2a[0][0]']                 \n",
      "                                                                                                                        \n",
      " padding3a_branch2b (ZeroPadding2D)    (None, None, None, 128)    0             ['res3a_branch2a_relu[0][0]']           \n",
      "                                                                                                                        \n",
      " res3a_branch2b (Conv2D)               (None, None, None, 128)    147456        ['padding3a_branch2b[0][0]']            \n",
      "                                                                                                                        \n",
      " res3a_branch1 (Conv2D)                (None, None, None, 128)    8192          ['res2b1_relu[0][0]']                   \n"
     ]
    },
    {
     "name": "stdout",
     "output_type": "stream",
     "text": [
      "                                                                                                                        \n",
      " bn3a_branch2b (BatchNormalization)    (None, None, None, 128)    512           ['res3a_branch2b[0][0]']                \n",
      "                                                                                                                        \n",
      " bn3a_branch1 (BatchNormalization)     (None, None, None, 128)    512           ['res3a_branch1[0][0]']                 \n",
      "                                                                                                                        \n",
      " res3a (Add)                           (None, None, None, 128)    0             ['bn3a_branch2b[0][0]',                 \n",
      "                                                                                 'bn3a_branch1[0][0]']                  \n",
      "                                                                                                                        \n",
      " res3a_relu (Activation)               (None, None, None, 128)    0             ['res3a[0][0]']                         \n",
      "                                                                                                                        \n",
      " padding3b1_branch2a (ZeroPadding2D)   (None, None, None, 128)    0             ['res3a_relu[0][0]']                    \n",
      "                                                                                                                        \n",
      " res3b1_branch2a (Conv2D)              (None, None, None, 128)    147456        ['padding3b1_branch2a[0][0]']           \n",
      "                                                                                                                        \n",
      " bn3b1_branch2a (BatchNormalization)   (None, None, None, 128)    512           ['res3b1_branch2a[0][0]']               \n",
      "                                                                                                                        \n",
      " res3b1_branch2a_relu (Activation)     (None, None, None, 128)    0             ['bn3b1_branch2a[0][0]']                \n",
      "                                                                                                                        \n",
      " padding3b1_branch2b (ZeroPadding2D)   (None, None, None, 128)    0             ['res3b1_branch2a_relu[0][0]']          \n",
      "                                                                                                                        \n",
      " res3b1_branch2b (Conv2D)              (None, None, None, 128)    147456        ['padding3b1_branch2b[0][0]']           \n",
      "                                                                                                                        \n",
      " bn3b1_branch2b (BatchNormalization)   (None, None, None, 128)    512           ['res3b1_branch2b[0][0]']               \n",
      "                                                                                                                        \n",
      " res3b1 (Add)                          (None, None, None, 128)    0             ['bn3b1_branch2b[0][0]',                \n",
      "                                                                                 'res3a_relu[0][0]']                    \n",
      "                                                                                                                        \n",
      " res3b1_relu (Activation)              (None, None, None, 128)    0             ['res3b1[0][0]']                        \n",
      "                                                                                                                        \n",
      " padding4a_branch2a (ZeroPadding2D)    (None, None, None, 128)    0             ['res3b1_relu[0][0]']                   \n",
      "                                                                                                                        \n",
      " res4a_branch2a (Conv2D)               (None, None, None, 256)    294912        ['padding4a_branch2a[0][0]']            \n",
      "                                                                                                                        \n",
      " bn4a_branch2a (BatchNormalization)    (None, None, None, 256)    1024          ['res4a_branch2a[0][0]']                \n",
      "                                                                                                                        \n",
      " res4a_branch2a_relu (Activation)      (None, None, None, 256)    0             ['bn4a_branch2a[0][0]']                 \n",
      "                                                                                                                        \n",
      " padding4a_branch2b (ZeroPadding2D)    (None, None, None, 256)    0             ['res4a_branch2a_relu[0][0]']           \n",
      "                                                                                                                        \n",
      " res4a_branch2b (Conv2D)               (None, None, None, 256)    589824        ['padding4a_branch2b[0][0]']            \n",
      "                                                                                                                        \n",
      " res4a_branch1 (Conv2D)                (None, None, None, 256)    32768         ['res3b1_relu[0][0]']                   \n",
      "                                                                                                                        \n",
      " bn4a_branch2b (BatchNormalization)    (None, None, None, 256)    1024          ['res4a_branch2b[0][0]']                \n",
      "                                                                                                                        \n",
      " bn4a_branch1 (BatchNormalization)     (None, None, None, 256)    1024          ['res4a_branch1[0][0]']                 \n",
      "                                                                                                                        \n",
      " res4a (Add)                           (None, None, None, 256)    0             ['bn4a_branch2b[0][0]',                 \n",
      "                                                                                 'bn4a_branch1[0][0]']                  \n",
      "                                                                                                                        \n",
      " res4a_relu (Activation)               (None, None, None, 256)    0             ['res4a[0][0]']                         \n",
      "                                                                                                                        \n",
      " padding4b1_branch2a (ZeroPadding2D)   (None, None, None, 256)    0             ['res4a_relu[0][0]']                    \n",
      "                                                                                                                        \n",
      " res4b1_branch2a (Conv2D)              (None, None, None, 256)    589824        ['padding4b1_branch2a[0][0]']           \n",
      "                                                                                                                        \n",
      " bn4b1_branch2a (BatchNormalization)   (None, None, None, 256)    1024          ['res4b1_branch2a[0][0]']               \n",
      "                                                                                                                        \n",
      " res4b1_branch2a_relu (Activation)     (None, None, None, 256)    0             ['bn4b1_branch2a[0][0]']                \n",
      "                                                                                                                        \n",
      " padding4b1_branch2b (ZeroPadding2D)   (None, None, None, 256)    0             ['res4b1_branch2a_relu[0][0]']          \n",
      "                                                                                                                        \n",
      " res4b1_branch2b (Conv2D)              (None, None, None, 256)    589824        ['padding4b1_branch2b[0][0]']           \n",
      "                                                                                                                        \n",
      " bn4b1_branch2b (BatchNormalization)   (None, None, None, 256)    1024          ['res4b1_branch2b[0][0]']               \n",
      "                                                                                                                        \n",
      " res4b1 (Add)                          (None, None, None, 256)    0             ['bn4b1_branch2b[0][0]',                \n",
      "                                                                                 'res4a_relu[0][0]']                    \n"
     ]
    },
    {
     "name": "stdout",
     "output_type": "stream",
     "text": [
      "                                                                                                                        \n",
      " res4b1_relu (Activation)              (None, None, None, 256)    0             ['res4b1[0][0]']                        \n",
      "                                                                                                                        \n",
      " padding5a_branch2a (ZeroPadding2D)    (None, None, None, 256)    0             ['res4b1_relu[0][0]']                   \n",
      "                                                                                                                        \n",
      " res5a_branch2a (Conv2D)               (None, None, None, 512)    1179648       ['padding5a_branch2a[0][0]']            \n",
      "                                                                                                                        \n",
      " bn5a_branch2a (BatchNormalization)    (None, None, None, 512)    2048          ['res5a_branch2a[0][0]']                \n",
      "                                                                                                                        \n",
      " res5a_branch2a_relu (Activation)      (None, None, None, 512)    0             ['bn5a_branch2a[0][0]']                 \n",
      "                                                                                                                        \n",
      " padding5a_branch2b (ZeroPadding2D)    (None, None, None, 512)    0             ['res5a_branch2a_relu[0][0]']           \n",
      "                                                                                                                        \n",
      " res5a_branch2b (Conv2D)               (None, None, None, 512)    2359296       ['padding5a_branch2b[0][0]']            \n",
      "                                                                                                                        \n",
      " res5a_branch1 (Conv2D)                (None, None, None, 512)    131072        ['res4b1_relu[0][0]']                   \n",
      "                                                                                                                        \n",
      " bn5a_branch2b (BatchNormalization)    (None, None, None, 512)    2048          ['res5a_branch2b[0][0]']                \n",
      "                                                                                                                        \n",
      " bn5a_branch1 (BatchNormalization)     (None, None, None, 512)    2048          ['res5a_branch1[0][0]']                 \n",
      "                                                                                                                        \n",
      " res5a (Add)                           (None, None, None, 512)    0             ['bn5a_branch2b[0][0]',                 \n",
      "                                                                                 'bn5a_branch1[0][0]']                  \n",
      "                                                                                                                        \n",
      " res5a_relu (Activation)               (None, None, None, 512)    0             ['res5a[0][0]']                         \n",
      "                                                                                                                        \n",
      " padding5b1_branch2a (ZeroPadding2D)   (None, None, None, 512)    0             ['res5a_relu[0][0]']                    \n",
      "                                                                                                                        \n",
      " res5b1_branch2a (Conv2D)              (None, None, None, 512)    2359296       ['padding5b1_branch2a[0][0]']           \n",
      "                                                                                                                        \n",
      " bn5b1_branch2a (BatchNormalization)   (None, None, None, 512)    2048          ['res5b1_branch2a[0][0]']               \n",
      "                                                                                                                        \n",
      " res5b1_branch2a_relu (Activation)     (None, None, None, 512)    0             ['bn5b1_branch2a[0][0]']                \n",
      "                                                                                                                        \n",
      " padding5b1_branch2b (ZeroPadding2D)   (None, None, None, 512)    0             ['res5b1_branch2a_relu[0][0]']          \n",
      "                                                                                                                        \n",
      " res5b1_branch2b (Conv2D)              (None, None, None, 512)    2359296       ['padding5b1_branch2b[0][0]']           \n",
      "                                                                                                                        \n",
      " bn5b1_branch2b (BatchNormalization)   (None, None, None, 512)    2048          ['res5b1_branch2b[0][0]']               \n",
      "                                                                                                                        \n",
      " res5b1 (Add)                          (None, None, None, 512)    0             ['bn5b1_branch2b[0][0]',                \n",
      "                                                                                 'res5a_relu[0][0]']                    \n",
      "                                                                                                                        \n",
      " res5b1_relu (Activation)              (None, None, None, 512)    0             ['res5b1[0][0]']                        \n",
      "                                                                                                                        \n",
      " in5 (ConvBnRelu)                      (None, None, None, 256)    132352        ['res5b1_relu[0][0]']                   \n",
      "                                                                                                                        \n",
      " up5 (UpSampling2D)                    (None, None, None, 256)    0             ['in5[0][0]']                           \n",
      "                                                                                                                        \n",
      " in4 (ConvBnRelu)                      (None, None, None, 256)    66816         ['res4b1_relu[0][0]']                   \n",
      "                                                                                                                        \n",
      " tf.__operators__.add (TFOpLambda)     (None, None, None, 256)    0             ['up5[0][0]',                           \n",
      "                                                                                 'in4[0][0]']                           \n",
      "                                                                                                                        \n",
      " up4 (UpSampling2D)                    (None, None, None, 256)    0             ['tf.__operators__.add[0][0]']          \n",
      "                                                                                                                        \n",
      " in3 (ConvBnRelu)                      (None, None, None, 256)    34048         ['res3b1_relu[0][0]']                   \n",
      "                                                                                                                        \n",
      " tf.__operators__.add_1 (TFOpLambda)   (None, None, None, 256)    0             ['up4[0][0]',                           \n",
      "                                                                                 'in3[0][0]']                           \n",
      "                                                                                                                        \n",
      " up3 (UpSampling2D)                    (None, None, None, 256)    0             ['tf.__operators__.add_1[0][0]']        \n",
      "                                                                                                                        \n",
      " in2 (ConvBnRelu)                      (None, None, None, 256)    17664         ['res2b1_relu[0][0]']                   \n",
      "                                                                                                                        \n",
      " tf.__operators__.add_2 (TFOpLambda)   (None, None, None, 256)    0             ['up3[0][0]',                           \n",
      "                                                                                 'in2[0][0]']                           \n",
      "                                                                                                                        \n"
     ]
    },
    {
     "name": "stdout",
     "output_type": "stream",
     "text": [
      " P2 (ConvBnRelu)                       (None, None, None, 64)     147776        ['tf.__operators__.add_2[0][0]']        \n",
      "                                                                                                                        \n",
      " P3 (Sequential)                       (None, None, None, 64)     147776        ['tf.__operators__.add_1[0][0]']        \n",
      "                                                                                                                        \n",
      " P4 (Sequential)                       (None, None, None, 64)     147776        ['tf.__operators__.add[0][0]']          \n",
      "                                                                                                                        \n",
      " P5 (Sequential)                       (None, None, None, 64)     147776        ['in5[0][0]']                           \n",
      "                                                                                                                        \n",
      " fuse (Concatenate)                    (None, None, None, 256)    0             ['P2[0][0]',                            \n",
      "                                                                                 'P3[0][0]',                            \n",
      "                                                                                 'P4[0][0]',                            \n",
      "                                                                                 'P5[0][0]']                            \n",
      "                                                                                                                        \n",
      " probability_map (DeConvMap)           (None, None, None)         164609        ['fuse[0][0]']                          \n",
      "                                                                                                                        \n",
      " threshold_map (DeConvMap)             (None, None, None)         164609        ['fuse[0][0]']                          \n",
      "                                                                                                                        \n",
      " approximate_binary_map (Lambda)       (None, None, None)         0             ['probability_map[0][0]',               \n",
      "                                                                                 'threshold_map[0][0]']                 \n",
      "                                                                                                                        \n",
      "========================================================================================================================\n",
      "Total params: 12,361,666\n",
      "Trainable params: 12,348,866\n",
      "Non-trainable params: 12,800\n",
      "________________________________________________________________________________________________________________________\n"
     ]
    }
   ],
   "source": [
    "from tensorflow.keras.optimizers import Adam\n",
    "from tfdbnet.losses import DBLoss\n",
    "dbnet.compile(\n",
    "    optimizer = Adam(learning_rate=LEARNING_RATE, amsgrad=True), \n",
    "    loss = DBLoss(alpha=5.0, beta=10.0, negative_ratio=3.0)\n",
    ")\n",
    "dbnet.model.summary(line_length=120)"
   ]
  },
  {
   "cell_type": "markdown",
   "id": "8019d2bd",
   "metadata": {},
   "source": [
    "# Callbacks"
   ]
  },
  {
   "cell_type": "code",
   "execution_count": 10,
   "id": "d1c90787",
   "metadata": {},
   "outputs": [
    {
     "data": {
      "application/vnd.jupyter.widget-view+json": {
       "model_id": "c305c72f4ee443e9863d33c9bc1b22eb",
       "version_major": 2,
       "version_minor": 0
      },
      "text/plain": [
       "Reading evaluation images:   0%|          | 0/500 [00:00<?, ?image/s]"
      ]
     },
     "metadata": {},
     "output_type": "display_data"
    }
   ],
   "source": [
    "from tensorflow.keras.callbacks import EarlyStopping\n",
    "from tfdbnet.metrics import TedEvalMetric\n",
    "from tqdm.notebook import tqdm\n",
    "\n",
    "# Stop if no improvement after 10 epochs\n",
    "early_stopping_callback = EarlyStopping(patience=10, restore_best_weights=True, verbose=1)\n",
    "\n",
    "# Calculate TedEvalMetric after 10 epochs\n",
    "tedeval_callback = TedEvalMetric(\n",
    "    true_annotations = validate_annotations.annotations, \n",
    "    ignore_texts = IGNORE_TEXTS, \n",
    "    min_box_score = MIN_BOX_SCORE,\n",
    "    image_short_side = IMAGE_SHORT_SIDE,\n",
    "    area_precision_constraint = AREA_PRECISION_CONSTRAINT,\n",
    "    area_recall_constraint = AREA_RECALL_CONSTRAINT,\n",
    "    progressbar = tqdm,\n",
    "    eval_best_weights = True, # Restore the best model and evaluate it on train end \n",
    "    eval_steps = 10,\n",
    ")"
   ]
  },
  {
   "cell_type": "markdown",
   "id": "71bde2f0",
   "metadata": {
    "id": "71bde2f0"
   },
   "source": [
    "# Training"
   ]
  },
  {
   "cell_type": "code",
   "execution_count": 11,
   "id": "0e6c3f9e",
   "metadata": {
    "colab": {
     "base_uri": "https://localhost:8080/"
    },
    "id": "0e6c3f9e",
    "outputId": "d071771f-ae47-4f86-a79c-6c9612541ffc",
    "scrolled": false
   },
   "outputs": [
    {
     "name": "stdout",
     "output_type": "stream",
     "text": [
      "Epoch 1/50\n",
      "125/125 [==============================] - 65s 453ms/step - loss: 5.4202 - val_loss: 19.2997\n",
      "Epoch 2/50\n",
      "125/125 [==============================] - 56s 447ms/step - loss: 4.6432 - val_loss: 5.0952\n",
      "Epoch 3/50\n",
      "125/125 [==============================] - 56s 446ms/step - loss: 4.4101 - val_loss: 4.9888\n",
      "Epoch 4/50\n",
      "125/125 [==============================] - 56s 448ms/step - loss: 4.2459 - val_loss: 4.6824\n",
      "Epoch 5/50\n",
      "125/125 [==============================] - 56s 448ms/step - loss: 4.1368 - val_loss: 3.2654\n",
      "Epoch 6/50\n",
      "125/125 [==============================] - 56s 448ms/step - loss: 4.0628 - val_loss: 2.8696\n",
      "Epoch 7/50\n",
      "125/125 [==============================] - 56s 444ms/step - loss: 3.9905 - val_loss: 4.4548\n",
      "Epoch 8/50\n",
      "125/125 [==============================] - 56s 449ms/step - loss: 3.9001 - val_loss: 2.4483\n",
      "Epoch 9/50\n",
      "125/125 [==============================] - 56s 447ms/step - loss: 3.8021 - val_loss: 2.6983\n",
      "Epoch 10/50\n",
      "125/125 [==============================] - ETA: 0s - loss: 3.7491"
     ]
    },
    {
     "data": {
      "application/vnd.jupyter.widget-view+json": {
       "model_id": "10f260fa93554fee9b789c8a6ccfc780",
       "version_major": 2,
       "version_minor": 0
      },
      "text/plain": [
       "Predicting bounding boxes:   0%|          | 0/500 [00:00<?, ?image/s]"
      ]
     },
     "metadata": {},
     "output_type": "display_data"
    },
    {
     "data": {
      "application/vnd.jupyter.widget-view+json": {
       "model_id": "554438133c264973a219e20c574e4a40",
       "version_major": 2,
       "version_minor": 0
      },
      "text/plain": [
       "Calculating TedEval metric:   0%|          | 0/500 [00:00<?, ?image/s]"
      ]
     },
     "metadata": {},
     "output_type": "display_data"
    },
    {
     "name": "stdout",
     "output_type": "stream",
     "text": [
      "Average metrics for all evaluation images - precision: 0.8458 - recall: 0.0193 - hmean: 0.0378\n",
      "125/125 [==============================] - 96s 768ms/step - loss: 3.7489 - val_loss: 2.7792\n",
      "Epoch 11/50\n",
      "125/125 [==============================] - 56s 449ms/step - loss: 3.7234 - val_loss: 3.0446\n",
      "Epoch 12/50\n",
      "125/125 [==============================] - 56s 451ms/step - loss: 3.6347 - val_loss: 2.7378\n",
      "Epoch 13/50\n",
      "125/125 [==============================] - 56s 447ms/step - loss: 3.5791 - val_loss: 2.6055\n",
      "Epoch 14/50\n",
      "125/125 [==============================] - 55s 444ms/step - loss: 3.4497 - val_loss: 3.0416\n",
      "Epoch 15/50\n",
      "125/125 [==============================] - 56s 446ms/step - loss: 3.4445 - val_loss: 2.1766\n",
      "Epoch 16/50\n",
      "125/125 [==============================] - 56s 444ms/step - loss: 3.3027 - val_loss: 2.0397\n",
      "Epoch 17/50\n",
      "125/125 [==============================] - 56s 446ms/step - loss: 3.2798 - val_loss: 1.9219\n",
      "Epoch 18/50\n",
      "125/125 [==============================] - 56s 446ms/step - loss: 3.1748 - val_loss: 2.1310\n",
      "Epoch 19/50\n",
      "125/125 [==============================] - 55s 441ms/step - loss: 3.1099 - val_loss: 2.1660\n",
      "Epoch 20/50\n",
      "125/125 [==============================] - ETA: 0s - loss: 3.1162"
     ]
    },
    {
     "data": {
      "application/vnd.jupyter.widget-view+json": {
       "model_id": "e049077e3543427ea584aad00d75d0c5",
       "version_major": 2,
       "version_minor": 0
      },
      "text/plain": [
       "Predicting bounding boxes:   0%|          | 0/500 [00:00<?, ?image/s]"
      ]
     },
     "metadata": {},
     "output_type": "display_data"
    },
    {
     "data": {
      "application/vnd.jupyter.widget-view+json": {
       "model_id": "6064f2fd05e044f997d9c3134ff6f639",
       "version_major": 2,
       "version_minor": 0
      },
      "text/plain": [
       "Calculating TedEval metric:   0%|          | 0/500 [00:00<?, ?image/s]"
      ]
     },
     "metadata": {},
     "output_type": "display_data"
    },
    {
     "name": "stdout",
     "output_type": "stream",
     "text": [
      "Average metrics for all evaluation images - precision: 0.7897 - recall: 0.5518 - hmean: 0.6496\n",
      "125/125 [==============================] - 97s 780ms/step - loss: 3.1120 - val_loss: 2.0326\n",
      "Epoch 21/50\n",
      "125/125 [==============================] - 55s 441ms/step - loss: 2.9665 - val_loss: 2.0545\n",
      "Epoch 22/50\n",
      "125/125 [==============================] - 56s 445ms/step - loss: 2.8954 - val_loss: 2.5853\n",
      "Epoch 23/50\n",
      "125/125 [==============================] - 56s 445ms/step - loss: 2.8443 - val_loss: 2.2837\n",
      "Epoch 24/50\n",
      "125/125 [==============================] - 56s 444ms/step - loss: 2.6669 - val_loss: 1.8695\n",
      "Epoch 25/50\n",
      "125/125 [==============================] - 55s 441ms/step - loss: 2.5200 - val_loss: 1.9601\n",
      "Epoch 26/50\n",
      "125/125 [==============================] - 56s 447ms/step - loss: 2.4904 - val_loss: 2.1776\n",
      "Epoch 27/50\n",
      "125/125 [==============================] - 56s 446ms/step - loss: 2.4361 - val_loss: 1.8153\n",
      "Epoch 28/50\n",
      "125/125 [==============================] - 55s 443ms/step - loss: 2.3674 - val_loss: 1.6020\n",
      "Epoch 29/50\n",
      "125/125 [==============================] - 55s 442ms/step - loss: 2.2414 - val_loss: 2.0039\n",
      "Epoch 30/50\n",
      "125/125 [==============================] - ETA: 0s - loss: 2.1121"
     ]
    },
    {
     "data": {
      "application/vnd.jupyter.widget-view+json": {
       "model_id": "97346d7a8aea43f685b9735cfa780a26",
       "version_major": 2,
       "version_minor": 0
      },
      "text/plain": [
       "Predicting bounding boxes:   0%|          | 0/500 [00:00<?, ?image/s]"
      ]
     },
     "metadata": {},
     "output_type": "display_data"
    },
    {
     "data": {
      "application/vnd.jupyter.widget-view+json": {
       "model_id": "2e80f62a816445ffa4387ac35f10a3cd",
       "version_major": 2,
       "version_minor": 0
      },
      "text/plain": [
       "Calculating TedEval metric:   0%|          | 0/500 [00:00<?, ?image/s]"
      ]
     },
     "metadata": {},
     "output_type": "display_data"
    },
    {
     "name": "stdout",
     "output_type": "stream",
     "text": [
      "Average metrics for all evaluation images - precision: 0.7573 - recall: 0.5464 - hmean: 0.6348\n",
      "125/125 [==============================] - 98s 785ms/step - loss: 2.1082 - val_loss: 1.7634\n",
      "Epoch 31/50\n",
      "125/125 [==============================] - 56s 446ms/step - loss: 1.9890 - val_loss: 2.1951\n",
      "Epoch 32/50\n",
      "125/125 [==============================] - 56s 449ms/step - loss: 1.9048 - val_loss: 2.0393\n",
      "Epoch 33/50\n",
      "125/125 [==============================] - 55s 442ms/step - loss: 1.8188 - val_loss: 1.6187\n",
      "Epoch 34/50\n",
      "125/125 [==============================] - 55s 443ms/step - loss: 1.8913 - val_loss: 1.7928\n",
      "Epoch 35/50\n",
      "125/125 [==============================] - 55s 442ms/step - loss: 1.9094 - val_loss: 2.1275\n",
      "Epoch 36/50\n",
      "125/125 [==============================] - 55s 443ms/step - loss: 1.6374 - val_loss: 2.1171\n",
      "Epoch 37/50\n",
      "125/125 [==============================] - 56s 445ms/step - loss: 1.5108 - val_loss: 2.3304\n",
      "Epoch 38/50\n",
      "125/125 [==============================] - ETA: 0s - loss: 1.4272Restoring model weights from the end of the best epoch: 28.\n",
      "125/125 [==============================] - 56s 447ms/step - loss: 1.4257 - val_loss: 2.2225\n",
      "Epoch 38: early stopping\n",
      "\n",
      "Final evaluation with the best weights from epoch: 28\n"
     ]
    },
    {
     "data": {
      "application/vnd.jupyter.widget-view+json": {
       "model_id": "591587d3e7694107933fee0cd14849e3",
       "version_major": 2,
       "version_minor": 0
      },
      "text/plain": [
       "Predicting bounding boxes:   0%|          | 0/500 [00:00<?, ?image/s]"
      ]
     },
     "metadata": {},
     "output_type": "display_data"
    },
    {
     "data": {
      "application/vnd.jupyter.widget-view+json": {
       "model_id": "84702f485906458e9325ff84f742a64d",
       "version_major": 2,
       "version_minor": 0
      },
      "text/plain": [
       "Calculating TedEval metric:   0%|          | 0/500 [00:00<?, ?image/s]"
      ]
     },
     "metadata": {},
     "output_type": "display_data"
    },
    {
     "name": "stdout",
     "output_type": "stream",
     "text": [
      "Average metrics for all evaluation images - precision: 0.7039 - recall: 0.6058 - hmean: 0.6512\n",
      "CPU times: total: 1h 6min 28s\n",
      "Wall time: 38min 12s\n"
     ]
    }
   ],
   "source": [
    "%%time\n",
    "history = dbnet.fit(\n",
    "    train_generator,\n",
    "    validation_data = validate_generator,\n",
    "    validation_steps = len(validate_generator),\n",
    "    steps_per_epoch = len(train_generator),\n",
    "    epochs = EPOCHS,\n",
    "    callbacks = [early_stopping_callback, tedeval_callback],\n",
    "    verbose = 1\n",
    ").history\n",
    "dbnet.model.save_weights('dbnet.h5')"
   ]
  },
  {
   "cell_type": "markdown",
   "id": "9c2b0218",
   "metadata": {},
   "source": [
    "# Inference"
   ]
  },
  {
   "cell_type": "code",
   "execution_count": 12,
   "id": "1e10b5af",
   "metadata": {},
   "outputs": [],
   "source": [
    "import cv2\n",
    "from tfdbnet.utils import resize_image_short_side, draw_predictions\n",
    "raw_image = cv2.cvtColor(cv2.imread('test.jpg'), cv2.COLOR_BGR2RGB)\n",
    "image = resize_image_short_side(raw_image, image_short_side=IMAGE_SHORT_SIDE)\n",
    "image = image.astype(float) / 255.0"
   ]
  },
  {
   "cell_type": "code",
   "execution_count": 13,
   "id": "35c0c08f",
   "metadata": {},
   "outputs": [
    {
     "data": {
      "image/png": "[encoded data removed]",
      "text/plain": [
       "<Figure size 1080x504 with 1 Axes>"
      ]
     },
     "metadata": {
      "needs_background": "light"
     },
     "output_type": "display_data"
    }
   ],
   "source": [
    "batch_boxes, batch_scores = dbnet.predict(\n",
    "    batch_images = tf.expand_dims(image, 0), \n",
    "    batch_true_sizes = [raw_image.shape[:2]], \n",
    "    output_polygon = True\n",
    ")\n",
    "draw_predictions(raw_image, batch_boxes[0], batch_scores[0])"
   ]
  }
 ],
 "metadata": {
  "accelerator": "GPU",
  "colab": {
   "collapsed_sections": [],
   "include_colab_link": true,
   "machine_shape": "hm",
   "name": "demo.ipynb",
   "provenance": []
  },
  "kernelspec": {
   "display_name": "Python 3 (ipykernel)",
   "language": "python",
   "name": "python3"
  },
  "language_info": {
   "codemirror_mode": {
    "name": "ipython",
    "version": 3
   },
   "file_extension": ".py",
   "mimetype": "text/x-python",
   "name": "python",
   "nbconvert_exporter": "python",
   "pygments_lexer": "ipython3",
   "version": "3.8.13"
  },
  "widgets": {
   "application/vnd.jupyter.widget-state+json": {
    "state": {
     "0031b27d404242bab3bef90b85ffa61c": {
      "model_module": "@jupyter-widgets/controls",
      "model_module_version": "1.5.0",
      "model_name": "DescriptionStyleModel",
      "state": {
       "description_width": ""
      }
     },
     "00a5020733194d7b9d16e4f23a53b864": {
      "model_module": "@jupyter-widgets/controls",
      "model_module_version": "1.5.0",
      "model_name": "ProgressStyleModel",
      "state": {
       "description_width": ""
      }
     },
     "0149a32ba3b64e25a76ba627ce102a99": {
      "model_module": "@jupyter-widgets/controls",
      "model_module_version": "1.5.0",
      "model_name": "FloatProgressModel",
      "state": {
       "bar_style": "success",
       "layout": "IPY_MODEL_63cbaa2c6a7345ffb8664d1566fafad0",
       "max": 500,
       "style": "IPY_MODEL_ef7b04f5bdd54adf8b3707fc57986ddb",
       "value": 500
      }
     },
     "01574ea3bb1d4c46a331e81772028696": {
      "model_module": "@jupyter-widgets/controls",
      "model_module_version": "1.5.0",
      "model_name": "FloatProgressModel",
      "state": {
       "bar_style": "success",
       "layout": "IPY_MODEL_d748626d809f437395ebe211e430a643",
       "max": 500,
       "style": "IPY_MODEL_f25dcd744fdc48f1a277a2f5ef91bd3f",
       "value": 500
      }
     },
     "01772cc594324162a0a65c9bda2c57a7": {
      "model_module": "@jupyter-widgets/controls",
      "model_module_version": "1.5.0",
      "model_name": "FloatProgressModel",
      "state": {
       "bar_style": "success",
       "layout": "IPY_MODEL_5339e8d6b1494c648f02c1d9be0b2f9e",
       "max": 500,
       "style": "IPY_MODEL_2a051f57e21d488598c0ec1d3dab3ac8",
       "value": 500
      }
     },
     "01f365a5bb004f418fd9e94d1261c997": {
      "model_module": "@jupyter-widgets/controls",
      "model_module_version": "1.5.0",
      "model_name": "DescriptionStyleModel",
      "state": {
       "description_width": ""
      }
     },
     "028d9f8bdd1e46b889bc917069bbd8f6": {
      "model_module": "@jupyter-widgets/controls",
      "model_module_version": "1.5.0",
      "model_name": "ProgressStyleModel",
      "state": {
       "description_width": ""
      }
     },
     "02e074d3cc02488f8d00852f82580dfd": {
      "model_module": "@jupyter-widgets/controls",
      "model_module_version": "1.5.0",
      "model_name": "HTMLModel",
      "state": {
       "layout": "IPY_MODEL_78d14f5344cd47cf8e2cf341abd863a6",
       "style": "IPY_MODEL_abc5740507b945fcace53a5abcdfa3f5",
       "value": "Calculating TedEval metric: 100%"
      }
     },
     "033858eb484e43838f208491213bdaa0": {
      "model_module": "@jupyter-widgets/controls",
      "model_module_version": "1.5.0",
      "model_name": "HTMLModel",
      "state": {
       "layout": "IPY_MODEL_b54248886c5740ebad3f9f8cee3d1784",
       "style": "IPY_MODEL_6da8e0639a364927a6c97584b4a3826e",
       "value": " 500/500 [00:39&lt;00:00, 12.94image/s]"
      }
     },
     "03a24ef66dc24d639a29edc3f6cc2bba": {
      "model_module": "@jupyter-widgets/controls",
      "model_module_version": "1.5.0",
      "model_name": "ProgressStyleModel",
      "state": {
       "description_width": ""
      }
     },
     "03cbdb1734d747c5a793f5a87c908f83": {
      "model_module": "@jupyter-widgets/base",
      "model_module_version": "1.2.0",
      "model_name": "LayoutModel",
      "state": {}
     },
     "044b6481db774fc3b1a458570ad907d5": {
      "model_module": "@jupyter-widgets/controls",
      "model_module_version": "1.5.0",
      "model_name": "HTMLModel",
      "state": {
       "layout": "IPY_MODEL_ddce97bd152549869231d4872a7e1bf0",
       "style": "IPY_MODEL_0975257c00d94f90aca72c0c57782f99",
       "value": "Predicting bounding boxes: 100%"
      }
     },
     "04533157408d47db9d92858445f49205": {
      "model_module": "@jupyter-widgets/base",
      "model_module_version": "1.2.0",
      "model_name": "LayoutModel",
      "state": {}
     },
     "0485324e8c2f42ffbe41a4ea91a90fc3": {
      "model_module": "@jupyter-widgets/controls",
      "model_module_version": "1.5.0",
      "model_name": "DescriptionStyleModel",
      "state": {
       "description_width": ""
      }
     },
     "04873160957c444595c93be42812b768": {
      "model_module": "@jupyter-widgets/controls",
      "model_module_version": "1.5.0",
      "model_name": "DescriptionStyleModel",
      "state": {
       "description_width": ""
      }
     },
     "04f852fe1acc4029a93ec92f0d92f45e": {
      "model_module": "@jupyter-widgets/controls",
      "model_module_version": "1.5.0",
      "model_name": "DescriptionStyleModel",
      "state": {
       "description_width": ""
      }
     },
     "0508d09ac9f84b418bc4cb9ead5102a5": {
      "model_module": "@jupyter-widgets/controls",
      "model_module_version": "1.5.0",
      "model_name": "DescriptionStyleModel",
      "state": {
       "description_width": ""
      }
     },
     "0518dc4d598b4c7f86532a1b80bbd28a": {
      "model_module": "@jupyter-widgets/controls",
      "model_module_version": "1.5.0",
      "model_name": "ProgressStyleModel",
      "state": {
       "description_width": ""
      }
     },
     "051da362f24d4158b8a19f3b1ace0841": {
      "model_module": "@jupyter-widgets/controls",
      "model_module_version": "1.5.0",
      "model_name": "FloatProgressModel",
      "state": {
       "bar_style": "success",
       "layout": "IPY_MODEL_a7d07824b46b425697e7ddf5d0fea490",
       "max": 500,
       "style": "IPY_MODEL_9839948092e1402385bda17fae438b8a",
       "value": 500
      }
     },
     "054503244b724204a0192cb4ae9fd9ec": {
      "model_module": "@jupyter-widgets/controls",
      "model_module_version": "1.5.0",
      "model_name": "ProgressStyleModel",
      "state": {
       "description_width": ""
      }
     },
     "056fdd5f9e014d84992bd36f0a82ced4": {
      "model_module": "@jupyter-widgets/controls",
      "model_module_version": "1.5.0",
      "model_name": "HTMLModel",
      "state": {
       "layout": "IPY_MODEL_8f33c712f3844f06bec5fa0492364bff",
       "style": "IPY_MODEL_deae87d04e194153a349de2449785bd1",
       "value": " 500/500 [00:06&lt;00:00, 70.46image/s]"
      }
     },
     "059104b2518a48428776726c6f573763": {
      "model_module": "@jupyter-widgets/base",
      "model_module_version": "1.2.0",
      "model_name": "LayoutModel",
      "state": {}
     },
     "065ffccbeb444bfa82abf6c305eb1ded": {
      "model_module": "@jupyter-widgets/controls",
      "model_module_version": "1.5.0",
      "model_name": "ProgressStyleModel",
      "state": {
       "description_width": ""
      }
     },
     "066a99e521f14e7f8b9aacedadb22a56": {
      "model_module": "@jupyter-widgets/controls",
      "model_module_version": "1.5.0",
      "model_name": "HTMLModel",
      "state": {
       "layout": "IPY_MODEL_3366f54b69ee44719a4fd90b57fca308",
       "style": "IPY_MODEL_d068f2c71d934f9d9080a7c86d4926bf",
       "value": "Predicting bounding boxes: 100%"
      }
     },
     "06defaf577b54fc3a4bdb6b5d77f2dec": {
      "model_module": "@jupyter-widgets/controls",
      "model_module_version": "1.5.0",
      "model_name": "HBoxModel",
      "state": {
       "children": [
        "IPY_MODEL_1114148fe7b647739ca3846567a9408a",
        "IPY_MODEL_93a518815d194ec4b11ca46a4363275d",
        "IPY_MODEL_dc23003d316148d59e407c560b5c44ac"
       ],
       "layout": "IPY_MODEL_849e72a87c304f48b625e970902fe6e0"
      }
     },
     "06ece05c08d848a887b3e1da406470b8": {
      "model_module": "@jupyter-widgets/base",
      "model_module_version": "1.2.0",
      "model_name": "LayoutModel",
      "state": {}
     },
     "070ec35b8fa0449a91275d88860762f9": {
      "model_module": "@jupyter-widgets/controls",
      "model_module_version": "1.5.0",
      "model_name": "ProgressStyleModel",
      "state": {
       "description_width": ""
      }
     },
     "074858893a2743ff8402ad443310441d": {
      "model_module": "@jupyter-widgets/controls",
      "model_module_version": "1.5.0",
      "model_name": "HBoxModel",
      "state": {
       "children": [
        "IPY_MODEL_3754a9ba9e7544a59928f2b1ebfd0b74",
        "IPY_MODEL_051da362f24d4158b8a19f3b1ace0841",
        "IPY_MODEL_056fdd5f9e014d84992bd36f0a82ced4"
       ],
       "layout": "IPY_MODEL_dc2d89e0c3194f89972fff0d1244bda8"
      }
     },
     "077ae5d9396f4fc1b263456c6a62d6d0": {
      "model_module": "@jupyter-widgets/controls",
      "model_module_version": "1.5.0",
      "model_name": "HTMLModel",
      "state": {
       "layout": "IPY_MODEL_39f8a36dfbb2430bb704d2c9bbfdc805",
       "style": "IPY_MODEL_8ac7d99e100544f9b3f2a277098ec828",
       "value": " 500/500 [00:00&lt;00:00, 608.98image/s]"
      }
     },
     "0837ad8f145b49c58fc2ffb86d43e9f4": {
      "model_module": "@jupyter-widgets/base",
      "model_module_version": "1.2.0",
      "model_name": "LayoutModel",
      "state": {}
     },
     "088aae4c93504cf686189fcfeb22ea85": {
      "model_module": "@jupyter-widgets/base",
      "model_module_version": "1.2.0",
      "model_name": "LayoutModel",
      "state": {}
     },
     "08a6f893e4724dcd9d78c8676895e80a": {
      "model_module": "@jupyter-widgets/controls",
      "model_module_version": "1.5.0",
      "model_name": "FloatProgressModel",
      "state": {
       "bar_style": "success",
       "layout": "IPY_MODEL_06ece05c08d848a887b3e1da406470b8",
       "max": 500,
       "style": "IPY_MODEL_2f5c374ea8c546e9a4b54be95b5530c9",
       "value": 500
      }
     },
     "08ebbd40473c4357922109a8173289ef": {
      "model_module": "@jupyter-widgets/base",
      "model_module_version": "1.2.0",
      "model_name": "LayoutModel",
      "state": {}
     },
     "0975257c00d94f90aca72c0c57782f99": {
      "model_module": "@jupyter-widgets/controls",
      "model_module_version": "1.5.0",
      "model_name": "DescriptionStyleModel",
      "state": {
       "description_width": ""
      }
     },
     "09bf38f0d506411d8a1fcf989e229cd3": {
      "model_module": "@jupyter-widgets/controls",
      "model_module_version": "1.5.0",
      "model_name": "ProgressStyleModel",
      "state": {
       "description_width": ""
      }
     },
     "09d48fe6d35f445fad3d783dfefa755a": {
      "model_module": "@jupyter-widgets/base",
      "model_module_version": "1.2.0",
      "model_name": "LayoutModel",
      "state": {}
     },
     "0a099d4bc37f4f8693ced684ebc21099": {
      "model_module": "@jupyter-widgets/base",
      "model_module_version": "1.2.0",
      "model_name": "LayoutModel",
      "state": {}
     },
     "0a451fc8cb414bd38fd96b321e43536a": {
      "model_module": "@jupyter-widgets/controls",
      "model_module_version": "1.5.0",
      "model_name": "DescriptionStyleModel",
      "state": {
       "description_width": ""
      }
     },
     "0b609ced75384796aa9807f32cfd1f27": {
      "model_module": "@jupyter-widgets/base",
      "model_module_version": "1.2.0",
      "model_name": "LayoutModel",
      "state": {}
     },
     "0ba21198b7e244cea447e43ad05b4458": {
      "model_module": "@jupyter-widgets/controls",
      "model_module_version": "1.5.0",
      "model_name": "HBoxModel",
      "state": {
       "children": [
        "IPY_MODEL_75d2d66a35ad4a9a9f835158896ad2b6",
        "IPY_MODEL_7906a2272a2540a5bdacf93633279aeb",
        "IPY_MODEL_b90298e591c6421082ef378f3b660fd4"
       ],
       "layout": "IPY_MODEL_20283013bcaf4014aa67266cb6416bc4"
      }
     },
     "0c6d175db42c45df9dffe904f8684e39": {
      "model_module": "@jupyter-widgets/base",
      "model_module_version": "1.2.0",
      "model_name": "LayoutModel",
      "state": {}
     },
     "0d2760ca2afd480abb5a66d53290a562": {
      "model_module": "@jupyter-widgets/base",
      "model_module_version": "1.2.0",
      "model_name": "LayoutModel",
      "state": {}
     },
     "0d81a02a0b29456f8aefd92e94b2eec3": {
      "model_module": "@jupyter-widgets/controls",
      "model_module_version": "1.5.0",
      "model_name": "DescriptionStyleModel",
      "state": {
       "description_width": ""
      }
     },
     "0dc61368bb8b401ba3db552518f824a8": {
      "model_module": "@jupyter-widgets/controls",
      "model_module_version": "1.5.0",
      "model_name": "ProgressStyleModel",
      "state": {
       "description_width": ""
      }
     },
     "0de22103e34a408793b6e1590a1cbce8": {
      "model_module": "@jupyter-widgets/controls",
      "model_module_version": "1.5.0",
      "model_name": "DescriptionStyleModel",
      "state": {
       "description_width": ""
      }
     },
     "0e1022212eee472fbe505ba2a8c7e81b": {
      "model_module": "@jupyter-widgets/base",
      "model_module_version": "1.2.0",
      "model_name": "LayoutModel",
      "state": {}
     },
     "0e623dbebe9b45bdb3dbec4d71552aab": {
      "model_module": "@jupyter-widgets/controls",
      "model_module_version": "1.5.0",
      "model_name": "HTMLModel",
      "state": {
       "layout": "IPY_MODEL_c9ad0de8ef63478d91e85b59d661b4d7",
       "style": "IPY_MODEL_62eaa16ce8ba4ec0adacd2c8b2cbed29",
       "value": "Predicting bounding boxes: 100%"
      }
     },
     "0f4230cafd794f6ca9402f8073501994": {
      "model_module": "@jupyter-widgets/controls",
      "model_module_version": "1.5.0",
      "model_name": "HBoxModel",
      "state": {
       "children": [
        "IPY_MODEL_d2450b80352342b39cbe9d2c9c9ff39b",
        "IPY_MODEL_305eb5bbc0414398b7c61e025374b8e2",
        "IPY_MODEL_8b1f39fb3f2846928771f8fa2ea9d064"
       ],
       "layout": "IPY_MODEL_762ee334718843a9889efa7b825997ba"
      }
     },
     "0f4c859965db46b899fd975d38d91eb8": {
      "model_module": "@jupyter-widgets/base",
      "model_module_version": "1.2.0",
      "model_name": "LayoutModel",
      "state": {}
     },
     "0f6d3e406b224712a286d3cb10bca311": {
      "model_module": "@jupyter-widgets/controls",
      "model_module_version": "1.5.0",
      "model_name": "ProgressStyleModel",
      "state": {
       "description_width": ""
      }
     },
     "0f72cc18d25d472a90f41855beb2e818": {
      "model_module": "@jupyter-widgets/base",
      "model_module_version": "1.2.0",
      "model_name": "LayoutModel",
      "state": {}
     },
     "0f9d377aff594f54bdf36a1319102d84": {
      "model_module": "@jupyter-widgets/controls",
      "model_module_version": "1.5.0",
      "model_name": "FloatProgressModel",
      "state": {
       "bar_style": "success",
       "layout": "IPY_MODEL_f71003821cff4d1daf521fba656f608d",
       "max": 500,
       "style": "IPY_MODEL_e17cc2431860450eb40fa9901b06d041",
       "value": 500
      }
     },
     "107028bd2cc54ef3b734521894bf4e96": {
      "model_module": "@jupyter-widgets/controls",
      "model_module_version": "1.5.0",
      "model_name": "HTMLModel",
      "state": {
       "layout": "IPY_MODEL_e38ff537ac0149eea650e8473c9213b3",
       "style": "IPY_MODEL_c12675c28adb4d98aad4fd4ec12a21a2",
       "value": " 500/500 [00:38&lt;00:00, 13.14image/s]"
      }
     },
     "108acb501ab64502aad196e61cc281f7": {
      "model_module": "@jupyter-widgets/controls",
      "model_module_version": "1.5.0",
      "model_name": "HTMLModel",
      "state": {
       "layout": "IPY_MODEL_36656718fba6467aa5aec4dba25d8a7f",
       "style": "IPY_MODEL_3f604f46042e4b319e93cf4dbaaaee7d",
       "value": " 500/500 [00:02&lt;00:00, 180.43image/s]"
      }
     },
     "1114148fe7b647739ca3846567a9408a": {
      "model_module": "@jupyter-widgets/controls",
      "model_module_version": "1.5.0",
      "model_name": "HTMLModel",
      "state": {
       "layout": "IPY_MODEL_f8c7cf6b30f449ef9f642222de380e54",
       "style": "IPY_MODEL_4cd690db8d92428d8eff1bbd592010f2",
       "value": "Predicting bounding boxes: 100%"
      }
     },
     "1224c51e17304e61b7a021a5f2468327": {
      "model_module": "@jupyter-widgets/controls",
      "model_module_version": "1.5.0",
      "model_name": "ProgressStyleModel",
      "state": {
       "description_width": ""
      }
     },
     "123dfbe33f274a8694ad95544074b1b6": {
      "model_module": "@jupyter-widgets/controls",
      "model_module_version": "1.5.0",
      "model_name": "DescriptionStyleModel",
      "state": {
       "description_width": ""
      }
     },
     "128b85ef4f8c446c8beb4df0241563a3": {
      "model_module": "@jupyter-widgets/controls",
      "model_module_version": "1.5.0",
      "model_name": "FloatProgressModel",
      "state": {
       "bar_style": "success",
       "layout": "IPY_MODEL_5e3d747b9f7e444fa9022c52820264df",
       "max": 500,
       "style": "IPY_MODEL_14e5d4d2853a4749835c150c81c17384",
       "value": 500
      }
     },
     "12c08f3ab6ae48f1a7cfaa6541f8fb8d": {
      "model_module": "@jupyter-widgets/base",
      "model_module_version": "1.2.0",
      "model_name": "LayoutModel",
      "state": {}
     },
     "134eb4a9b22e4c8eac7d3b97d1b1b8ac": {
      "model_module": "@jupyter-widgets/base",
      "model_module_version": "1.2.0",
      "model_name": "LayoutModel",
      "state": {}
     },
     "137dfc9a0be34d41be3ca22732874109": {
      "model_module": "@jupyter-widgets/controls",
      "model_module_version": "1.5.0",
      "model_name": "HTMLModel",
      "state": {
       "layout": "IPY_MODEL_5294280a24c0485a99bba80ce68b1fed",
       "style": "IPY_MODEL_b33b6233ce034c9382050ea9d23e54ee",
       "value": " 500/500 [00:02&lt;00:00, 154.80image/s]"
      }
     },
     "13ae4a735241421baddd3f051dc63ef7": {
      "model_module": "@jupyter-widgets/controls",
      "model_module_version": "1.5.0",
      "model_name": "DescriptionStyleModel",
      "state": {
       "description_width": ""
      }
     },
     "14c8c8b5a0554821a3e116d44cf0a958": {
      "model_module": "@jupyter-widgets/controls",
      "model_module_version": "1.5.0",
      "model_name": "DescriptionStyleModel",
      "state": {
       "description_width": ""
      }
     },
     "14e5d4d2853a4749835c150c81c17384": {
      "model_module": "@jupyter-widgets/controls",
      "model_module_version": "1.5.0",
      "model_name": "ProgressStyleModel",
      "state": {
       "description_width": ""
      }
     },
     "15c6d8bf1323431dad1ebfc6a4ec2cc0": {
      "model_module": "@jupyter-widgets/controls",
      "model_module_version": "1.5.0",
      "model_name": "HTMLModel",
      "state": {
       "layout": "IPY_MODEL_3b982f6fb3e64cf685e3ee69ef7f3332",
       "style": "IPY_MODEL_44bbef7c714a43578ba7314ef74acbe8",
       "value": " 500/500 [00:01&lt;00:00, 507.70image/s]"
      }
     },
     "15d15a30e742412e8e17c86bcc6dfd06": {
      "model_module": "@jupyter-widgets/base",
      "model_module_version": "1.2.0",
      "model_name": "LayoutModel",
      "state": {}
     },
     "165efacbdd9643ab960148f65bcfbc24": {
      "model_module": "@jupyter-widgets/controls",
      "model_module_version": "1.5.0",
      "model_name": "FloatProgressModel",
      "state": {
       "bar_style": "success",
       "layout": "IPY_MODEL_7648e05de3f8454187a30ae43c8a4f1e",
       "max": 500,
       "style": "IPY_MODEL_b03f0b3caff34ed79be0eb53c1e3eef9",
       "value": 500
      }
     },
     "16dc4dc92d31455b80f96886e214d912": {
      "model_module": "@jupyter-widgets/controls",
      "model_module_version": "1.5.0",
      "model_name": "DescriptionStyleModel",
      "state": {
       "description_width": ""
      }
     },
     "178590b97272423185b97b24c415d76c": {
      "model_module": "@jupyter-widgets/controls",
      "model_module_version": "1.5.0",
      "model_name": "DescriptionStyleModel",
      "state": {
       "description_width": ""
      }
     },
     "184978a2dde64f0199258470c47f4121": {
      "model_module": "@jupyter-widgets/controls",
      "model_module_version": "1.5.0",
      "model_name": "HBoxModel",
      "state": {
       "children": [
        "IPY_MODEL_f1c8bd7218f94ee8a364f8d2022a54b8",
        "IPY_MODEL_b75743e719814f7abd5af98028b58ed8",
        "IPY_MODEL_cf9b542b0e0744c5bdf92c12cf46211e"
       ],
       "layout": "IPY_MODEL_d71f23bb1c5d45c8bd2c7798b180d487"
      }
     },
     "18943bbf004542a6beb4123bc419af35": {
      "model_module": "@jupyter-widgets/base",
      "model_module_version": "1.2.0",
      "model_name": "LayoutModel",
      "state": {}
     },
     "18b92b21ff22467ba2182a513af5fefe": {
      "model_module": "@jupyter-widgets/controls",
      "model_module_version": "1.5.0",
      "model_name": "DescriptionStyleModel",
      "state": {
       "description_width": ""
      }
     },
     "18bbc132bdb94ab6810e77e2343ef455": {
      "model_module": "@jupyter-widgets/controls",
      "model_module_version": "1.5.0",
      "model_name": "HTMLModel",
      "state": {
       "layout": "IPY_MODEL_55b4106581274ef6b1f0680c6a806431",
       "style": "IPY_MODEL_2806e32dcfdc4107b3beb06e2287de53",
       "value": "Calculating TedEval metric: 100%"
      }
     },
     "18c23db5651d4cbf82031e75c92b2ec0": {
      "model_module": "@jupyter-widgets/base",
      "model_module_version": "1.2.0",
      "model_name": "LayoutModel",
      "state": {}
     },
     "18d2e3b4e1654a31a787cb55980c6131": {
      "model_module": "@jupyter-widgets/base",
      "model_module_version": "1.2.0",
      "model_name": "LayoutModel",
      "state": {}
     },
     "18f53ee259554eb8bdf08d373da5208b": {
      "model_module": "@jupyter-widgets/controls",
      "model_module_version": "1.5.0",
      "model_name": "FloatProgressModel",
      "state": {
       "bar_style": "success",
       "layout": "IPY_MODEL_ccbfe0346fbf4528a911547f84fae55b",
       "max": 500,
       "style": "IPY_MODEL_3955f66c8bd042039870223488ca60d9",
       "value": 500
      }
     },
     "190eb67018c34e2192e47c79aa923980": {
      "model_module": "@jupyter-widgets/base",
      "model_module_version": "1.2.0",
      "model_name": "LayoutModel",
      "state": {}
     },
     "191692595345417bb9f6c5d65f495edd": {
      "model_module": "@jupyter-widgets/controls",
      "model_module_version": "1.5.0",
      "model_name": "ProgressStyleModel",
      "state": {
       "description_width": ""
      }
     },
     "196af4fbbcf942a3a54990267fe8b5cd": {
      "model_module": "@jupyter-widgets/base",
      "model_module_version": "1.2.0",
      "model_name": "LayoutModel",
      "state": {}
     },
     "199fe307c57846908fb2a6b62fd8ade8": {
      "model_module": "@jupyter-widgets/controls",
      "model_module_version": "1.5.0",
      "model_name": "HBoxModel",
      "state": {
       "children": [
        "IPY_MODEL_fb78c6078e5c4b159684da33263a8e54",
        "IPY_MODEL_0149a32ba3b64e25a76ba627ce102a99",
        "IPY_MODEL_42e4a2c6366b476e8c720add324fb434"
       ],
       "layout": "IPY_MODEL_1d8c048b99fc4eb091bb1f7a7840c215"
      }
     },
     "1a071b95eff646768259902b718c810b": {
      "model_module": "@jupyter-widgets/base",
      "model_module_version": "1.2.0",
      "model_name": "LayoutModel",
      "state": {}
     },
     "1ae06d2f33314416ae9a41ba942ab4fd": {
      "model_module": "@jupyter-widgets/base",
      "model_module_version": "1.2.0",
      "model_name": "LayoutModel",
      "state": {}
     },
     "1aed7f37437a4e32bd0a37ff7d56ab11": {
      "model_module": "@jupyter-widgets/controls",
      "model_module_version": "1.5.0",
      "model_name": "HTMLModel",
      "state": {
       "layout": "IPY_MODEL_5381dbe0519a4754b70b9f383a352905",
       "style": "IPY_MODEL_75e73ab1d07c4fbbb453c7818384f13c",
       "value": "Calculating TedEval metric: 100%"
      }
     },
     "1b43b673ce6a448087c8218aca6c9387": {
      "model_module": "@jupyter-widgets/base",
      "model_module_version": "1.2.0",
      "model_name": "LayoutModel",
      "state": {}
     },
     "1c740c52704049cbac4ac2af951db39c": {
      "model_module": "@jupyter-widgets/base",
      "model_module_version": "1.2.0",
      "model_name": "LayoutModel",
      "state": {}
     },
     "1c9eaeab09fb41ea9b0d161a53927856": {
      "model_module": "@jupyter-widgets/controls",
      "model_module_version": "1.5.0",
      "model_name": "HTMLModel",
      "state": {
       "layout": "IPY_MODEL_5bcc410354404cd9a981ad04cf52b25b",
       "style": "IPY_MODEL_348cef02bde748c8ad464b454f11cdcd",
       "value": " 500/500 [00:06&lt;00:00, 73.97image/s]"
      }
     },
     "1ca7dcd82ed04eb287548d03363eadfd": {
      "model_module": "@jupyter-widgets/base",
      "model_module_version": "1.2.0",
      "model_name": "LayoutModel",
      "state": {}
     },
     "1d79fb543edb410db711e53a0cce82e9": {
      "model_module": "@jupyter-widgets/base",
      "model_module_version": "1.2.0",
      "model_name": "LayoutModel",
      "state": {}
     },
     "1d8c048b99fc4eb091bb1f7a7840c215": {
      "model_module": "@jupyter-widgets/base",
      "model_module_version": "1.2.0",
      "model_name": "LayoutModel",
      "state": {}
     },
     "1e0d301aaba24213b4e7f968eaa29a1e": {
      "model_module": "@jupyter-widgets/base",
      "model_module_version": "1.2.0",
      "model_name": "LayoutModel",
      "state": {}
     },
     "1e4159ddecab453fbd7bd2544c050e68": {
      "model_module": "@jupyter-widgets/controls",
      "model_module_version": "1.5.0",
      "model_name": "FloatProgressModel",
      "state": {
       "bar_style": "success",
       "layout": "IPY_MODEL_3b50839cc36c4fb4bde4a99103d17b41",
       "max": 500,
       "style": "IPY_MODEL_3c7266b7875542449a6fb1c084ebbaa6",
       "value": 500
      }
     },
     "1ebb18e471f6487da4ff60bdbc9204cc": {
      "model_module": "@jupyter-widgets/base",
      "model_module_version": "1.2.0",
      "model_name": "LayoutModel",
      "state": {}
     },
     "1ec053e700de4685a60d063c82cc7cba": {
      "model_module": "@jupyter-widgets/base",
      "model_module_version": "1.2.0",
      "model_name": "LayoutModel",
      "state": {}
     },
     "20283013bcaf4014aa67266cb6416bc4": {
      "model_module": "@jupyter-widgets/base",
      "model_module_version": "1.2.0",
      "model_name": "LayoutModel",
      "state": {}
     },
     "221628eb76674d4ab063b1c901ef246d": {
      "model_module": "@jupyter-widgets/controls",
      "model_module_version": "1.5.0",
      "model_name": "DescriptionStyleModel",
      "state": {
       "description_width": ""
      }
     },
     "222c5f1edaeb4c83883588bb6e1edc01": {
      "model_module": "@jupyter-widgets/controls",
      "model_module_version": "1.5.0",
      "model_name": "HTMLModel",
      "state": {
       "layout": "IPY_MODEL_a453a30c89394608a21eed2b20249618",
       "style": "IPY_MODEL_6f96d81555a541dc8935131b9f3eadcd",
       "value": " 500/500 [00:38&lt;00:00, 13.04image/s]"
      }
     },
     "22ce7567ea5043ada70ad8d1aa2dc40e": {
      "model_module": "@jupyter-widgets/base",
      "model_module_version": "1.2.0",
      "model_name": "LayoutModel",
      "state": {}
     },
     "23575f8c5b1547c1b3abd6387e555709": {
      "model_module": "@jupyter-widgets/controls",
      "model_module_version": "1.5.0",
      "model_name": "HTMLModel",
      "state": {
       "layout": "IPY_MODEL_bc814047816447cc8ea07601c41065a8",
       "style": "IPY_MODEL_5203652896424486b92621a9bd3ec8e4",
       "value": " 500/500 [00:01&lt;00:00, 364.99image/s]"
      }
     },
     "248842b08fce4fb1afde6f0b1e61a416": {
      "model_module": "@jupyter-widgets/base",
      "model_module_version": "1.2.0",
      "model_name": "LayoutModel",
      "state": {}
     },
     "2489ca74ac084016a7009863e1c05922": {
      "model_module": "@jupyter-widgets/controls",
      "model_module_version": "1.5.0",
      "model_name": "ProgressStyleModel",
      "state": {
       "description_width": ""
      }
     },
     "24c70c1617a64414840d2c828dc0fa1c": {
      "model_module": "@jupyter-widgets/base",
      "model_module_version": "1.2.0",
      "model_name": "LayoutModel",
      "state": {}
     },
     "24eb1c14e84a41d6ba3f5261e23e5381": {
      "model_module": "@jupyter-widgets/base",
      "model_module_version": "1.2.0",
      "model_name": "LayoutModel",
      "state": {}
     },
     "2532b27501c345e5ac564a411f9ca572": {
      "model_module": "@jupyter-widgets/base",
      "model_module_version": "1.2.0",
      "model_name": "LayoutModel",
      "state": {}
     },
     "256be6e8cbc048dba2082addb0133350": {
      "model_module": "@jupyter-widgets/controls",
      "model_module_version": "1.5.0",
      "model_name": "ProgressStyleModel",
      "state": {
       "description_width": ""
      }
     },
     "269f05db736946a79e98d72912ab8740": {
      "model_module": "@jupyter-widgets/controls",
      "model_module_version": "1.5.0",
      "model_name": "HTMLModel",
      "state": {
       "layout": "IPY_MODEL_6f89bf16599f4593b5bc21057ad91c12",
       "style": "IPY_MODEL_8ad17c1ad7b945aba1bed1a6ddefdc6c",
       "value": " 500/500 [00:38&lt;00:00, 12.81image/s]"
      }
     },
     "26acf15286874b0db23f967784d77beb": {
      "model_module": "@jupyter-widgets/controls",
      "model_module_version": "1.5.0",
      "model_name": "HBoxModel",
      "state": {
       "children": [
        "IPY_MODEL_289ae34a9df14fd8ad0cf33295c72f8d",
        "IPY_MODEL_63754ae14302451fb871a3938e1e9d20",
        "IPY_MODEL_84ca091cfc3240278fa2ad510f855da2"
       ],
       "layout": "IPY_MODEL_088aae4c93504cf686189fcfeb22ea85"
      }
     },
     "26eb517e4bd8491ba934279ddf86b121": {
      "model_module": "@jupyter-widgets/base",
      "model_module_version": "1.2.0",
      "model_name": "LayoutModel",
      "state": {}
     },
     "2707e746e4af4a9bb6bcaee2a5133f91": {
      "model_module": "@jupyter-widgets/controls",
      "model_module_version": "1.5.0",
      "model_name": "ProgressStyleModel",
      "state": {
       "description_width": ""
      }
     },
     "27310cc9f84542f9af676e0092db1f99": {
      "model_module": "@jupyter-widgets/controls",
      "model_module_version": "1.5.0",
      "model_name": "HTMLModel",
      "state": {
       "layout": "IPY_MODEL_248842b08fce4fb1afde6f0b1e61a416",
       "style": "IPY_MODEL_ead597519dbe42f49613e4430a9e1ce4",
       "value": " 500/500 [00:01&lt;00:00, 322.77image/s]"
      }
     },
     "2752f2bdf8c043f3826cc4d3e961fc20": {
      "model_module": "@jupyter-widgets/controls",
      "model_module_version": "1.5.0",
      "model_name": "FloatProgressModel",
      "state": {
       "bar_style": "success",
       "layout": "IPY_MODEL_7ac7c9673ea54a67adb5a7bded23652a",
       "max": 500,
       "style": "IPY_MODEL_c903c3f69472448f85327bc0ee05897f",
       "value": 500
      }
     },
     "27b5e87f22f3473495d300fe7f0e39e0": {
      "model_module": "@jupyter-widgets/base",
      "model_module_version": "1.2.0",
      "model_name": "LayoutModel",
      "state": {}
     },
     "2806e32dcfdc4107b3beb06e2287de53": {
      "model_module": "@jupyter-widgets/controls",
      "model_module_version": "1.5.0",
      "model_name": "DescriptionStyleModel",
      "state": {
       "description_width": ""
      }
     },
     "28474969700f4096881bf795c5b5434c": {
      "model_module": "@jupyter-widgets/controls",
      "model_module_version": "1.5.0",
      "model_name": "DescriptionStyleModel",
      "state": {
       "description_width": ""
      }
     },
     "289ae34a9df14fd8ad0cf33295c72f8d": {
      "model_module": "@jupyter-widgets/controls",
      "model_module_version": "1.5.0",
      "model_name": "HTMLModel",
      "state": {
       "layout": "IPY_MODEL_316b9f69bebe4696aedb3056754439db",
       "style": "IPY_MODEL_c3fd550159444bd985c06ad5886cd43e",
       "value": "Predicting bounding boxes: 100%"
      }
     },
     "28c2cfa5857e4ea18af873b14eb3c2e0": {
      "model_module": "@jupyter-widgets/controls",
      "model_module_version": "1.5.0",
      "model_name": "ProgressStyleModel",
      "state": {
       "description_width": ""
      }
     },
     "29250ef72b9b4aad8d356c7d3afb935d": {
      "model_module": "@jupyter-widgets/controls",
      "model_module_version": "1.5.0",
      "model_name": "FloatProgressModel",
      "state": {
       "bar_style": "success",
       "layout": "IPY_MODEL_1ae06d2f33314416ae9a41ba942ab4fd",
       "max": 500,
       "style": "IPY_MODEL_618faf9dd6804f62b3ed1babebb63936",
       "value": 500
      }
     },
     "2a051f57e21d488598c0ec1d3dab3ac8": {
      "model_module": "@jupyter-widgets/controls",
      "model_module_version": "1.5.0",
      "model_name": "ProgressStyleModel",
      "state": {
       "description_width": ""
      }
     },
     "2ace23ce29e947c3ad5186bf6f45604b": {
      "model_module": "@jupyter-widgets/controls",
      "model_module_version": "1.5.0",
      "model_name": "HTMLModel",
      "state": {
       "layout": "IPY_MODEL_cbc9fc9ef6f04cde9a04fa3b3ec7cb3c",
       "style": "IPY_MODEL_db9678334f5f45de8fc9f5296bf50d1a",
       "value": "Calculating TedEval metric: 100%"
      }
     },
     "2b7abef5823444288a36c3ac87433f5c": {
      "model_module": "@jupyter-widgets/base",
      "model_module_version": "1.2.0",
      "model_name": "LayoutModel",
      "state": {}
     },
     "2cf5428a184541f6ab0ae97fa1513871": {
      "model_module": "@jupyter-widgets/controls",
      "model_module_version": "1.5.0",
      "model_name": "DescriptionStyleModel",
      "state": {
       "description_width": ""
      }
     },
     "2d26bac018ab431cb20b4ec7d68b58e9": {
      "model_module": "@jupyter-widgets/controls",
      "model_module_version": "1.5.0",
      "model_name": "HTMLModel",
      "state": {
       "layout": "IPY_MODEL_08ebbd40473c4357922109a8173289ef",
       "style": "IPY_MODEL_98a6800da3ef4e3fa27b0929493091ca",
       "value": "Calculating TedEval metric: 100%"
      }
     },
     "2dd98314a3cc48b6937d56abec14c538": {
      "model_module": "@jupyter-widgets/base",
      "model_module_version": "1.2.0",
      "model_name": "LayoutModel",
      "state": {}
     },
     "2e002409d13f4b7686d0bfff816da965": {
      "model_module": "@jupyter-widgets/base",
      "model_module_version": "1.2.0",
      "model_name": "LayoutModel",
      "state": {}
     },
     "2e12dfbedf6c4e3688a9399a9b50eaf5": {
      "model_module": "@jupyter-widgets/base",
      "model_module_version": "1.2.0",
      "model_name": "LayoutModel",
      "state": {}
     },
     "2ebd01081e064b41b17f9be68bcb5c9e": {
      "model_module": "@jupyter-widgets/controls",
      "model_module_version": "1.5.0",
      "model_name": "DescriptionStyleModel",
      "state": {
       "description_width": ""
      }
     },
     "2ee4008d518d4a9496a9de7d454eb23c": {
      "model_module": "@jupyter-widgets/controls",
      "model_module_version": "1.5.0",
      "model_name": "HTMLModel",
      "state": {
       "layout": "IPY_MODEL_329bdac48fdb4a10b85490cf58d698eb",
       "style": "IPY_MODEL_341132e9185449e795c199169bc451db",
       "value": " 500/500 [00:01&lt;00:00, 517.92image/s]"
      }
     },
     "2f0848ea7d9840b8a83c6f1203d81910": {
      "model_module": "@jupyter-widgets/base",
      "model_module_version": "1.2.0",
      "model_name": "LayoutModel",
      "state": {}
     },
     "2f5c374ea8c546e9a4b54be95b5530c9": {
      "model_module": "@jupyter-widgets/controls",
      "model_module_version": "1.5.0",
      "model_name": "ProgressStyleModel",
      "state": {
       "description_width": ""
      }
     },
     "2fb4ba8b027243a3a673af62e1934099": {
      "model_module": "@jupyter-widgets/controls",
      "model_module_version": "1.5.0",
      "model_name": "HTMLModel",
      "state": {
       "layout": "IPY_MODEL_6452d95b3a9a4fffb6f3e8d8f8dec125",
       "style": "IPY_MODEL_73f864897204492290dc1b37f57c0a0d",
       "value": "Predicting bounding boxes: 100%"
      }
     },
     "305eb5bbc0414398b7c61e025374b8e2": {
      "model_module": "@jupyter-widgets/controls",
      "model_module_version": "1.5.0",
      "model_name": "FloatProgressModel",
      "state": {
       "bar_style": "success",
       "layout": "IPY_MODEL_0837ad8f145b49c58fc2ffb86d43e9f4",
       "max": 500,
       "style": "IPY_MODEL_e0eba60e12224733ba30a851b2b719cf",
       "value": 500
      }
     },
     "30b2aad97bd44c47936379e68590102e": {
      "model_module": "@jupyter-widgets/controls",
      "model_module_version": "1.5.0",
      "model_name": "HTMLModel",
      "state": {
       "layout": "IPY_MODEL_9e0574b52a454c96aaa2697500f4f56f",
       "style": "IPY_MODEL_ff4ec3e24c0b48a4ab743a1cadd3ff79",
       "value": " 500/500 [00:02&lt;00:00, 130.96image/s]"
      }
     },
     "30f80393dd6a4f68b5805f9e7101766c": {
      "model_module": "@jupyter-widgets/controls",
      "model_module_version": "1.5.0",
      "model_name": "HTMLModel",
      "state": {
       "layout": "IPY_MODEL_09d48fe6d35f445fad3d783dfefa755a",
       "style": "IPY_MODEL_d6ce236983ac4eaabbd84ae930e69dff",
       "value": "Predicting bounding boxes: 100%"
      }
     },
     "316b9f69bebe4696aedb3056754439db": {
      "model_module": "@jupyter-widgets/base",
      "model_module_version": "1.2.0",
      "model_name": "LayoutModel",
      "state": {}
     },
     "3187094d6d7545dc8dd9ee11b93b690d": {
      "model_module": "@jupyter-widgets/controls",
      "model_module_version": "1.5.0",
      "model_name": "ProgressStyleModel",
      "state": {
       "description_width": ""
      }
     },
     "31a794bd8e0a46dca75ef9cdbe6042cf": {
      "model_module": "@jupyter-widgets/controls",
      "model_module_version": "1.5.0",
      "model_name": "HTMLModel",
      "state": {
       "layout": "IPY_MODEL_8f700abc7d784f5c9881da75946161f3",
       "style": "IPY_MODEL_04873160957c444595c93be42812b768",
       "value": "Calculating TedEval metric: 100%"
      }
     },
     "31a8429fa5f043949937effc0c13fdf0": {
      "model_module": "@jupyter-widgets/controls",
      "model_module_version": "1.5.0",
      "model_name": "HTMLModel",
      "state": {
       "layout": "IPY_MODEL_f9b7acf1a295434a8e00c03fe9008ca8",
       "style": "IPY_MODEL_60903f41c14f46aa8ef4877839f3a160",
       "value": "Reading evaluation images: 100%"
      }
     },
     "329bdac48fdb4a10b85490cf58d698eb": {
      "model_module": "@jupyter-widgets/base",
      "model_module_version": "1.2.0",
      "model_name": "LayoutModel",
      "state": {}
     },
     "331f44be61a34641823b8c7f44ab5e02": {
      "model_module": "@jupyter-widgets/controls",
      "model_module_version": "1.5.0",
      "model_name": "HTMLModel",
      "state": {
       "layout": "IPY_MODEL_1ebb18e471f6487da4ff60bdbc9204cc",
       "style": "IPY_MODEL_c688a5d8623f4f189bc0f5c0d057ac5b",
       "value": "Reading evaluation images: 100%"
      }
     },
     "3366f54b69ee44719a4fd90b57fca308": {
      "model_module": "@jupyter-widgets/base",
      "model_module_version": "1.2.0",
      "model_name": "LayoutModel",
      "state": {}
     },
     "338b863d51b949a79dacaac5ca9ce286": {
      "model_module": "@jupyter-widgets/controls",
      "model_module_version": "1.5.0",
      "model_name": "HTMLModel",
      "state": {
       "layout": "IPY_MODEL_8abc5fd41d6a4943b03ecd348fd857fd",
       "style": "IPY_MODEL_0485324e8c2f42ffbe41a4ea91a90fc3",
       "value": "Predicting bounding boxes: 100%"
      }
     },
     "3407c0a6bbc445199ff69b5e139eb1d4": {
      "model_module": "@jupyter-widgets/controls",
      "model_module_version": "1.5.0",
      "model_name": "HTMLModel",
      "state": {
       "layout": "IPY_MODEL_9d346d2b76b747feb6a3eb975aa5abed",
       "style": "IPY_MODEL_37ad4ec71db6407da4a0a1501b90c8d9",
       "value": "Reading evaluation images: 100%"
      }
     },
     "341132e9185449e795c199169bc451db": {
      "model_module": "@jupyter-widgets/controls",
      "model_module_version": "1.5.0",
      "model_name": "DescriptionStyleModel",
      "state": {
       "description_width": ""
      }
     },
     "343ef2fdfa7040ab831fb3f4193bcdcf": {
      "model_module": "@jupyter-widgets/controls",
      "model_module_version": "1.5.0",
      "model_name": "HTMLModel",
      "state": {
       "layout": "IPY_MODEL_a65f7140630e4b9d86a0baa4a4d7c28c",
       "style": "IPY_MODEL_b7ffa727c1204951a6a50934e49d54ad",
       "value": " 500/500 [00:01&lt;00:00, 390.12image/s]"
      }
     },
     "348cef02bde748c8ad464b454f11cdcd": {
      "model_module": "@jupyter-widgets/controls",
      "model_module_version": "1.5.0",
      "model_name": "DescriptionStyleModel",
      "state": {
       "description_width": ""
      }
     },
     "34fecdb2cf4c4530a65759c73d8b0553": {
      "model_module": "@jupyter-widgets/controls",
      "model_module_version": "1.5.0",
      "model_name": "ProgressStyleModel",
      "state": {
       "description_width": ""
      }
     },
     "35972559fc7f4a9cb5ac1896adedc4ec": {
      "model_module": "@jupyter-widgets/controls",
      "model_module_version": "1.5.0",
      "model_name": "HBoxModel",
      "state": {
       "children": [
        "IPY_MODEL_0e623dbebe9b45bdb3dbec4d71552aab",
        "IPY_MODEL_8b0079a1d2c44b29a14be682e9fa2d09",
        "IPY_MODEL_6be670fb302c4eeb808c4e46de17cfaf"
       ],
       "layout": "IPY_MODEL_b24ea33b325343978f35baa689fffe07"
      }
     },
     "35f5bd29c3584187aa147f8b6849491b": {
      "model_module": "@jupyter-widgets/controls",
      "model_module_version": "1.5.0",
      "model_name": "FloatProgressModel",
      "state": {
       "bar_style": "success",
       "layout": "IPY_MODEL_2b7abef5823444288a36c3ac87433f5c",
       "max": 500,
       "style": "IPY_MODEL_696cc77e0c434d17bc8ceeea3db0f730",
       "value": 500
      }
     },
     "36656718fba6467aa5aec4dba25d8a7f": {
      "model_module": "@jupyter-widgets/base",
      "model_module_version": "1.2.0",
      "model_name": "LayoutModel",
      "state": {}
     },
     "370a9193028747dab8cc5200cb56c6e4": {
      "model_module": "@jupyter-widgets/base",
      "model_module_version": "1.2.0",
      "model_name": "LayoutModel",
      "state": {}
     },
     "371d5cc523e344a2b37ea40aacdd69fa": {
      "model_module": "@jupyter-widgets/base",
      "model_module_version": "1.2.0",
      "model_name": "LayoutModel",
      "state": {}
     },
     "372135b1748e4616b0fab7c77548ac81": {
      "model_module": "@jupyter-widgets/controls",
      "model_module_version": "1.5.0",
      "model_name": "FloatProgressModel",
      "state": {
       "bar_style": "success",
       "layout": "IPY_MODEL_a3d59d2467a74a239b130b862238f603",
       "max": 500,
       "style": "IPY_MODEL_0f6d3e406b224712a286d3cb10bca311",
       "value": 500
      }
     },
     "37465db8cc9b4812b5c1c6657f81688f": {
      "model_module": "@jupyter-widgets/base",
      "model_module_version": "1.2.0",
      "model_name": "LayoutModel",
      "state": {}
     },
     "3754a9ba9e7544a59928f2b1ebfd0b74": {
      "model_module": "@jupyter-widgets/controls",
      "model_module_version": "1.5.0",
      "model_name": "HTMLModel",
      "state": {
       "layout": "IPY_MODEL_5f864f692cde4aab9843a09445bbdb82",
       "style": "IPY_MODEL_13ae4a735241421baddd3f051dc63ef7",
       "value": "Reading evaluation images: 100%"
      }
     },
     "37884bc086954821a6d32f0d430ce1e2": {
      "model_module": "@jupyter-widgets/controls",
      "model_module_version": "1.5.0",
      "model_name": "DescriptionStyleModel",
      "state": {
       "description_width": ""
      }
     },
     "378a73d598ba43fb9fabe3a859b1a672": {
      "model_module": "@jupyter-widgets/base",
      "model_module_version": "1.2.0",
      "model_name": "LayoutModel",
      "state": {}
     },
     "37a44987a2ef4262b7de07d52b0042ed": {
      "model_module": "@jupyter-widgets/controls",
      "model_module_version": "1.5.0",
      "model_name": "DescriptionStyleModel",
      "state": {
       "description_width": ""
      }
     },
     "37ad4ec71db6407da4a0a1501b90c8d9": {
      "model_module": "@jupyter-widgets/controls",
      "model_module_version": "1.5.0",
      "model_name": "DescriptionStyleModel",
      "state": {
       "description_width": ""
      }
     },
     "37ca06385e63415a9e4e0eb32fbe9f6a": {
      "model_module": "@jupyter-widgets/base",
      "model_module_version": "1.2.0",
      "model_name": "LayoutModel",
      "state": {}
     },
     "3849a99a1d3a4acd87fb023922c28f1a": {
      "model_module": "@jupyter-widgets/base",
      "model_module_version": "1.2.0",
      "model_name": "LayoutModel",
      "state": {}
     },
     "38761a5a9d074a2b871f72232d934d1b": {
      "model_module": "@jupyter-widgets/controls",
      "model_module_version": "1.5.0",
      "model_name": "FloatProgressModel",
      "state": {
       "bar_style": "success",
       "layout": "IPY_MODEL_2532b27501c345e5ac564a411f9ca572",
       "max": 500,
       "style": "IPY_MODEL_ed9c64622a6f45bfb8c6750df4babedf",
       "value": 500
      }
     },
     "38d2a964e8744f78b05bdb7313ce0cd8": {
      "model_module": "@jupyter-widgets/base",
      "model_module_version": "1.2.0",
      "model_name": "LayoutModel",
      "state": {}
     },
     "38f8101fa20d4ce68005f5196c8def8c": {
      "model_module": "@jupyter-widgets/base",
      "model_module_version": "1.2.0",
      "model_name": "LayoutModel",
      "state": {}
     },
     "3955f66c8bd042039870223488ca60d9": {
      "model_module": "@jupyter-widgets/controls",
      "model_module_version": "1.5.0",
      "model_name": "ProgressStyleModel",
      "state": {
       "description_width": ""
      }
     },
     "39f8a36dfbb2430bb704d2c9bbfdc805": {
      "model_module": "@jupyter-widgets/base",
      "model_module_version": "1.2.0",
      "model_name": "LayoutModel",
      "state": {}
     },
     "3a130805729744a2b6bfbe8964349bb4": {
      "model_module": "@jupyter-widgets/controls",
      "model_module_version": "1.5.0",
      "model_name": "HTMLModel",
      "state": {
       "layout": "IPY_MODEL_2f0848ea7d9840b8a83c6f1203d81910",
       "style": "IPY_MODEL_3b97889314f2443f82196e18a1d617da",
       "value": " 500/500 [00:01&lt;00:00, 308.18image/s]"
      }
     },
     "3a700a69beee491b97f8f6afc66e1ca0": {
      "model_module": "@jupyter-widgets/base",
      "model_module_version": "1.2.0",
      "model_name": "LayoutModel",
      "state": {}
     },
     "3aa3648af0a7404090bff2ebc3cf8748": {
      "model_module": "@jupyter-widgets/controls",
      "model_module_version": "1.5.0",
      "model_name": "HTMLModel",
      "state": {
       "layout": "IPY_MODEL_537a983a6a5741208b2a294f7d8a119e",
       "style": "IPY_MODEL_e3328b6f4e6d4fe2a6a6f5ac53711c37",
       "value": " 500/500 [00:06&lt;00:00, 73.93image/s]"
      }
     },
     "3b50839cc36c4fb4bde4a99103d17b41": {
      "model_module": "@jupyter-widgets/base",
      "model_module_version": "1.2.0",
      "model_name": "LayoutModel",
      "state": {}
     },
     "3b97889314f2443f82196e18a1d617da": {
      "model_module": "@jupyter-widgets/controls",
      "model_module_version": "1.5.0",
      "model_name": "DescriptionStyleModel",
      "state": {
       "description_width": ""
      }
     },
     "3b982f6fb3e64cf685e3ee69ef7f3332": {
      "model_module": "@jupyter-widgets/base",
      "model_module_version": "1.2.0",
      "model_name": "LayoutModel",
      "state": {}
     },
     "3ba63995422b47f0a5117541ff06ad0a": {
      "model_module": "@jupyter-widgets/controls",
      "model_module_version": "1.5.0",
      "model_name": "FloatProgressModel",
      "state": {
       "bar_style": "success",
       "layout": "IPY_MODEL_e384dbd014574da7b67fe4c96116eef5",
       "max": 500,
       "style": "IPY_MODEL_e575414785124cb5b2c7a406efeb995d",
       "value": 500
      }
     },
     "3c110f1c2186463ea3ea6d544fe6ee06": {
      "model_module": "@jupyter-widgets/controls",
      "model_module_version": "1.5.0",
      "model_name": "FloatProgressModel",
      "state": {
       "bar_style": "success",
       "layout": "IPY_MODEL_5216f4efa2194bd387a081469299385d",
       "max": 500,
       "style": "IPY_MODEL_09bf38f0d506411d8a1fcf989e229cd3",
       "value": 500
      }
     },
     "3c2215443ed34b47bf9c3a72d434378f": {
      "model_module": "@jupyter-widgets/base",
      "model_module_version": "1.2.0",
      "model_name": "LayoutModel",
      "state": {}
     },
     "3c5e87be52a54c6fa33bc59a68a1b075": {
      "model_module": "@jupyter-widgets/base",
      "model_module_version": "1.2.0",
      "model_name": "LayoutModel",
      "state": {}
     },
     "3c7266b7875542449a6fb1c084ebbaa6": {
      "model_module": "@jupyter-widgets/controls",
      "model_module_version": "1.5.0",
      "model_name": "ProgressStyleModel",
      "state": {
       "description_width": ""
      }
     },
     "3cd3591f19c34057a3f225a2351e9141": {
      "model_module": "@jupyter-widgets/controls",
      "model_module_version": "1.5.0",
      "model_name": "HTMLModel",
      "state": {
       "layout": "IPY_MODEL_5d934f82a29d40388b5bdd835f4fc866",
       "style": "IPY_MODEL_8a5b4017048d4591906b8c40030901d3",
       "value": " 500/500 [00:39&lt;00:00, 12.78image/s]"
      }
     },
     "3cf2ab0f71ff42118fa085254474e30b": {
      "model_module": "@jupyter-widgets/base",
      "model_module_version": "1.2.0",
      "model_name": "LayoutModel",
      "state": {}
     },
     "3d47a8a5dec449e1b332c0bbbf47d1a7": {
      "model_module": "@jupyter-widgets/controls",
      "model_module_version": "1.5.0",
      "model_name": "HTMLModel",
      "state": {
       "layout": "IPY_MODEL_1a071b95eff646768259902b718c810b",
       "style": "IPY_MODEL_4b828ce07c8a435a9d3921b7c02a6bd2",
       "value": " 500/500 [00:38&lt;00:00, 13.22image/s]"
      }
     },
     "3e76140ff8db4ba48518d4a8469ffbd7": {
      "model_module": "@jupyter-widgets/controls",
      "model_module_version": "1.5.0",
      "model_name": "DescriptionStyleModel",
      "state": {
       "description_width": ""
      }
     },
     "3f4a37533327416d8d90a5c669be0041": {
      "model_module": "@jupyter-widgets/base",
      "model_module_version": "1.2.0",
      "model_name": "LayoutModel",
      "state": {}
     },
     "3f604f46042e4b319e93cf4dbaaaee7d": {
      "model_module": "@jupyter-widgets/controls",
      "model_module_version": "1.5.0",
      "model_name": "DescriptionStyleModel",
      "state": {
       "description_width": ""
      }
     },
     "3ff1d841af2f482daf90e3c50255ca2a": {
      "model_module": "@jupyter-widgets/controls",
      "model_module_version": "1.5.0",
      "model_name": "HTMLModel",
      "state": {
       "layout": "IPY_MODEL_ac620b156f7b42d59539fc4a009ede5d",
       "style": "IPY_MODEL_ab86ed0827ff43af99811439cc009e49",
       "value": " 500/500 [00:06&lt;00:00, 78.19image/s]"
      }
     },
     "40383afbae6348d2bc37ac262866686b": {
      "model_module": "@jupyter-widgets/controls",
      "model_module_version": "1.5.0",
      "model_name": "ProgressStyleModel",
      "state": {
       "description_width": ""
      }
     },
     "40d32e84c3c54558a68faf35ec40db96": {
      "model_module": "@jupyter-widgets/controls",
      "model_module_version": "1.5.0",
      "model_name": "HTMLModel",
      "state": {
       "layout": "IPY_MODEL_0a099d4bc37f4f8693ced684ebc21099",
       "style": "IPY_MODEL_5112707820534c9782d6611b7d684e2c",
       "value": "Predicting bounding boxes: 100%"
      }
     },
     "4120d9ece6ce437e985934f98a5d950f": {
      "model_module": "@jupyter-widgets/controls",
      "model_module_version": "1.5.0",
      "model_name": "HTMLModel",
      "state": {
       "layout": "IPY_MODEL_b67e24fc2f02436c81688b86301fe7c6",
       "style": "IPY_MODEL_a829b8c9661c4e37a7ba14eec130a20b",
       "value": " 500/500 [00:00&lt;00:00, 676.83image/s]"
      }
     },
     "412241c08d5346fd9bd29dd9ef9ce774": {
      "model_module": "@jupyter-widgets/controls",
      "model_module_version": "1.5.0",
      "model_name": "FloatProgressModel",
      "state": {
       "bar_style": "success",
       "layout": "IPY_MODEL_dc38f2dac334491f9e2c54f605174195",
       "max": 500,
       "style": "IPY_MODEL_054503244b724204a0192cb4ae9fd9ec",
       "value": 500
      }
     },
     "41965cb985b44c98887a65d69490a385": {
      "model_module": "@jupyter-widgets/controls",
      "model_module_version": "1.5.0",
      "model_name": "HBoxModel",
      "state": {
       "children": [
        "IPY_MODEL_30f80393dd6a4f68b5805f9e7101766c",
        "IPY_MODEL_ce01f9689ecc4545871ed883ac2a85dd",
        "IPY_MODEL_8895f17190864cff88cb770566a3729c"
       ],
       "layout": "IPY_MODEL_4f8504b6572a4b90a49b0033a06a2590"
      }
     },
     "42e4a2c6366b476e8c720add324fb434": {
      "model_module": "@jupyter-widgets/controls",
      "model_module_version": "1.5.0",
      "model_name": "HTMLModel",
      "state": {
       "layout": "IPY_MODEL_fb28145a94244227a4da0565974dac8c",
       "style": "IPY_MODEL_0d81a02a0b29456f8aefd92e94b2eec3",
       "value": " 500/500 [00:02&lt;00:00, 192.83image/s]"
      }
     },
     "439bde7cdf4f4931a2435d84deaee61f": {
      "model_module": "@jupyter-widgets/controls",
      "model_module_version": "1.5.0",
      "model_name": "FloatProgressModel",
      "state": {
       "bar_style": "success",
       "layout": "IPY_MODEL_46d6d5c205e54927a50cd048e3dadb13",
       "max": 500,
       "style": "IPY_MODEL_6c8d63968d254352b149b95881d7c8af",
       "value": 500
      }
     },
     "43d4c9181a394ec6a1aace7ace611cfa": {
      "model_module": "@jupyter-widgets/controls",
      "model_module_version": "1.5.0",
      "model_name": "HBoxModel",
      "state": {
       "children": [
        "IPY_MODEL_331f44be61a34641823b8c7f44ab5e02",
        "IPY_MODEL_bea0cbdf883541b08d1a56c819b77ac2",
        "IPY_MODEL_3aa3648af0a7404090bff2ebc3cf8748"
       ],
       "layout": "IPY_MODEL_03cbdb1734d747c5a793f5a87c908f83"
      }
     },
     "44145fe679f04b458b78bc2f60734af1": {
      "model_module": "@jupyter-widgets/controls",
      "model_module_version": "1.5.0",
      "model_name": "HTMLModel",
      "state": {
       "layout": "IPY_MODEL_0b609ced75384796aa9807f32cfd1f27",
       "style": "IPY_MODEL_7777d1ec0945427c9c734cc21dc4a0cb",
       "value": "Reading evaluation images: 100%"
      }
     },
     "443a82f6d06c42528e9944d7450cc129": {
      "model_module": "@jupyter-widgets/controls",
      "model_module_version": "1.5.0",
      "model_name": "HTMLModel",
      "state": {
       "layout": "IPY_MODEL_feb8fe0948694b278a352f03463f925e",
       "style": "IPY_MODEL_57284ea27f3d4331bde38b363aa37acd",
       "value": "Calculating TedEval metric: 100%"
      }
     },
     "44715f32ce7c468883e6853e2e4de526": {
      "model_module": "@jupyter-widgets/controls",
      "model_module_version": "1.5.0",
      "model_name": "FloatProgressModel",
      "state": {
       "bar_style": "success",
       "layout": "IPY_MODEL_22ce7567ea5043ada70ad8d1aa2dc40e",
       "max": 500,
       "style": "IPY_MODEL_8cb0dbdbfcb64baf8958e2ae110dbd59",
       "value": 500
      }
     },
     "4493108a4e234efca820d19104a87920": {
      "model_module": "@jupyter-widgets/base",
      "model_module_version": "1.2.0",
      "model_name": "LayoutModel",
      "state": {}
     },
     "44a6b1811d2048a88e79bbc1d12400e4": {
      "model_module": "@jupyter-widgets/base",
      "model_module_version": "1.2.0",
      "model_name": "LayoutModel",
      "state": {}
     },
     "44bbef7c714a43578ba7314ef74acbe8": {
      "model_module": "@jupyter-widgets/controls",
      "model_module_version": "1.5.0",
      "model_name": "DescriptionStyleModel",
      "state": {
       "description_width": ""
      }
     },
     "44c999b50ebc44018247b649d86a3e43": {
      "model_module": "@jupyter-widgets/controls",
      "model_module_version": "1.5.0",
      "model_name": "HTMLModel",
      "state": {
       "layout": "IPY_MODEL_1c740c52704049cbac4ac2af951db39c",
       "style": "IPY_MODEL_8b0a8cd50b7948b4ac246bc6913ec617",
       "value": " 500/500 [00:06&lt;00:00, 72.04image/s]"
      }
     },
     "44e2f4988f164542a9596f213530c9f1": {
      "model_module": "@jupyter-widgets/controls",
      "model_module_version": "1.5.0",
      "model_name": "HTMLModel",
      "state": {
       "layout": "IPY_MODEL_5080d57fc2614f50a80a469c3e11551f",
       "style": "IPY_MODEL_28474969700f4096881bf795c5b5434c",
       "value": " 500/500 [00:06&lt;00:00, 77.62image/s]"
      }
     },
     "454fe098bedd42f48354ab57c6ce1450": {
      "model_module": "@jupyter-widgets/controls",
      "model_module_version": "1.5.0",
      "model_name": "HTMLModel",
      "state": {
       "layout": "IPY_MODEL_a0684dc0f24c4b77ac14f486e5f3100c",
       "style": "IPY_MODEL_7c5f03fde0184f03a63e53ec51d9783a",
       "value": " 500/500 [00:39&lt;00:00, 12.93image/s]"
      }
     },
     "4554baf59c314fee867dd1200fd46646": {
      "model_module": "@jupyter-widgets/controls",
      "model_module_version": "1.5.0",
      "model_name": "FloatProgressModel",
      "state": {
       "bar_style": "success",
       "layout": "IPY_MODEL_aed338ab1d184815ade3ccfc28822c2f",
       "max": 500,
       "style": "IPY_MODEL_070ec35b8fa0449a91275d88860762f9",
       "value": 500
      }
     },
     "4593bd1675304f4caf1e9517d0a2beb0": {
      "model_module": "@jupyter-widgets/controls",
      "model_module_version": "1.5.0",
      "model_name": "FloatProgressModel",
      "state": {
       "bar_style": "success",
       "layout": "IPY_MODEL_370a9193028747dab8cc5200cb56c6e4",
       "max": 500,
       "style": "IPY_MODEL_03a24ef66dc24d639a29edc3f6cc2bba",
       "value": 500
      }
     },
     "459ca7d5747e49d1ab1a0ab2fe118847": {
      "model_module": "@jupyter-widgets/base",
      "model_module_version": "1.2.0",
      "model_name": "LayoutModel",
      "state": {}
     },
     "45b883f525f141e185f8fad1bd2d0e74": {
      "model_module": "@jupyter-widgets/controls",
      "model_module_version": "1.5.0",
      "model_name": "HTMLModel",
      "state": {
       "layout": "IPY_MODEL_cff2acacf9b9403f86b45f034f04a16a",
       "style": "IPY_MODEL_ea23b6b5a9d4499d8d0aa866a832c8d0",
       "value": "Calculating TedEval metric: 100%"
      }
     },
     "46564253aec547c7a88b3552bbbbe0d9": {
      "model_module": "@jupyter-widgets/controls",
      "model_module_version": "1.5.0",
      "model_name": "HBoxModel",
      "state": {
       "children": [
        "IPY_MODEL_58183affdd7d402e911d41ede7012eb0",
        "IPY_MODEL_128b85ef4f8c446c8beb4df0241563a3",
        "IPY_MODEL_23575f8c5b1547c1b3abd6387e555709"
       ],
       "layout": "IPY_MODEL_24eb1c14e84a41d6ba3f5261e23e5381"
      }
     },
     "467e3d83caed41f7a6ee9b8827f5d497": {
      "model_module": "@jupyter-widgets/controls",
      "model_module_version": "1.5.0",
      "model_name": "DescriptionStyleModel",
      "state": {
       "description_width": ""
      }
     },
     "46d6d5c205e54927a50cd048e3dadb13": {
      "model_module": "@jupyter-widgets/base",
      "model_module_version": "1.2.0",
      "model_name": "LayoutModel",
      "state": {}
     },
     "48669d8892a14c3aa9d9fb39d87c5a83": {
      "model_module": "@jupyter-widgets/controls",
      "model_module_version": "1.5.0",
      "model_name": "DescriptionStyleModel",
      "state": {
       "description_width": ""
      }
     },
     "487993438b834143bfae21bf4528b623": {
      "model_module": "@jupyter-widgets/base",
      "model_module_version": "1.2.0",
      "model_name": "LayoutModel",
      "state": {}
     },
     "4916194f83bb4caa9778adf28066aa84": {
      "model_module": "@jupyter-widgets/base",
      "model_module_version": "1.2.0",
      "model_name": "LayoutModel",
      "state": {}
     },
     "494031c04be84ba99fdcf42d0376d693": {
      "model_module": "@jupyter-widgets/controls",
      "model_module_version": "1.5.0",
      "model_name": "HTMLModel",
      "state": {
       "layout": "IPY_MODEL_872738daad0a4840a31880d17a9c0837",
       "style": "IPY_MODEL_eab7250a1c534a9781a0a45b3dd68614",
       "value": "Calculating TedEval metric: 100%"
      }
     },
     "4af5fd984178461bae4b8809243318d1": {
      "model_module": "@jupyter-widgets/controls",
      "model_module_version": "1.5.0",
      "model_name": "HBoxModel",
      "state": {
       "children": [
        "IPY_MODEL_40d32e84c3c54558a68faf35ec40db96",
        "IPY_MODEL_18f53ee259554eb8bdf08d373da5208b",
        "IPY_MODEL_269f05db736946a79e98d72912ab8740"
       ],
       "layout": "IPY_MODEL_c22e8f2b298043949881c31bbe6cae8c"
      }
     },
     "4b828ce07c8a435a9d3921b7c02a6bd2": {
      "model_module": "@jupyter-widgets/controls",
      "model_module_version": "1.5.0",
      "model_name": "DescriptionStyleModel",
      "state": {
       "description_width": ""
      }
     },
     "4bf78c9f1c6f42c2a7b631fca49a2c95": {
      "model_module": "@jupyter-widgets/controls",
      "model_module_version": "1.5.0",
      "model_name": "ProgressStyleModel",
      "state": {
       "description_width": ""
      }
     },
     "4cc08ca0ceb94cca9f760ae0443e7579": {
      "model_module": "@jupyter-widgets/controls",
      "model_module_version": "1.5.0",
      "model_name": "HTMLModel",
      "state": {
       "layout": "IPY_MODEL_e5fa852476f045788cc47f9064d208b4",
       "style": "IPY_MODEL_f66ea4d7b3474782b15376485d3c3c6e",
       "value": " 500/500 [00:01&lt;00:00, 325.47image/s]"
      }
     },
     "4cd690db8d92428d8eff1bbd592010f2": {
      "model_module": "@jupyter-widgets/controls",
      "model_module_version": "1.5.0",
      "model_name": "DescriptionStyleModel",
      "state": {
       "description_width": ""
      }
     },
     "4cf7b86d7da345bebfa39554e4af2599": {
      "model_module": "@jupyter-widgets/base",
      "model_module_version": "1.2.0",
      "model_name": "LayoutModel",
      "state": {}
     },
     "4d98a3dc4a5a4835947a6f9308770fd8": {
      "model_module": "@jupyter-widgets/controls",
      "model_module_version": "1.5.0",
      "model_name": "HTMLModel",
      "state": {
       "layout": "IPY_MODEL_8c4a71e98e5b4345aefad652d5ec59aa",
       "style": "IPY_MODEL_b69bf70110be46f388c385fdf6775e3f",
       "value": " 500/500 [00:01&lt;00:00, 293.76image/s]"
      }
     },
     "4ed26220b178405fa88c81e1303ec4ed": {
      "model_module": "@jupyter-widgets/controls",
      "model_module_version": "1.5.0",
      "model_name": "FloatProgressModel",
      "state": {
       "bar_style": "success",
       "layout": "IPY_MODEL_fb264558dd7a40faaa2e67d3a494d875",
       "max": 500,
       "style": "IPY_MODEL_51a8e81fd93e4cce8f92504a2d8041cc",
       "value": 500
      }
     },
     "4ef3c5b101b5441bb574f11589541a09": {
      "model_module": "@jupyter-widgets/controls",
      "model_module_version": "1.5.0",
      "model_name": "FloatProgressModel",
      "state": {
       "bar_style": "success",
       "layout": "IPY_MODEL_7e559aa1b58c4d248cf8c0ae3e6bde41",
       "max": 500,
       "style": "IPY_MODEL_a3b00cd6f448424d8003a10f8548a32f",
       "value": 500
      }
     },
     "4f8504b6572a4b90a49b0033a06a2590": {
      "model_module": "@jupyter-widgets/base",
      "model_module_version": "1.2.0",
      "model_name": "LayoutModel",
      "state": {}
     },
     "4f8aff069a544f80b2900e30c774f6b8": {
      "model_module": "@jupyter-widgets/base",
      "model_module_version": "1.2.0",
      "model_name": "LayoutModel",
      "state": {}
     },
     "4f8cf01c735149f084f76846323c2b59": {
      "model_module": "@jupyter-widgets/base",
      "model_module_version": "1.2.0",
      "model_name": "LayoutModel",
      "state": {}
     },
     "4fc12a0cec214841a74cbe831818ef4c": {
      "model_module": "@jupyter-widgets/base",
      "model_module_version": "1.2.0",
      "model_name": "LayoutModel",
      "state": {}
     },
     "50283f648682488ca912d0be354eafb3": {
      "model_module": "@jupyter-widgets/controls",
      "model_module_version": "1.5.0",
      "model_name": "HBoxModel",
      "state": {
       "children": [
        "IPY_MODEL_f63170eb35f84480a8bba6c86eecf987",
        "IPY_MODEL_6d82e5f130c14dd78e97848ca2d92bea",
        "IPY_MODEL_454fe098bedd42f48354ab57c6ce1450"
       ],
       "layout": "IPY_MODEL_e330e151eda6467e84ac9443e55f9e1a"
      }
     },
     "5080d57fc2614f50a80a469c3e11551f": {
      "model_module": "@jupyter-widgets/base",
      "model_module_version": "1.2.0",
      "model_name": "LayoutModel",
      "state": {}
     },
     "5112707820534c9782d6611b7d684e2c": {
      "model_module": "@jupyter-widgets/controls",
      "model_module_version": "1.5.0",
      "model_name": "DescriptionStyleModel",
      "state": {
       "description_width": ""
      }
     },
     "511dce9664764a429eebfb2bfdbd356e": {
      "model_module": "@jupyter-widgets/controls",
      "model_module_version": "1.5.0",
      "model_name": "HTMLModel",
      "state": {
       "layout": "IPY_MODEL_db06428cdf9d4cd1a31aba0b0e750668",
       "style": "IPY_MODEL_3e76140ff8db4ba48518d4a8469ffbd7",
       "value": "Predicting bounding boxes: 100%"
      }
     },
     "51a8e81fd93e4cce8f92504a2d8041cc": {
      "model_module": "@jupyter-widgets/controls",
      "model_module_version": "1.5.0",
      "model_name": "ProgressStyleModel",
      "state": {
       "description_width": ""
      }
     },
     "51cd933d3f434987a0686207f9fb79db": {
      "model_module": "@jupyter-widgets/base",
      "model_module_version": "1.2.0",
      "model_name": "LayoutModel",
      "state": {}
     },
     "51eec8b1a4a34ce8bf09c427cd2c5943": {
      "model_module": "@jupyter-widgets/base",
      "model_module_version": "1.2.0",
      "model_name": "LayoutModel",
      "state": {}
     },
     "5203652896424486b92621a9bd3ec8e4": {
      "model_module": "@jupyter-widgets/controls",
      "model_module_version": "1.5.0",
      "model_name": "DescriptionStyleModel",
      "state": {
       "description_width": ""
      }
     },
     "5210898fa98c4b56be1dbf7a228b255a": {
      "model_module": "@jupyter-widgets/controls",
      "model_module_version": "1.5.0",
      "model_name": "HTMLModel",
      "state": {
       "layout": "IPY_MODEL_adbdd25eca2045cd8bb2a831c9a1f61c",
       "style": "IPY_MODEL_55635428609247e3b916c7d9c61eef6b",
       "value": "Reading evaluation images: 100%"
      }
     },
     "5216f4efa2194bd387a081469299385d": {
      "model_module": "@jupyter-widgets/base",
      "model_module_version": "1.2.0",
      "model_name": "LayoutModel",
      "state": {}
     },
     "5294280a24c0485a99bba80ce68b1fed": {
      "model_module": "@jupyter-widgets/base",
      "model_module_version": "1.2.0",
      "model_name": "LayoutModel",
      "state": {}
     },
     "52d02ea933aa4445b4e5dfee244473d2": {
      "model_module": "@jupyter-widgets/base",
      "model_module_version": "1.2.0",
      "model_name": "LayoutModel",
      "state": {}
     },
     "5339e8d6b1494c648f02c1d9be0b2f9e": {
      "model_module": "@jupyter-widgets/base",
      "model_module_version": "1.2.0",
      "model_name": "LayoutModel",
      "state": {}
     },
     "537a983a6a5741208b2a294f7d8a119e": {
      "model_module": "@jupyter-widgets/base",
      "model_module_version": "1.2.0",
      "model_name": "LayoutModel",
      "state": {}
     },
     "5381dbe0519a4754b70b9f383a352905": {
      "model_module": "@jupyter-widgets/base",
      "model_module_version": "1.2.0",
      "model_name": "LayoutModel",
      "state": {}
     },
     "54a2d83453b148b3a018be8d7ba08ac1": {
      "model_module": "@jupyter-widgets/controls",
      "model_module_version": "1.5.0",
      "model_name": "HBoxModel",
      "state": {
       "children": [
        "IPY_MODEL_95c55dcdffa14426810e20ca8e62029d",
        "IPY_MODEL_4554baf59c314fee867dd1200fd46646",
        "IPY_MODEL_15c6d8bf1323431dad1ebfc6a4ec2cc0"
       ],
       "layout": "IPY_MODEL_26eb517e4bd8491ba934279ddf86b121"
      }
     },
     "55635428609247e3b916c7d9c61eef6b": {
      "model_module": "@jupyter-widgets/controls",
      "model_module_version": "1.5.0",
      "model_name": "DescriptionStyleModel",
      "state": {
       "description_width": ""
      }
     },
     "557874a78cf44b50abc4134468e15355": {
      "model_module": "@jupyter-widgets/controls",
      "model_module_version": "1.5.0",
      "model_name": "HTMLModel",
      "state": {
       "layout": "IPY_MODEL_0f72cc18d25d472a90f41855beb2e818",
       "style": "IPY_MODEL_62e4bdf1196c41e3bcad6698eac582d5",
       "value": "Calculating TedEval metric: 100%"
      }
     },
     "55b4106581274ef6b1f0680c6a806431": {
      "model_module": "@jupyter-widgets/base",
      "model_module_version": "1.2.0",
      "model_name": "LayoutModel",
      "state": {}
     },
     "56654817b7f14542a4a0149deb4193da": {
      "model_module": "@jupyter-widgets/controls",
      "model_module_version": "1.5.0",
      "model_name": "HBoxModel",
      "state": {
       "children": [
        "IPY_MODEL_45b883f525f141e185f8fad1bd2d0e74",
        "IPY_MODEL_8fba42a081d744398a6e29e4a2d8e20a",
        "IPY_MODEL_4cc08ca0ceb94cca9f760ae0443e7579"
       ],
       "layout": "IPY_MODEL_95eacc20d5944ddf8a482ddd4e6c6584"
      }
     },
     "5683fc13c14647a3a4e0a75202b2e476": {
      "model_module": "@jupyter-widgets/controls",
      "model_module_version": "1.5.0",
      "model_name": "HBoxModel",
      "state": {
       "children": [
        "IPY_MODEL_e084f752a6034cdaa583b24d3cdac0d0",
        "IPY_MODEL_8e079e2a4c8a4d1d9f87a77356d35862",
        "IPY_MODEL_3d47a8a5dec449e1b332c0bbbf47d1a7"
       ],
       "layout": "IPY_MODEL_9563760a89ba41ae8cfa376069584963"
      }
     },
     "56c93938288243449586c457970e40be": {
      "model_module": "@jupyter-widgets/controls",
      "model_module_version": "1.5.0",
      "model_name": "HBoxModel",
      "state": {
       "children": [
        "IPY_MODEL_066a99e521f14e7f8b9aacedadb22a56",
        "IPY_MODEL_fac9af8df0104b888adf45a1ef394844",
        "IPY_MODEL_f33845b227a141bb8bb6e80d6c97279d"
       ],
       "layout": "IPY_MODEL_d15ba450b7ea4bf29507e26a6a84c871"
      }
     },
     "57284ea27f3d4331bde38b363aa37acd": {
      "model_module": "@jupyter-widgets/controls",
      "model_module_version": "1.5.0",
      "model_name": "DescriptionStyleModel",
      "state": {
       "description_width": ""
      }
     },
     "58183affdd7d402e911d41ede7012eb0": {
      "model_module": "@jupyter-widgets/controls",
      "model_module_version": "1.5.0",
      "model_name": "HTMLModel",
      "state": {
       "layout": "IPY_MODEL_747fc1e741d64fb9acdbf6245c68f919",
       "style": "IPY_MODEL_178590b97272423185b97b24c415d76c",
       "value": "Calculating TedEval metric: 100%"
      }
     },
     "581de7576e784da8b762e7ef034b17d5": {
      "model_module": "@jupyter-widgets/base",
      "model_module_version": "1.2.0",
      "model_name": "LayoutModel",
      "state": {}
     },
     "58b015d1e355436aa25cddbcded02ace": {
      "model_module": "@jupyter-widgets/controls",
      "model_module_version": "1.5.0",
      "model_name": "HTMLModel",
      "state": {
       "layout": "IPY_MODEL_6d5b2baa146d41cf8eda80b39aefd303",
       "style": "IPY_MODEL_ee380fd7a5a34d3888307b5edacfef5d",
       "value": " 500/500 [00:03&lt;00:00, 133.72image/s]"
      }
     },
     "5a3bd992f5de4a09a9519919ca66a808": {
      "model_module": "@jupyter-widgets/controls",
      "model_module_version": "1.5.0",
      "model_name": "HTMLModel",
      "state": {
       "layout": "IPY_MODEL_7f82e19a85de45a88d7512b807e56e0d",
       "style": "IPY_MODEL_974d6afbee3f4e838480fb59264389c7",
       "value": "Predicting bounding boxes: 100%"
      }
     },
     "5ba09e752bd845dab2d76b557f103cf6": {
      "model_module": "@jupyter-widgets/controls",
      "model_module_version": "1.5.0",
      "model_name": "DescriptionStyleModel",
      "state": {
       "description_width": ""
      }
     },
     "5bb43e2cecd041aaa3eeda377fc594f6": {
      "model_module": "@jupyter-widgets/base",
      "model_module_version": "1.2.0",
      "model_name": "LayoutModel",
      "state": {}
     },
     "5bcc410354404cd9a981ad04cf52b25b": {
      "model_module": "@jupyter-widgets/base",
      "model_module_version": "1.2.0",
      "model_name": "LayoutModel",
      "state": {}
     },
     "5c659d1a00a54a63aca6e06a78661c38": {
      "model_module": "@jupyter-widgets/controls",
      "model_module_version": "1.5.0",
      "model_name": "ProgressStyleModel",
      "state": {
       "description_width": ""
      }
     },
     "5ce99e02056e4da28c7c1fc01ab8f354": {
      "model_module": "@jupyter-widgets/controls",
      "model_module_version": "1.5.0",
      "model_name": "HBoxModel",
      "state": {
       "children": [
        "IPY_MODEL_789c973e48f94e088d26978a939e0f6b",
        "IPY_MODEL_f73da7782528444fa4f4481152f3a984",
        "IPY_MODEL_30b2aad97bd44c47936379e68590102e"
       ],
       "layout": "IPY_MODEL_b45cea25af614ed6b82997a11609ca3a"
      }
     },
     "5d8e98b42ac74abea0e2dbc5d7b1a74b": {
      "model_module": "@jupyter-widgets/base",
      "model_module_version": "1.2.0",
      "model_name": "LayoutModel",
      "state": {}
     },
     "5d934f82a29d40388b5bdd835f4fc866": {
      "model_module": "@jupyter-widgets/base",
      "model_module_version": "1.2.0",
      "model_name": "LayoutModel",
      "state": {}
     },
     "5dc26a8449184281ba3c55d045ec0477": {
      "model_module": "@jupyter-widgets/base",
      "model_module_version": "1.2.0",
      "model_name": "LayoutModel",
      "state": {}
     },
     "5df87e0f84274c0e865c475fc6ba02d2": {
      "model_module": "@jupyter-widgets/base",
      "model_module_version": "1.2.0",
      "model_name": "LayoutModel",
      "state": {}
     },
     "5e3d747b9f7e444fa9022c52820264df": {
      "model_module": "@jupyter-widgets/base",
      "model_module_version": "1.2.0",
      "model_name": "LayoutModel",
      "state": {}
     },
     "5f864f692cde4aab9843a09445bbdb82": {
      "model_module": "@jupyter-widgets/base",
      "model_module_version": "1.2.0",
      "model_name": "LayoutModel",
      "state": {}
     },
     "5fd6d4023b9f46e9a80d9c2f94999d04": {
      "model_module": "@jupyter-widgets/base",
      "model_module_version": "1.2.0",
      "model_name": "LayoutModel",
      "state": {}
     },
     "5ffd779745e840299fc189f66fa3efc1": {
      "model_module": "@jupyter-widgets/controls",
      "model_module_version": "1.5.0",
      "model_name": "FloatProgressModel",
      "state": {
       "bar_style": "success",
       "layout": "IPY_MODEL_18d2e3b4e1654a31a787cb55980c6131",
       "max": 500,
       "style": "IPY_MODEL_a07c2ba7512a46dabac62fc9a0d33cd8",
       "value": 500
      }
     },
     "6030925f5715422e9a217cbe72e73f42": {
      "model_module": "@jupyter-widgets/base",
      "model_module_version": "1.2.0",
      "model_name": "LayoutModel",
      "state": {}
     },
     "6037375be4074047b33f9fd5d9d27598": {
      "model_module": "@jupyter-widgets/controls",
      "model_module_version": "1.5.0",
      "model_name": "HBoxModel",
      "state": {
       "children": [
        "IPY_MODEL_443a82f6d06c42528e9944d7450cc129",
        "IPY_MODEL_4ed26220b178405fa88c81e1303ec4ed",
        "IPY_MODEL_4120d9ece6ce437e985934f98a5d950f"
       ],
       "layout": "IPY_MODEL_4cf7b86d7da345bebfa39554e4af2599"
      }
     },
     "60903f41c14f46aa8ef4877839f3a160": {
      "model_module": "@jupyter-widgets/controls",
      "model_module_version": "1.5.0",
      "model_name": "DescriptionStyleModel",
      "state": {
       "description_width": ""
      }
     },
     "60a771de5532463d86296bce5af83ed8": {
      "model_module": "@jupyter-widgets/base",
      "model_module_version": "1.2.0",
      "model_name": "LayoutModel",
      "state": {}
     },
     "60ac92a076c54341b5cf362daaeca59c": {
      "model_module": "@jupyter-widgets/controls",
      "model_module_version": "1.5.0",
      "model_name": "DescriptionStyleModel",
      "state": {
       "description_width": ""
      }
     },
     "611ccc0d23dc45a6bde5a1a479a44a43": {
      "model_module": "@jupyter-widgets/controls",
      "model_module_version": "1.5.0",
      "model_name": "HTMLModel",
      "state": {
       "layout": "IPY_MODEL_5df87e0f84274c0e865c475fc6ba02d2",
       "style": "IPY_MODEL_14c8c8b5a0554821a3e116d44cf0a958",
       "value": " 500/500 [00:38&lt;00:00, 13.21image/s]"
      }
     },
     "6121096cde5a4bb596746647c2e7d5e5": {
      "model_module": "@jupyter-widgets/controls",
      "model_module_version": "1.5.0",
      "model_name": "FloatProgressModel",
      "state": {
       "bar_style": "success",
       "layout": "IPY_MODEL_3c2215443ed34b47bf9c3a72d434378f",
       "max": 500,
       "style": "IPY_MODEL_aa71d4c6843e41e2b5f9bd6dd8c90808",
       "value": 500
      }
     },
     "612aefb2963449149549fd8477f865f5": {
      "model_module": "@jupyter-widgets/controls",
      "model_module_version": "1.5.0",
      "model_name": "HTMLModel",
      "state": {
       "layout": "IPY_MODEL_059104b2518a48428776726c6f573763",
       "style": "IPY_MODEL_16dc4dc92d31455b80f96886e214d912",
       "value": "Predicting bounding boxes: 100%"
      }
     },
     "618faf9dd6804f62b3ed1babebb63936": {
      "model_module": "@jupyter-widgets/controls",
      "model_module_version": "1.5.0",
      "model_name": "ProgressStyleModel",
      "state": {
       "description_width": ""
      }
     },
     "61d61f08bac0423ebb0a4dd0bcb4859c": {
      "model_module": "@jupyter-widgets/base",
      "model_module_version": "1.2.0",
      "model_name": "LayoutModel",
      "state": {}
     },
     "6207091ab84a46dab2816f5ca9a51ef0": {
      "model_module": "@jupyter-widgets/controls",
      "model_module_version": "1.5.0",
      "model_name": "HBoxModel",
      "state": {
       "children": [
        "IPY_MODEL_7cd66f2b99754c4b9368256c4b041164",
        "IPY_MODEL_8c08dfb4950248cba6b952481b1b7397",
        "IPY_MODEL_58b015d1e355436aa25cddbcded02ace"
       ],
       "layout": "IPY_MODEL_f37ce8a41e4945868c85554102e477f4"
      }
     },
     "62766ea7d99f42d28bb09b42908e40d5": {
      "model_module": "@jupyter-widgets/controls",
      "model_module_version": "1.5.0",
      "model_name": "HTMLModel",
      "state": {
       "layout": "IPY_MODEL_4fc12a0cec214841a74cbe831818ef4c",
       "style": "IPY_MODEL_dcaa20e673064f53859de355149647e1",
       "value": " 500/500 [00:01&lt;00:00, 270.51image/s]"
      }
     },
     "62856756ea1c459897fb03a7d06bf85f": {
      "model_module": "@jupyter-widgets/controls",
      "model_module_version": "1.5.0",
      "model_name": "HBoxModel",
      "state": {
       "children": [
        "IPY_MODEL_7377f472ba7a4a5299c9118a4cc3d8fe",
        "IPY_MODEL_7753c84f311842439854a569015e9b8a",
        "IPY_MODEL_44c999b50ebc44018247b649d86a3e43"
       ],
       "layout": "IPY_MODEL_c7472bbc3c894433a9a3a1d9ed532517"
      }
     },
     "62b7ed411f4949b0bf13ece8d3d302dc": {
      "model_module": "@jupyter-widgets/controls",
      "model_module_version": "1.5.0",
      "model_name": "DescriptionStyleModel",
      "state": {
       "description_width": ""
      }
     },
     "62d202a6935d43a385a8d1c92d633b2b": {
      "model_module": "@jupyter-widgets/controls",
      "model_module_version": "1.5.0",
      "model_name": "HTMLModel",
      "state": {
       "layout": "IPY_MODEL_cc72ba7804164c069365c7f26d9430d1",
       "style": "IPY_MODEL_edbe88e32de24d279c01f38c35aaf690",
       "value": " 500/500 [00:06&lt;00:00, 73.82image/s]"
      }
     },
     "62e4bdf1196c41e3bcad6698eac582d5": {
      "model_module": "@jupyter-widgets/controls",
      "model_module_version": "1.5.0",
      "model_name": "DescriptionStyleModel",
      "state": {
       "description_width": ""
      }
     },
     "62eaa16ce8ba4ec0adacd2c8b2cbed29": {
      "model_module": "@jupyter-widgets/controls",
      "model_module_version": "1.5.0",
      "model_name": "DescriptionStyleModel",
      "state": {
       "description_width": ""
      }
     },
     "6312c4627fca49038df14a1651e0b92f": {
      "model_module": "@jupyter-widgets/base",
      "model_module_version": "1.2.0",
      "model_name": "LayoutModel",
      "state": {}
     },
     "63754ae14302451fb871a3938e1e9d20": {
      "model_module": "@jupyter-widgets/controls",
      "model_module_version": "1.5.0",
      "model_name": "FloatProgressModel",
      "state": {
       "bar_style": "success",
       "layout": "IPY_MODEL_ddef0d037ccd4e1d9b85e1e60d384fd0",
       "max": 500,
       "style": "IPY_MODEL_3187094d6d7545dc8dd9ee11b93b690d",
       "value": 500
      }
     },
     "63898ffa9a084924bf180f068c54071b": {
      "model_module": "@jupyter-widgets/controls",
      "model_module_version": "1.5.0",
      "model_name": "ProgressStyleModel",
      "state": {
       "description_width": ""
      }
     },
     "63c7e306199b44d6aa29b9bf17e4efca": {
      "model_module": "@jupyter-widgets/controls",
      "model_module_version": "1.5.0",
      "model_name": "HTMLModel",
      "state": {
       "layout": "IPY_MODEL_af48f16510cb49c6bbf11e2e56165a8a",
       "style": "IPY_MODEL_0031b27d404242bab3bef90b85ffa61c",
       "value": " 500/500 [00:38&lt;00:00, 13.02image/s]"
      }
     },
     "63cbaa2c6a7345ffb8664d1566fafad0": {
      "model_module": "@jupyter-widgets/base",
      "model_module_version": "1.2.0",
      "model_name": "LayoutModel",
      "state": {}
     },
     "6452d95b3a9a4fffb6f3e8d8f8dec125": {
      "model_module": "@jupyter-widgets/base",
      "model_module_version": "1.2.0",
      "model_name": "LayoutModel",
      "state": {}
     },
     "64c54df061984362bea39de1558aa8f1": {
      "model_module": "@jupyter-widgets/base",
      "model_module_version": "1.2.0",
      "model_name": "LayoutModel",
      "state": {}
     },
     "65127938fab844149780810005790e42": {
      "model_module": "@jupyter-widgets/base",
      "model_module_version": "1.2.0",
      "model_name": "LayoutModel",
      "state": {}
     },
     "652a8beb972f4ef494665072f699883d": {
      "model_module": "@jupyter-widgets/controls",
      "model_module_version": "1.5.0",
      "model_name": "FloatProgressModel",
      "state": {
       "bar_style": "success",
       "layout": "IPY_MODEL_52d02ea933aa4445b4e5dfee244473d2",
       "max": 500,
       "style": "IPY_MODEL_fc7088578a7248088f42d7bf596919cc",
       "value": 500
      }
     },
     "657a4d8473ed43a699552697cae105f9": {
      "model_module": "@jupyter-widgets/controls",
      "model_module_version": "1.5.0",
      "model_name": "HTMLModel",
      "state": {
       "layout": "IPY_MODEL_79b5cf7beee841eba1fd4723a8e2f585",
       "style": "IPY_MODEL_7ac4ba9c8ed04d29a0437d6228853a38",
       "value": " 500/500 [00:38&lt;00:00, 13.14image/s]"
      }
     },
     "65aa775159744247912f0a11ff437337": {
      "model_module": "@jupyter-widgets/base",
      "model_module_version": "1.2.0",
      "model_name": "LayoutModel",
      "state": {}
     },
     "65c2b5de6e8144a7993797a6f6e13712": {
      "model_module": "@jupyter-widgets/controls",
      "model_module_version": "1.5.0",
      "model_name": "DescriptionStyleModel",
      "state": {
       "description_width": ""
      }
     },
     "660c5ad4100c4af4b6d3bbb7c0351b58": {
      "model_module": "@jupyter-widgets/controls",
      "model_module_version": "1.5.0",
      "model_name": "HBoxModel",
      "state": {
       "children": [
        "IPY_MODEL_494031c04be84ba99fdcf42d0376d693",
        "IPY_MODEL_ee49accfc15e4285a06187084574e569",
        "IPY_MODEL_077ae5d9396f4fc1b263456c6a62d6d0"
       ],
       "layout": "IPY_MODEL_d1f6eb613d014615916d09172a3af994"
      }
     },
     "661c8c1616cf4760980c7d5a55474603": {
      "model_module": "@jupyter-widgets/base",
      "model_module_version": "1.2.0",
      "model_name": "LayoutModel",
      "state": {}
     },
     "6736cf47c73d4192bc6518aa35acddb9": {
      "model_module": "@jupyter-widgets/base",
      "model_module_version": "1.2.0",
      "model_name": "LayoutModel",
      "state": {}
     },
     "684b1738176e441dbd4ca7867693a58b": {
      "model_module": "@jupyter-widgets/base",
      "model_module_version": "1.2.0",
      "model_name": "LayoutModel",
      "state": {}
     },
     "686f2e18433e4913bafc725426ab6e67": {
      "model_module": "@jupyter-widgets/controls",
      "model_module_version": "1.5.0",
      "model_name": "FloatProgressModel",
      "state": {
       "bar_style": "success",
       "layout": "IPY_MODEL_1ca7dcd82ed04eb287548d03363eadfd",
       "max": 500,
       "style": "IPY_MODEL_c10780e74cf54543937c8684f9d17dd5",
       "value": 500
      }
     },
     "696cc77e0c434d17bc8ceeea3db0f730": {
      "model_module": "@jupyter-widgets/controls",
      "model_module_version": "1.5.0",
      "model_name": "ProgressStyleModel",
      "state": {
       "description_width": ""
      }
     },
     "6b1fc452b7ce4112991f3c1e78ffb832": {
      "model_module": "@jupyter-widgets/base",
      "model_module_version": "1.2.0",
      "model_name": "LayoutModel",
      "state": {}
     },
     "6be670fb302c4eeb808c4e46de17cfaf": {
      "model_module": "@jupyter-widgets/controls",
      "model_module_version": "1.5.0",
      "model_name": "HTMLModel",
      "state": {
       "layout": "IPY_MODEL_ff7547a18ff5417ba9f41e5fcf641dd5",
       "style": "IPY_MODEL_baf7064ec2ba42919220c1c03251af8f",
       "value": " 500/500 [00:38&lt;00:00, 12.69image/s]"
      }
     },
     "6c10ab760288467d8917b40aa66af67e": {
      "model_module": "@jupyter-widgets/controls",
      "model_module_version": "1.5.0",
      "model_name": "DescriptionStyleModel",
      "state": {
       "description_width": ""
      }
     },
     "6c465e9ac4e54e2f83ecb9686889e75b": {
      "model_module": "@jupyter-widgets/base",
      "model_module_version": "1.2.0",
      "model_name": "LayoutModel",
      "state": {}
     },
     "6c8d63968d254352b149b95881d7c8af": {
      "model_module": "@jupyter-widgets/controls",
      "model_module_version": "1.5.0",
      "model_name": "ProgressStyleModel",
      "state": {
       "description_width": ""
      }
     },
     "6d48892908e245eb9242a446150a198b": {
      "model_module": "@jupyter-widgets/controls",
      "model_module_version": "1.5.0",
      "model_name": "FloatProgressModel",
      "state": {
       "bar_style": "success",
       "layout": "IPY_MODEL_6312c4627fca49038df14a1651e0b92f",
       "max": 500,
       "style": "IPY_MODEL_28c2cfa5857e4ea18af873b14eb3c2e0",
       "value": 500
      }
     },
     "6d5b2baa146d41cf8eda80b39aefd303": {
      "model_module": "@jupyter-widgets/base",
      "model_module_version": "1.2.0",
      "model_name": "LayoutModel",
      "state": {}
     },
     "6d82e5f130c14dd78e97848ca2d92bea": {
      "model_module": "@jupyter-widgets/controls",
      "model_module_version": "1.5.0",
      "model_name": "FloatProgressModel",
      "state": {
       "bar_style": "success",
       "layout": "IPY_MODEL_bcb033af889345ed83f966eb225214f4",
       "max": 500,
       "style": "IPY_MODEL_191692595345417bb9f6c5d65f495edd",
       "value": 500
      }
     },
     "6d93dbff43224f04a6ff07b391b597b9": {
      "model_module": "@jupyter-widgets/base",
      "model_module_version": "1.2.0",
      "model_name": "LayoutModel",
      "state": {}
     },
     "6da8e0639a364927a6c97584b4a3826e": {
      "model_module": "@jupyter-widgets/controls",
      "model_module_version": "1.5.0",
      "model_name": "DescriptionStyleModel",
      "state": {
       "description_width": ""
      }
     },
     "6e352eb0c3f94e06aa0698a69a4f14e9": {
      "model_module": "@jupyter-widgets/controls",
      "model_module_version": "1.5.0",
      "model_name": "HTMLModel",
      "state": {
       "layout": "IPY_MODEL_581de7576e784da8b762e7ef034b17d5",
       "style": "IPY_MODEL_18b92b21ff22467ba2182a513af5fefe",
       "value": "Calculating TedEval metric: 100%"
      }
     },
     "6f0e8aca7c094efea9ced3f8bd7aa053": {
      "model_module": "@jupyter-widgets/base",
      "model_module_version": "1.2.0",
      "model_name": "LayoutModel",
      "state": {}
     },
     "6f6497e6d9894f8288631ba10cadbb53": {
      "model_module": "@jupyter-widgets/base",
      "model_module_version": "1.2.0",
      "model_name": "LayoutModel",
      "state": {}
     },
     "6f89bf16599f4593b5bc21057ad91c12": {
      "model_module": "@jupyter-widgets/base",
      "model_module_version": "1.2.0",
      "model_name": "LayoutModel",
      "state": {}
     },
     "6f96d81555a541dc8935131b9f3eadcd": {
      "model_module": "@jupyter-widgets/controls",
      "model_module_version": "1.5.0",
      "model_name": "DescriptionStyleModel",
      "state": {
       "description_width": ""
      }
     },
     "70929ef7d055487ea1f3a3f94df0d5f1": {
      "model_module": "@jupyter-widgets/controls",
      "model_module_version": "1.5.0",
      "model_name": "HTMLModel",
      "state": {
       "layout": "IPY_MODEL_3c5e87be52a54c6fa33bc59a68a1b075",
       "style": "IPY_MODEL_97990f35db4c4a5f944bbe2a8f049178",
       "value": " 500/500 [00:01&lt;00:00, 312.83image/s]"
      }
     },
     "70dc2e1840194a7ea5339d68f4210fba": {
      "model_module": "@jupyter-widgets/base",
      "model_module_version": "1.2.0",
      "model_name": "LayoutModel",
      "state": {}
     },
     "71db1e706dec4fdb8c21c9d9c293bf83": {
      "model_module": "@jupyter-widgets/base",
      "model_module_version": "1.2.0",
      "model_name": "LayoutModel",
      "state": {}
     },
     "72e8371841e64b02ba455e0a76608ecb": {
      "model_module": "@jupyter-widgets/controls",
      "model_module_version": "1.5.0",
      "model_name": "HTMLModel",
      "state": {
       "layout": "IPY_MODEL_51eec8b1a4a34ce8bf09c427cd2c5943",
       "style": "IPY_MODEL_8a5472558a054df1a6bfb410abcd8ebc",
       "value": "Predicting bounding boxes: 100%"
      }
     },
     "7377f472ba7a4a5299c9118a4cc3d8fe": {
      "model_module": "@jupyter-widgets/controls",
      "model_module_version": "1.5.0",
      "model_name": "HTMLModel",
      "state": {
       "layout": "IPY_MODEL_6030925f5715422e9a217cbe72e73f42",
       "style": "IPY_MODEL_c6bd7a4f3e34436181b944f7c91da455",
       "value": "Reading evaluation images: 100%"
      }
     },
     "73f864897204492290dc1b37f57c0a0d": {
      "model_module": "@jupyter-widgets/controls",
      "model_module_version": "1.5.0",
      "model_name": "DescriptionStyleModel",
      "state": {
       "description_width": ""
      }
     },
     "747fc1e741d64fb9acdbf6245c68f919": {
      "model_module": "@jupyter-widgets/base",
      "model_module_version": "1.2.0",
      "model_name": "LayoutModel",
      "state": {}
     },
     "75d2d66a35ad4a9a9f835158896ad2b6": {
      "model_module": "@jupyter-widgets/controls",
      "model_module_version": "1.5.0",
      "model_name": "HTMLModel",
      "state": {
       "layout": "IPY_MODEL_f8d1967e4b354c259b139a1da89b4742",
       "style": "IPY_MODEL_9d9285b186bf4575a815ad514c0b564c",
       "value": "Predicting bounding boxes: 100%"
      }
     },
     "75e73ab1d07c4fbbb453c7818384f13c": {
      "model_module": "@jupyter-widgets/controls",
      "model_module_version": "1.5.0",
      "model_name": "DescriptionStyleModel",
      "state": {
       "description_width": ""
      }
     },
     "75f471b110684d8bbe1ada7442f942e9": {
      "model_module": "@jupyter-widgets/controls",
      "model_module_version": "1.5.0",
      "model_name": "HBoxModel",
      "state": {
       "children": [
        "IPY_MODEL_557874a78cf44b50abc4134468e15355",
        "IPY_MODEL_38761a5a9d074a2b871f72232d934d1b",
        "IPY_MODEL_3a130805729744a2b6bfbe8964349bb4"
       ],
       "layout": "IPY_MODEL_9b7c6f5930344f8b951c8812bc01a935"
      }
     },
     "762ee334718843a9889efa7b825997ba": {
      "model_module": "@jupyter-widgets/base",
      "model_module_version": "1.2.0",
      "model_name": "LayoutModel",
      "state": {}
     },
     "7648e05de3f8454187a30ae43c8a4f1e": {
      "model_module": "@jupyter-widgets/base",
      "model_module_version": "1.2.0",
      "model_name": "LayoutModel",
      "state": {}
     },
     "773bfd59e3914a51875a71dc91063048": {
      "model_module": "@jupyter-widgets/controls",
      "model_module_version": "1.5.0",
      "model_name": "DescriptionStyleModel",
      "state": {
       "description_width": ""
      }
     },
     "7753c84f311842439854a569015e9b8a": {
      "model_module": "@jupyter-widgets/controls",
      "model_module_version": "1.5.0",
      "model_name": "FloatProgressModel",
      "state": {
       "bar_style": "success",
       "layout": "IPY_MODEL_7bf54f08b0b144e3bf158d758aaf8c65",
       "max": 500,
       "style": "IPY_MODEL_e5696cb091db4e098fa7c0a246782a5a",
       "value": 500
      }
     },
     "7777d1ec0945427c9c734cc21dc4a0cb": {
      "model_module": "@jupyter-widgets/controls",
      "model_module_version": "1.5.0",
      "model_name": "DescriptionStyleModel",
      "state": {
       "description_width": ""
      }
     },
     "781e53448afb4c69952ab5c393b9915b": {
      "model_module": "@jupyter-widgets/base",
      "model_module_version": "1.2.0",
      "model_name": "LayoutModel",
      "state": {}
     },
     "7884889b942d4408838f0040a4a4e7ed": {
      "model_module": "@jupyter-widgets/base",
      "model_module_version": "1.2.0",
      "model_name": "LayoutModel",
      "state": {}
     },
     "789c973e48f94e088d26978a939e0f6b": {
      "model_module": "@jupyter-widgets/controls",
      "model_module_version": "1.5.0",
      "model_name": "HTMLModel",
      "state": {
       "layout": "IPY_MODEL_27b5e87f22f3473495d300fe7f0e39e0",
       "style": "IPY_MODEL_467e3d83caed41f7a6ee9b8827f5d497",
       "value": "Calculating TedEval metric: 100%"
      }
     },
     "78d14f5344cd47cf8e2cf341abd863a6": {
      "model_module": "@jupyter-widgets/base",
      "model_module_version": "1.2.0",
      "model_name": "LayoutModel",
      "state": {}
     },
     "7906a2272a2540a5bdacf93633279aeb": {
      "model_module": "@jupyter-widgets/controls",
      "model_module_version": "1.5.0",
      "model_name": "FloatProgressModel",
      "state": {
       "bar_style": "success",
       "layout": "IPY_MODEL_3cf2ab0f71ff42118fa085254474e30b",
       "max": 500,
       "style": "IPY_MODEL_c4919046d07e499c83a9cd98286edf1f",
       "value": 500
      }
     },
     "799df2110c37403cb9f57276b2d2dd58": {
      "model_module": "@jupyter-widgets/controls",
      "model_module_version": "1.5.0",
      "model_name": "HBoxModel",
      "state": {
       "children": [
        "IPY_MODEL_a54ce136b4ff49f2b70c05307cf0eefb",
        "IPY_MODEL_983b62c2eb79453d8953d49369f2eeb8",
        "IPY_MODEL_343ef2fdfa7040ab831fb3f4193bcdcf"
       ],
       "layout": "IPY_MODEL_1e0d301aaba24213b4e7f968eaa29a1e"
      }
     },
     "79b5cf7beee841eba1fd4723a8e2f585": {
      "model_module": "@jupyter-widgets/base",
      "model_module_version": "1.2.0",
      "model_name": "LayoutModel",
      "state": {}
     },
     "7a0769e64e544babbca2b6e1c178b988": {
      "model_module": "@jupyter-widgets/base",
      "model_module_version": "1.2.0",
      "model_name": "LayoutModel",
      "state": {}
     },
     "7ac4ba9c8ed04d29a0437d6228853a38": {
      "model_module": "@jupyter-widgets/controls",
      "model_module_version": "1.5.0",
      "model_name": "DescriptionStyleModel",
      "state": {
       "description_width": ""
      }
     },
     "7ac7c9673ea54a67adb5a7bded23652a": {
      "model_module": "@jupyter-widgets/base",
      "model_module_version": "1.2.0",
      "model_name": "LayoutModel",
      "state": {}
     },
     "7ae94c966e75404c9ffb14e60db6a604": {
      "model_module": "@jupyter-widgets/controls",
      "model_module_version": "1.5.0",
      "model_name": "HTMLModel",
      "state": {
       "layout": "IPY_MODEL_cf8b8f82a08d48efbd1fe05cf1b7cac6",
       "style": "IPY_MODEL_b510a5a4d3434c7ba0d3772932445d9b",
       "value": "Calculating TedEval metric: 100%"
      }
     },
     "7b69aa27a3b240b289a0f4543e9763af": {
      "model_module": "@jupyter-widgets/controls",
      "model_module_version": "1.5.0",
      "model_name": "DescriptionStyleModel",
      "state": {
       "description_width": ""
      }
     },
     "7bf54f08b0b144e3bf158d758aaf8c65": {
      "model_module": "@jupyter-widgets/base",
      "model_module_version": "1.2.0",
      "model_name": "LayoutModel",
      "state": {}
     },
     "7c5f03fde0184f03a63e53ec51d9783a": {
      "model_module": "@jupyter-widgets/controls",
      "model_module_version": "1.5.0",
      "model_name": "DescriptionStyleModel",
      "state": {
       "description_width": ""
      }
     },
     "7cd66f2b99754c4b9368256c4b041164": {
      "model_module": "@jupyter-widgets/controls",
      "model_module_version": "1.5.0",
      "model_name": "HTMLModel",
      "state": {
       "layout": "IPY_MODEL_da5ee1abcbcb442e9b037ca7b2ccd316",
       "style": "IPY_MODEL_0a451fc8cb414bd38fd96b321e43536a",
       "value": "Calculating TedEval metric: 100%"
      }
     },
     "7e559aa1b58c4d248cf8c0ae3e6bde41": {
      "model_module": "@jupyter-widgets/base",
      "model_module_version": "1.2.0",
      "model_name": "LayoutModel",
      "state": {}
     },
     "7ea0f4961fd1418eb18c6be9b66c066d": {
      "model_module": "@jupyter-widgets/base",
      "model_module_version": "1.2.0",
      "model_name": "LayoutModel",
      "state": {}
     },
     "7f82e19a85de45a88d7512b807e56e0d": {
      "model_module": "@jupyter-widgets/base",
      "model_module_version": "1.2.0",
      "model_name": "LayoutModel",
      "state": {}
     },
     "801da504c0b145a98f9bf46f6817472a": {
      "model_module": "@jupyter-widgets/controls",
      "model_module_version": "1.5.0",
      "model_name": "HBoxModel",
      "state": {
       "children": [
        "IPY_MODEL_db5b39f1594d44d086641935e3841bcc",
        "IPY_MODEL_01772cc594324162a0a65c9bda2c57a7",
        "IPY_MODEL_e0c28d37050f42d9aa964d81a8e4c474"
       ],
       "layout": "IPY_MODEL_a3c407842328479eb7950149c1277ad8"
      }
     },
     "8079e33d8f3647ef84cc61e288040d45": {
      "model_module": "@jupyter-widgets/controls",
      "model_module_version": "1.5.0",
      "model_name": "HBoxModel",
      "state": {
       "children": [
        "IPY_MODEL_02e074d3cc02488f8d00852f82580dfd",
        "IPY_MODEL_412241c08d5346fd9bd29dd9ef9ce774",
        "IPY_MODEL_137dfc9a0be34d41be3ca22732874109"
       ],
       "layout": "IPY_MODEL_7ea0f4961fd1418eb18c6be9b66c066d"
      }
     },
     "80c36058aca8484693a1129b0908abfc": {
      "model_module": "@jupyter-widgets/base",
      "model_module_version": "1.2.0",
      "model_name": "LayoutModel",
      "state": {}
     },
     "8270a45a98774ab4883c70fac6c0cbe4": {
      "model_module": "@jupyter-widgets/base",
      "model_module_version": "1.2.0",
      "model_name": "LayoutModel",
      "state": {}
     },
     "82b32194112a4359bb3b8a5772ede372": {
      "model_module": "@jupyter-widgets/controls",
      "model_module_version": "1.5.0",
      "model_name": "DescriptionStyleModel",
      "state": {
       "description_width": ""
      }
     },
     "82b4858bd48e49ad9b1eed11da86b29a": {
      "model_module": "@jupyter-widgets/controls",
      "model_module_version": "1.5.0",
      "model_name": "DescriptionStyleModel",
      "state": {
       "description_width": ""
      }
     },
     "849e72a87c304f48b625e970902fe6e0": {
      "model_module": "@jupyter-widgets/base",
      "model_module_version": "1.2.0",
      "model_name": "LayoutModel",
      "state": {}
     },
     "84ca091cfc3240278fa2ad510f855da2": {
      "model_module": "@jupyter-widgets/controls",
      "model_module_version": "1.5.0",
      "model_name": "HTMLModel",
      "state": {
       "layout": "IPY_MODEL_aafe2cfad8134e9d83b803961b145bbc",
       "style": "IPY_MODEL_dffaae16bee84821a6b674d3295c2faf",
       "value": " 500/500 [00:38&lt;00:00, 12.93image/s]"
      }
     },
     "84e89fa23820409693580a07922d2e9f": {
      "model_module": "@jupyter-widgets/controls",
      "model_module_version": "1.5.0",
      "model_name": "HBoxModel",
      "state": {
       "children": [
        "IPY_MODEL_a1b95b82a6f44c789dbf7cc346e4c86a",
        "IPY_MODEL_e24069b33533410da1f491bb72caa7b5",
        "IPY_MODEL_2ee4008d518d4a9496a9de7d454eb23c"
       ],
       "layout": "IPY_MODEL_a0ebd6f0753c4093b7306ff7135100f8"
      }
     },
     "854a2a52ad63443e875e6fd43e1329f4": {
      "model_module": "@jupyter-widgets/controls",
      "model_module_version": "1.5.0",
      "model_name": "HBoxModel",
      "state": {
       "children": [
        "IPY_MODEL_2d26bac018ab431cb20b4ec7d68b58e9",
        "IPY_MODEL_165efacbdd9643ab960148f65bcfbc24",
        "IPY_MODEL_62766ea7d99f42d28bb09b42908e40d5"
       ],
       "layout": "IPY_MODEL_04533157408d47db9d92858445f49205"
      }
     },
     "865fe669f82d4c7f98fb60e471d0b4c9": {
      "model_module": "@jupyter-widgets/base",
      "model_module_version": "1.2.0",
      "model_name": "LayoutModel",
      "state": {}
     },
     "872738daad0a4840a31880d17a9c0837": {
      "model_module": "@jupyter-widgets/base",
      "model_module_version": "1.2.0",
      "model_name": "LayoutModel",
      "state": {}
     },
     "881071355d094fe9a4458a050232069e": {
      "model_module": "@jupyter-widgets/controls",
      "model_module_version": "1.5.0",
      "model_name": "HTMLModel",
      "state": {
       "layout": "IPY_MODEL_da3a7ab760b74423908f1284846bb332",
       "style": "IPY_MODEL_01f365a5bb004f418fd9e94d1261c997",
       "value": "Predicting bounding boxes: 100%"
      }
     },
     "882f136a76814b4d972f0998624f9b3d": {
      "model_module": "@jupyter-widgets/base",
      "model_module_version": "1.2.0",
      "model_name": "LayoutModel",
      "state": {}
     },
     "8868a99db7d34fab9c723d02fa0d5586": {
      "model_module": "@jupyter-widgets/controls",
      "model_module_version": "1.5.0",
      "model_name": "HBoxModel",
      "state": {
       "children": [
        "IPY_MODEL_881071355d094fe9a4458a050232069e",
        "IPY_MODEL_439bde7cdf4f4931a2435d84deaee61f",
        "IPY_MODEL_cf64e6d67df1404ea4de4aae920ec489"
       ],
       "layout": "IPY_MODEL_b33ae4f13f6b43569191ab3dbad0d9eb"
      }
     },
     "888f0b228d18433680c73e16f3f60d0a": {
      "model_module": "@jupyter-widgets/controls",
      "model_module_version": "1.5.0",
      "model_name": "HTMLModel",
      "state": {
       "layout": "IPY_MODEL_6b1fc452b7ce4112991f3c1e78ffb832",
       "style": "IPY_MODEL_d60693f9c0f24f28953661c126f14e13",
       "value": "Calculating TedEval metric: 100%"
      }
     },
     "8895f17190864cff88cb770566a3729c": {
      "model_module": "@jupyter-widgets/controls",
      "model_module_version": "1.5.0",
      "model_name": "HTMLModel",
      "state": {
       "layout": "IPY_MODEL_2e002409d13f4b7686d0bfff816da965",
       "style": "IPY_MODEL_82b32194112a4359bb3b8a5772ede372",
       "value": " 500/500 [00:39&lt;00:00, 12.65image/s]"
      }
     },
     "8a5472558a054df1a6bfb410abcd8ebc": {
      "model_module": "@jupyter-widgets/controls",
      "model_module_version": "1.5.0",
      "model_name": "DescriptionStyleModel",
      "state": {
       "description_width": ""
      }
     },
     "8a5b4017048d4591906b8c40030901d3": {
      "model_module": "@jupyter-widgets/controls",
      "model_module_version": "1.5.0",
      "model_name": "DescriptionStyleModel",
      "state": {
       "description_width": ""
      }
     },
     "8a675d899a36467495894b4d308f93a0": {
      "model_module": "@jupyter-widgets/base",
      "model_module_version": "1.2.0",
      "model_name": "LayoutModel",
      "state": {}
     },
     "8a95ed2ad2964b0381c5e8c53d52ad60": {
      "model_module": "@jupyter-widgets/base",
      "model_module_version": "1.2.0",
      "model_name": "LayoutModel",
      "state": {}
     },
     "8abc5fd41d6a4943b03ecd348fd857fd": {
      "model_module": "@jupyter-widgets/base",
      "model_module_version": "1.2.0",
      "model_name": "LayoutModel",
      "state": {}
     },
     "8ac7d99e100544f9b3f2a277098ec828": {
      "model_module": "@jupyter-widgets/controls",
      "model_module_version": "1.5.0",
      "model_name": "DescriptionStyleModel",
      "state": {
       "description_width": ""
      }
     },
     "8ad17c1ad7b945aba1bed1a6ddefdc6c": {
      "model_module": "@jupyter-widgets/controls",
      "model_module_version": "1.5.0",
      "model_name": "DescriptionStyleModel",
      "state": {
       "description_width": ""
      }
     },
     "8b0079a1d2c44b29a14be682e9fa2d09": {
      "model_module": "@jupyter-widgets/controls",
      "model_module_version": "1.5.0",
      "model_name": "FloatProgressModel",
      "state": {
       "bar_style": "success",
       "layout": "IPY_MODEL_5d8e98b42ac74abea0e2dbc5d7b1a74b",
       "max": 500,
       "style": "IPY_MODEL_00a5020733194d7b9d16e4f23a53b864",
       "value": 500
      }
     },
     "8b0a8cd50b7948b4ac246bc6913ec617": {
      "model_module": "@jupyter-widgets/controls",
      "model_module_version": "1.5.0",
      "model_name": "DescriptionStyleModel",
      "state": {
       "description_width": ""
      }
     },
     "8b1f39fb3f2846928771f8fa2ea9d064": {
      "model_module": "@jupyter-widgets/controls",
      "model_module_version": "1.5.0",
      "model_name": "HTMLModel",
      "state": {
       "layout": "IPY_MODEL_a1fd80303510459ea75211804691e496",
       "style": "IPY_MODEL_f916829eb4244a739a86f374d9e8cbd6",
       "value": " 500/500 [00:38&lt;00:00, 12.80image/s]"
      }
     },
     "8bf55251fd6b46a7855b101c26d8e574": {
      "model_module": "@jupyter-widgets/controls",
      "model_module_version": "1.5.0",
      "model_name": "DescriptionStyleModel",
      "state": {
       "description_width": ""
      }
     },
     "8c08dfb4950248cba6b952481b1b7397": {
      "model_module": "@jupyter-widgets/controls",
      "model_module_version": "1.5.0",
      "model_name": "FloatProgressModel",
      "state": {
       "bar_style": "success",
       "layout": "IPY_MODEL_dfb96b8da2fe404383bdc203bc4bcc8d",
       "max": 500,
       "style": "IPY_MODEL_4bf78c9f1c6f42c2a7b631fca49a2c95",
       "value": 500
      }
     },
     "8c29ed5cee12482388dc54ff7ddf3ee4": {
      "model_module": "@jupyter-widgets/controls",
      "model_module_version": "1.5.0",
      "model_name": "HBoxModel",
      "state": {
       "children": [
        "IPY_MODEL_5a3bd992f5de4a09a9519919ca66a808",
        "IPY_MODEL_b743d7fba4654b7fafdba9e4146229fb",
        "IPY_MODEL_dddae50857204b2daca15edb3502ba24"
       ],
       "layout": "IPY_MODEL_cdec98713bcd47d18f9dd500bade9d3e"
      }
     },
     "8c477c976a3342fd834bba37af30a091": {
      "model_module": "@jupyter-widgets/controls",
      "model_module_version": "1.5.0",
      "model_name": "DescriptionStyleModel",
      "state": {
       "description_width": ""
      }
     },
     "8c4a71e98e5b4345aefad652d5ec59aa": {
      "model_module": "@jupyter-widgets/base",
      "model_module_version": "1.2.0",
      "model_name": "LayoutModel",
      "state": {}
     },
     "8cb0dbdbfcb64baf8958e2ae110dbd59": {
      "model_module": "@jupyter-widgets/controls",
      "model_module_version": "1.5.0",
      "model_name": "ProgressStyleModel",
      "state": {
       "description_width": ""
      }
     },
     "8cf235dd766645e88d34c1fa586410bf": {
      "model_module": "@jupyter-widgets/controls",
      "model_module_version": "1.5.0",
      "model_name": "HTMLModel",
      "state": {
       "layout": "IPY_MODEL_661c8c1616cf4760980c7d5a55474603",
       "style": "IPY_MODEL_773bfd59e3914a51875a71dc91063048",
       "value": " 500/500 [00:01&lt;00:00, 296.17image/s]"
      }
     },
     "8d15552d960448398e4747be4356240f": {
      "model_module": "@jupyter-widgets/base",
      "model_module_version": "1.2.0",
      "model_name": "LayoutModel",
      "state": {}
     },
     "8daf72f01e0544beae691f14e343a5bc": {
      "model_module": "@jupyter-widgets/controls",
      "model_module_version": "1.5.0",
      "model_name": "HBoxModel",
      "state": {
       "children": [
        "IPY_MODEL_5210898fa98c4b56be1dbf7a228b255a",
        "IPY_MODEL_5ffd779745e840299fc189f66fa3efc1",
        "IPY_MODEL_44e2f4988f164542a9596f213530c9f1"
       ],
       "layout": "IPY_MODEL_487993438b834143bfae21bf4528b623"
      }
     },
     "8e057843833b44d89c4b8c1bb68b6d57": {
      "model_module": "@jupyter-widgets/controls",
      "model_module_version": "1.5.0",
      "model_name": "HBoxModel",
      "state": {
       "children": [
        "IPY_MODEL_31a8429fa5f043949937effc0c13fdf0",
        "IPY_MODEL_08a6f893e4724dcd9d78c8676895e80a",
        "IPY_MODEL_3ff1d841af2f482daf90e3c50255ca2a"
       ],
       "layout": "IPY_MODEL_64c54df061984362bea39de1558aa8f1"
      }
     },
     "8e079e2a4c8a4d1d9f87a77356d35862": {
      "model_module": "@jupyter-widgets/controls",
      "model_module_version": "1.5.0",
      "model_name": "FloatProgressModel",
      "state": {
       "bar_style": "success",
       "layout": "IPY_MODEL_a15030dd81e44ee3982b750e35789643",
       "max": 500,
       "style": "IPY_MODEL_c5f5d644e4914182baf14ecbed377459",
       "value": 500
      }
     },
     "8ee5e468e47e4dc99172f29bedd9d861": {
      "model_module": "@jupyter-widgets/controls",
      "model_module_version": "1.5.0",
      "model_name": "DescriptionStyleModel",
      "state": {
       "description_width": ""
      }
     },
     "8f33c712f3844f06bec5fa0492364bff": {
      "model_module": "@jupyter-widgets/base",
      "model_module_version": "1.2.0",
      "model_name": "LayoutModel",
      "state": {}
     },
     "8f700abc7d784f5c9881da75946161f3": {
      "model_module": "@jupyter-widgets/base",
      "model_module_version": "1.2.0",
      "model_name": "LayoutModel",
      "state": {}
     },
     "8fba42a081d744398a6e29e4a2d8e20a": {
      "model_module": "@jupyter-widgets/controls",
      "model_module_version": "1.5.0",
      "model_name": "FloatProgressModel",
      "state": {
       "bar_style": "success",
       "layout": "IPY_MODEL_beac1adc3fff46008bc0db6b0e818d55",
       "max": 500,
       "style": "IPY_MODEL_ced369b6144941c0a58ab7c8bcc02660",
       "value": 500
      }
     },
     "8ff65a275f2c4a6989336fbbc8af5a5f": {
      "model_module": "@jupyter-widgets/controls",
      "model_module_version": "1.5.0",
      "model_name": "FloatProgressModel",
      "state": {
       "bar_style": "success",
       "layout": "IPY_MODEL_f48f2d7bc13a48d6b04154f58007aff1",
       "max": 500,
       "style": "IPY_MODEL_63898ffa9a084924bf180f068c54071b",
       "value": 500
      }
     },
     "9023732228d34f57ad8f1079a8717073": {
      "model_module": "@jupyter-widgets/controls",
      "model_module_version": "1.5.0",
      "model_name": "DescriptionStyleModel",
      "state": {
       "description_width": ""
      }
     },
     "91842525acc24e2781def444671fbd2b": {
      "model_module": "@jupyter-widgets/controls",
      "model_module_version": "1.5.0",
      "model_name": "DescriptionStyleModel",
      "state": {
       "description_width": ""
      }
     },
     "920231ab66264cb59c7db31552df1ee4": {
      "model_module": "@jupyter-widgets/base",
      "model_module_version": "1.2.0",
      "model_name": "LayoutModel",
      "state": {}
     },
     "924c90262e3d49fea2190f32802e8426": {
      "model_module": "@jupyter-widgets/controls",
      "model_module_version": "1.5.0",
      "model_name": "HBoxModel",
      "state": {
       "children": [
        "IPY_MODEL_b0c29165e74348869ea9bbf0dd134678",
        "IPY_MODEL_8ff65a275f2c4a6989336fbbc8af5a5f",
        "IPY_MODEL_e58455a951934bee9a52cba140eac6a4"
       ],
       "layout": "IPY_MODEL_65aa775159744247912f0a11ff437337"
      }
     },
     "924e3c7f30c34453847a15065fbe3373": {
      "model_module": "@jupyter-widgets/controls",
      "model_module_version": "1.5.0",
      "model_name": "HBoxModel",
      "state": {
       "children": [
        "IPY_MODEL_511dce9664764a429eebfb2bfdbd356e",
        "IPY_MODEL_b1da02fe4ee24b17b1be9f97cb3427ba",
        "IPY_MODEL_bbabe8b893ad490c863b92c7a27a9a82"
       ],
       "layout": "IPY_MODEL_37ca06385e63415a9e4e0eb32fbe9f6a"
      }
     },
     "92dd695c59ae4c2b8cd19bf45aba59fe": {
      "model_module": "@jupyter-widgets/controls",
      "model_module_version": "1.5.0",
      "model_name": "HBoxModel",
      "state": {
       "children": [
        "IPY_MODEL_72e8371841e64b02ba455e0a76608ecb",
        "IPY_MODEL_9ac1ebbcf9014e0e8ef185384c20f129",
        "IPY_MODEL_3cd3591f19c34057a3f225a2351e9141"
       ],
       "layout": "IPY_MODEL_4f8cf01c735149f084f76846323c2b59"
      }
     },
     "93a518815d194ec4b11ca46a4363275d": {
      "model_module": "@jupyter-widgets/controls",
      "model_module_version": "1.5.0",
      "model_name": "FloatProgressModel",
      "state": {
       "bar_style": "success",
       "layout": "IPY_MODEL_38f8101fa20d4ce68005f5196c8def8c",
       "max": 500,
       "style": "IPY_MODEL_c063f86dc7ff497781961484304c0822",
       "value": 500
      }
     },
     "941479637c3146af9a811db3cc8b39fe": {
      "model_module": "@jupyter-widgets/controls",
      "model_module_version": "1.5.0",
      "model_name": "HTMLModel",
      "state": {
       "layout": "IPY_MODEL_6d93dbff43224f04a6ff07b391b597b9",
       "style": "IPY_MODEL_65c2b5de6e8144a7993797a6f6e13712",
       "value": "Reading evaluation images: 100%"
      }
     },
     "9563760a89ba41ae8cfa376069584963": {
      "model_module": "@jupyter-widgets/base",
      "model_module_version": "1.2.0",
      "model_name": "LayoutModel",
      "state": {}
     },
     "95c55dcdffa14426810e20ca8e62029d": {
      "model_module": "@jupyter-widgets/controls",
      "model_module_version": "1.5.0",
      "model_name": "HTMLModel",
      "state": {
       "layout": "IPY_MODEL_865fe669f82d4c7f98fb60e471d0b4c9",
       "style": "IPY_MODEL_48669d8892a14c3aa9d9fb39d87c5a83",
       "value": "Calculating TedEval metric: 100%"
      }
     },
     "95eacc20d5944ddf8a482ddd4e6c6584": {
      "model_module": "@jupyter-widgets/base",
      "model_module_version": "1.2.0",
      "model_name": "LayoutModel",
      "state": {}
     },
     "974d6afbee3f4e838480fb59264389c7": {
      "model_module": "@jupyter-widgets/controls",
      "model_module_version": "1.5.0",
      "model_name": "DescriptionStyleModel",
      "state": {
       "description_width": ""
      }
     },
     "97990f35db4c4a5f944bbe2a8f049178": {
      "model_module": "@jupyter-widgets/controls",
      "model_module_version": "1.5.0",
      "model_name": "DescriptionStyleModel",
      "state": {
       "description_width": ""
      }
     },
     "9813540aa7a74f6cb69774a3ff89d985": {
      "model_module": "@jupyter-widgets/base",
      "model_module_version": "1.2.0",
      "model_name": "LayoutModel",
      "state": {}
     },
     "9839948092e1402385bda17fae438b8a": {
      "model_module": "@jupyter-widgets/controls",
      "model_module_version": "1.5.0",
      "model_name": "ProgressStyleModel",
      "state": {
       "description_width": ""
      }
     },
     "983b62c2eb79453d8953d49369f2eeb8": {
      "model_module": "@jupyter-widgets/controls",
      "model_module_version": "1.5.0",
      "model_name": "FloatProgressModel",
      "state": {
       "bar_style": "success",
       "layout": "IPY_MODEL_920231ab66264cb59c7db31552df1ee4",
       "max": 500,
       "style": "IPY_MODEL_b55152b24ec74f50acac0744a0b96df3",
       "value": 500
      }
     },
     "98a4fbe92dd54bdebb804bbb756a8f77": {
      "model_module": "@jupyter-widgets/controls",
      "model_module_version": "1.5.0",
      "model_name": "DescriptionStyleModel",
      "state": {
       "description_width": ""
      }
     },
     "98a6800da3ef4e3fa27b0929493091ca": {
      "model_module": "@jupyter-widgets/controls",
      "model_module_version": "1.5.0",
      "model_name": "DescriptionStyleModel",
      "state": {
       "description_width": ""
      }
     },
     "9957d7c663874cf3893d2addbf31abc9": {
      "model_module": "@jupyter-widgets/base",
      "model_module_version": "1.2.0",
      "model_name": "LayoutModel",
      "state": {}
     },
     "99e4010884e14c2b97ead29b604423b0": {
      "model_module": "@jupyter-widgets/controls",
      "model_module_version": "1.5.0",
      "model_name": "HBoxModel",
      "state": {
       "children": [
        "IPY_MODEL_044b6481db774fc3b1a458570ad907d5",
        "IPY_MODEL_1e4159ddecab453fbd7bd2544c050e68",
        "IPY_MODEL_63c7e306199b44d6aa29b9bf17e4efca"
       ],
       "layout": "IPY_MODEL_51cd933d3f434987a0686207f9fb79db"
      }
     },
     "9ac1ebbcf9014e0e8ef185384c20f129": {
      "model_module": "@jupyter-widgets/controls",
      "model_module_version": "1.5.0",
      "model_name": "FloatProgressModel",
      "state": {
       "bar_style": "success",
       "layout": "IPY_MODEL_1b43b673ce6a448087c8218aca6c9387",
       "max": 500,
       "style": "IPY_MODEL_aeb9f8b279e14690a735424399de014f",
       "value": 500
      }
     },
     "9b7c6f5930344f8b951c8812bc01a935": {
      "model_module": "@jupyter-widgets/base",
      "model_module_version": "1.2.0",
      "model_name": "LayoutModel",
      "state": {}
     },
     "9b7d4f7ae3594150ba40d25f30bba7cb": {
      "model_module": "@jupyter-widgets/controls",
      "model_module_version": "1.5.0",
      "model_name": "HTMLModel",
      "state": {
       "layout": "IPY_MODEL_dbbac6ae516c480ab44952bb798d2b9e",
       "style": "IPY_MODEL_37884bc086954821a6d32f0d430ce1e2",
       "value": "Predicting bounding boxes: 100%"
      }
     },
     "9bff7f09583045bfa61536d10f2affb7": {
      "model_module": "@jupyter-widgets/controls",
      "model_module_version": "1.5.0",
      "model_name": "DescriptionStyleModel",
      "state": {
       "description_width": ""
      }
     },
     "9c015b6bfe1741bca368da3eed9faba4": {
      "model_module": "@jupyter-widgets/controls",
      "model_module_version": "1.5.0",
      "model_name": "HBoxModel",
      "state": {
       "children": [
        "IPY_MODEL_31a794bd8e0a46dca75ef9cdbe6042cf",
        "IPY_MODEL_35f5bd29c3584187aa147f8b6849491b",
        "IPY_MODEL_8cf235dd766645e88d34c1fa586410bf"
       ],
       "layout": "IPY_MODEL_f92a05c2dd8b47c0908dadb6280187d3"
      }
     },
     "9d346d2b76b747feb6a3eb975aa5abed": {
      "model_module": "@jupyter-widgets/base",
      "model_module_version": "1.2.0",
      "model_name": "LayoutModel",
      "state": {}
     },
     "9d9285b186bf4575a815ad514c0b564c": {
      "model_module": "@jupyter-widgets/controls",
      "model_module_version": "1.5.0",
      "model_name": "DescriptionStyleModel",
      "state": {
       "description_width": ""
      }
     },
     "9e0574b52a454c96aaa2697500f4f56f": {
      "model_module": "@jupyter-widgets/base",
      "model_module_version": "1.2.0",
      "model_name": "LayoutModel",
      "state": {}
     },
     "9f68392a08ab49339feef9a0ec311847": {
      "model_module": "@jupyter-widgets/controls",
      "model_module_version": "1.5.0",
      "model_name": "HTMLModel",
      "state": {
       "layout": "IPY_MODEL_b2ce10ab5a5c4713b91836e889edb346",
       "style": "IPY_MODEL_2cf5428a184541f6ab0ae97fa1513871",
       "value": "Predicting bounding boxes: 100%"
      }
     },
     "a0684dc0f24c4b77ac14f486e5f3100c": {
      "model_module": "@jupyter-widgets/base",
      "model_module_version": "1.2.0",
      "model_name": "LayoutModel",
      "state": {}
     },
     "a07c2ba7512a46dabac62fc9a0d33cd8": {
      "model_module": "@jupyter-widgets/controls",
      "model_module_version": "1.5.0",
      "model_name": "ProgressStyleModel",
      "state": {
       "description_width": ""
      }
     },
     "a0cf1e01929b4db187e49942e49b7021": {
      "model_module": "@jupyter-widgets/controls",
      "model_module_version": "1.5.0",
      "model_name": "ProgressStyleModel",
      "state": {
       "description_width": ""
      }
     },
     "a0ebd6f0753c4093b7306ff7135100f8": {
      "model_module": "@jupyter-widgets/base",
      "model_module_version": "1.2.0",
      "model_name": "LayoutModel",
      "state": {}
     },
     "a15030dd81e44ee3982b750e35789643": {
      "model_module": "@jupyter-widgets/base",
      "model_module_version": "1.2.0",
      "model_name": "LayoutModel",
      "state": {}
     },
     "a169825522604d619f2cb33679797e8b": {
      "model_module": "@jupyter-widgets/base",
      "model_module_version": "1.2.0",
      "model_name": "LayoutModel",
      "state": {}
     },
     "a1b2056aea7f441b822e3ee20e8923ca": {
      "model_module": "@jupyter-widgets/controls",
      "model_module_version": "1.5.0",
      "model_name": "HTMLModel",
      "state": {
       "layout": "IPY_MODEL_882f136a76814b4d972f0998624f9b3d",
       "style": "IPY_MODEL_8c477c976a3342fd834bba37af30a091",
       "value": " 500/500 [00:06&lt;00:00, 74.60image/s]"
      }
     },
     "a1b95b82a6f44c789dbf7cc346e4c86a": {
      "model_module": "@jupyter-widgets/controls",
      "model_module_version": "1.5.0",
      "model_name": "HTMLModel",
      "state": {
       "layout": "IPY_MODEL_0f4c859965db46b899fd975d38d91eb8",
       "style": "IPY_MODEL_eac00edac9264151a8e2d315f8a78bbf",
       "value": "Calculating TedEval metric: 100%"
      }
     },
     "a1fd80303510459ea75211804691e496": {
      "model_module": "@jupyter-widgets/base",
      "model_module_version": "1.2.0",
      "model_name": "LayoutModel",
      "state": {}
     },
     "a2fdc1bf45b045e88dfaa652c85f030c": {
      "model_module": "@jupyter-widgets/controls",
      "model_module_version": "1.5.0",
      "model_name": "FloatProgressModel",
      "state": {
       "bar_style": "success",
       "layout": "IPY_MODEL_d27c35ea2a184d369ed57e572f095219",
       "max": 500,
       "style": "IPY_MODEL_a6eff87500a442b292e5f299f8595be9",
       "value": 500
      }
     },
     "a38f6eb8f91e468faa64da56a5d64c0f": {
      "model_module": "@jupyter-widgets/controls",
      "model_module_version": "1.5.0",
      "model_name": "HBoxModel",
      "state": {
       "children": [
        "IPY_MODEL_bf3760e81e1d4c49a356d293c0b8fdd1",
        "IPY_MODEL_a43ba955d83a46d6b95342b947fe1920",
        "IPY_MODEL_4d98a3dc4a5a4835947a6f9308770fd8"
       ],
       "layout": "IPY_MODEL_38d2a964e8744f78b05bdb7313ce0cd8"
      }
     },
     "a3b00cd6f448424d8003a10f8548a32f": {
      "model_module": "@jupyter-widgets/controls",
      "model_module_version": "1.5.0",
      "model_name": "ProgressStyleModel",
      "state": {
       "description_width": ""
      }
     },
     "a3c407842328479eb7950149c1277ad8": {
      "model_module": "@jupyter-widgets/base",
      "model_module_version": "1.2.0",
      "model_name": "LayoutModel",
      "state": {}
     },
     "a3d59d2467a74a239b130b862238f603": {
      "model_module": "@jupyter-widgets/base",
      "model_module_version": "1.2.0",
      "model_name": "LayoutModel",
      "state": {}
     },
     "a430f334695b4e8788fe13c47b3979f0": {
      "model_module": "@jupyter-widgets/base",
      "model_module_version": "1.2.0",
      "model_name": "LayoutModel",
      "state": {}
     },
     "a43ba955d83a46d6b95342b947fe1920": {
      "model_module": "@jupyter-widgets/controls",
      "model_module_version": "1.5.0",
      "model_name": "FloatProgressModel",
      "state": {
       "bar_style": "success",
       "layout": "IPY_MODEL_d7a49e3865d7405084ffba62d9b13438",
       "max": 500,
       "style": "IPY_MODEL_1224c51e17304e61b7a021a5f2468327",
       "value": 500
      }
     },
     "a453a30c89394608a21eed2b20249618": {
      "model_module": "@jupyter-widgets/base",
      "model_module_version": "1.2.0",
      "model_name": "LayoutModel",
      "state": {}
     },
     "a49b9007669e4989b2e47815240024b2": {
      "model_module": "@jupyter-widgets/base",
      "model_module_version": "1.2.0",
      "model_name": "LayoutModel",
      "state": {}
     },
     "a54ce136b4ff49f2b70c05307cf0eefb": {
      "model_module": "@jupyter-widgets/controls",
      "model_module_version": "1.5.0",
      "model_name": "HTMLModel",
      "state": {
       "layout": "IPY_MODEL_70dc2e1840194a7ea5339d68f4210fba",
       "style": "IPY_MODEL_aa81e2a153ff4a05bcf8c4e9ff1f64fb",
       "value": "Calculating TedEval metric: 100%"
      }
     },
     "a55d06a485e84b62af33c7993b02f40b": {
      "model_module": "@jupyter-widgets/controls",
      "model_module_version": "1.5.0",
      "model_name": "DescriptionStyleModel",
      "state": {
       "description_width": ""
      }
     },
     "a65f7140630e4b9d86a0baa4a4d7c28c": {
      "model_module": "@jupyter-widgets/base",
      "model_module_version": "1.2.0",
      "model_name": "LayoutModel",
      "state": {}
     },
     "a6eff87500a442b292e5f299f8595be9": {
      "model_module": "@jupyter-widgets/controls",
      "model_module_version": "1.5.0",
      "model_name": "ProgressStyleModel",
      "state": {
       "description_width": ""
      }
     },
     "a799ba9772f14cde9e41eb1790c7c372": {
      "model_module": "@jupyter-widgets/controls",
      "model_module_version": "1.5.0",
      "model_name": "HBoxModel",
      "state": {
       "children": [
        "IPY_MODEL_941479637c3146af9a811db3cc8b39fe",
        "IPY_MODEL_652a8beb972f4ef494665072f699883d",
        "IPY_MODEL_af7d74ecfc294a218b85355c6240f74c"
       ],
       "layout": "IPY_MODEL_dda120b24a6c49f8a68b16cc06b2b084"
      }
     },
     "a7d07824b46b425697e7ddf5d0fea490": {
      "model_module": "@jupyter-widgets/base",
      "model_module_version": "1.2.0",
      "model_name": "LayoutModel",
      "state": {}
     },
     "a829b8c9661c4e37a7ba14eec130a20b": {
      "model_module": "@jupyter-widgets/controls",
      "model_module_version": "1.5.0",
      "model_name": "DescriptionStyleModel",
      "state": {
       "description_width": ""
      }
     },
     "a9c7cef9ebbb40409b1c4e9b6e912360": {
      "model_module": "@jupyter-widgets/base",
      "model_module_version": "1.2.0",
      "model_name": "LayoutModel",
      "state": {}
     },
     "aa38f841dafa46ec80ebba741821dc8a": {
      "model_module": "@jupyter-widgets/controls",
      "model_module_version": "1.5.0",
      "model_name": "HBoxModel",
      "state": {
       "children": [
        "IPY_MODEL_7ae94c966e75404c9ffb14e60db6a604",
        "IPY_MODEL_6d48892908e245eb9242a446150a198b",
        "IPY_MODEL_70929ef7d055487ea1f3a3f94df0d5f1"
       ],
       "layout": "IPY_MODEL_dc1e590782cb4f8ab4bdeb9916adeb60"
      }
     },
     "aa71d4c6843e41e2b5f9bd6dd8c90808": {
      "model_module": "@jupyter-widgets/controls",
      "model_module_version": "1.5.0",
      "model_name": "ProgressStyleModel",
      "state": {
       "description_width": ""
      }
     },
     "aa81e2a153ff4a05bcf8c4e9ff1f64fb": {
      "model_module": "@jupyter-widgets/controls",
      "model_module_version": "1.5.0",
      "model_name": "DescriptionStyleModel",
      "state": {
       "description_width": ""
      }
     },
     "aafe2cfad8134e9d83b803961b145bbc": {
      "model_module": "@jupyter-widgets/base",
      "model_module_version": "1.2.0",
      "model_name": "LayoutModel",
      "state": {}
     },
     "ab86ed0827ff43af99811439cc009e49": {
      "model_module": "@jupyter-widgets/controls",
      "model_module_version": "1.5.0",
      "model_name": "DescriptionStyleModel",
      "state": {
       "description_width": ""
      }
     },
     "abc5740507b945fcace53a5abcdfa3f5": {
      "model_module": "@jupyter-widgets/controls",
      "model_module_version": "1.5.0",
      "model_name": "DescriptionStyleModel",
      "state": {
       "description_width": ""
      }
     },
     "abf5f0553af34e67b2f545f28d65c85f": {
      "model_module": "@jupyter-widgets/controls",
      "model_module_version": "1.5.0",
      "model_name": "HTMLModel",
      "state": {
       "layout": "IPY_MODEL_8a675d899a36467495894b4d308f93a0",
       "style": "IPY_MODEL_82b4858bd48e49ad9b1eed11da86b29a",
       "value": "Reading evaluation images: 100%"
      }
     },
     "ac620b156f7b42d59539fc4a009ede5d": {
      "model_module": "@jupyter-widgets/base",
      "model_module_version": "1.2.0",
      "model_name": "LayoutModel",
      "state": {}
     },
     "ad2e021bfffb4092be87fb3ba5536e99": {
      "model_module": "@jupyter-widgets/controls",
      "model_module_version": "1.5.0",
      "model_name": "DescriptionStyleModel",
      "state": {
       "description_width": ""
      }
     },
     "ad6fc42e3a734e53b4df7c04daa0487d": {
      "model_module": "@jupyter-widgets/base",
      "model_module_version": "1.2.0",
      "model_name": "LayoutModel",
      "state": {}
     },
     "adbdd25eca2045cd8bb2a831c9a1f61c": {
      "model_module": "@jupyter-widgets/base",
      "model_module_version": "1.2.0",
      "model_name": "LayoutModel",
      "state": {}
     },
     "ae8d1056c7f74b0ebaee2b67228eb27b": {
      "model_module": "@jupyter-widgets/controls",
      "model_module_version": "1.5.0",
      "model_name": "DescriptionStyleModel",
      "state": {
       "description_width": ""
      }
     },
     "ae99a6258a93451a80f9e3e3809aebfa": {
      "model_module": "@jupyter-widgets/base",
      "model_module_version": "1.2.0",
      "model_name": "LayoutModel",
      "state": {}
     },
     "aeb9f8b279e14690a735424399de014f": {
      "model_module": "@jupyter-widgets/controls",
      "model_module_version": "1.5.0",
      "model_name": "ProgressStyleModel",
      "state": {
       "description_width": ""
      }
     },
     "aed338ab1d184815ade3ccfc28822c2f": {
      "model_module": "@jupyter-widgets/base",
      "model_module_version": "1.2.0",
      "model_name": "LayoutModel",
      "state": {}
     },
     "af48f16510cb49c6bbf11e2e56165a8a": {
      "model_module": "@jupyter-widgets/base",
      "model_module_version": "1.2.0",
      "model_name": "LayoutModel",
      "state": {}
     },
     "af7d74ecfc294a218b85355c6240f74c": {
      "model_module": "@jupyter-widgets/controls",
      "model_module_version": "1.5.0",
      "model_name": "HTMLModel",
      "state": {
       "layout": "IPY_MODEL_18943bbf004542a6beb4123bc419af35",
       "style": "IPY_MODEL_7b69aa27a3b240b289a0f4543e9763af",
       "value": " 500/500 [00:06&lt;00:00, 74.96image/s]"
      }
     },
     "afeb4fea76014d4a8130e5c78a23a9e1": {
      "model_module": "@jupyter-widgets/controls",
      "model_module_version": "1.5.0",
      "model_name": "ProgressStyleModel",
      "state": {
       "description_width": ""
      }
     },
     "b03f0b3caff34ed79be0eb53c1e3eef9": {
      "model_module": "@jupyter-widgets/controls",
      "model_module_version": "1.5.0",
      "model_name": "ProgressStyleModel",
      "state": {
       "description_width": ""
      }
     },
     "b0c29165e74348869ea9bbf0dd134678": {
      "model_module": "@jupyter-widgets/controls",
      "model_module_version": "1.5.0",
      "model_name": "HTMLModel",
      "state": {
       "layout": "IPY_MODEL_ebae12cb6d3349a3bbfe7c4f402fb9f5",
       "style": "IPY_MODEL_2ebd01081e064b41b17f9be68bcb5c9e",
       "value": "Calculating TedEval metric: 100%"
      }
     },
     "b194d641d2d14bcd8abd133bf4a2a859": {
      "model_module": "@jupyter-widgets/controls",
      "model_module_version": "1.5.0",
      "model_name": "HTMLModel",
      "state": {
       "layout": "IPY_MODEL_2e12dfbedf6c4e3688a9399a9b50eaf5",
       "style": "IPY_MODEL_b95f96154b884469a178aa48a4f40fe1",
       "value": "Reading evaluation images: 100%"
      }
     },
     "b1da02fe4ee24b17b1be9f97cb3427ba": {
      "model_module": "@jupyter-widgets/controls",
      "model_module_version": "1.5.0",
      "model_name": "FloatProgressModel",
      "state": {
       "bar_style": "success",
       "layout": "IPY_MODEL_d60eeda2486d45cbb4145f3e2e2dcf1d",
       "max": 500,
       "style": "IPY_MODEL_fc9fc9cb821840f4819122713a008cc5",
       "value": 500
      }
     },
     "b1e3d93b8eb543afaa9e30b26ce548c5": {
      "model_module": "@jupyter-widgets/controls",
      "model_module_version": "1.5.0",
      "model_name": "ProgressStyleModel",
      "state": {
       "description_width": ""
      }
     },
     "b24ea33b325343978f35baa689fffe07": {
      "model_module": "@jupyter-widgets/base",
      "model_module_version": "1.2.0",
      "model_name": "LayoutModel",
      "state": {}
     },
     "b2ce10ab5a5c4713b91836e889edb346": {
      "model_module": "@jupyter-widgets/base",
      "model_module_version": "1.2.0",
      "model_name": "LayoutModel",
      "state": {}
     },
     "b33ae4f13f6b43569191ab3dbad0d9eb": {
      "model_module": "@jupyter-widgets/base",
      "model_module_version": "1.2.0",
      "model_name": "LayoutModel",
      "state": {}
     },
     "b33b6233ce034c9382050ea9d23e54ee": {
      "model_module": "@jupyter-widgets/controls",
      "model_module_version": "1.5.0",
      "model_name": "DescriptionStyleModel",
      "state": {
       "description_width": ""
      }
     },
     "b41bf09827454236ad3469bc99cb3cc3": {
      "model_module": "@jupyter-widgets/controls",
      "model_module_version": "1.5.0",
      "model_name": "HBoxModel",
      "state": {
       "children": [
        "IPY_MODEL_d5e1ca899d7a486d936481538f7e7a6d",
        "IPY_MODEL_44715f32ce7c468883e6853e2e4de526",
        "IPY_MODEL_ca4a13231cec4fc986509e1ac9e6022e"
       ],
       "layout": "IPY_MODEL_2dd98314a3cc48b6937d56abec14c538"
      }
     },
     "b45cea25af614ed6b82997a11609ca3a": {
      "model_module": "@jupyter-widgets/base",
      "model_module_version": "1.2.0",
      "model_name": "LayoutModel",
      "state": {}
     },
     "b49ec8726d984f28882703301ce69c85": {
      "model_module": "@jupyter-widgets/controls",
      "model_module_version": "1.5.0",
      "model_name": "HBoxModel",
      "state": {
       "children": [
        "IPY_MODEL_18bbc132bdb94ab6810e77e2343ef455",
        "IPY_MODEL_2752f2bdf8c043f3826cc4d3e961fc20",
        "IPY_MODEL_e2083cdd7df14d40a3d2305462eeb0ca"
       ],
       "layout": "IPY_MODEL_de1012faf542453fb49d267cc1cd0ea6"
      }
     },
     "b510a5a4d3434c7ba0d3772932445d9b": {
      "model_module": "@jupyter-widgets/controls",
      "model_module_version": "1.5.0",
      "model_name": "DescriptionStyleModel",
      "state": {
       "description_width": ""
      }
     },
     "b54248886c5740ebad3f9f8cee3d1784": {
      "model_module": "@jupyter-widgets/base",
      "model_module_version": "1.2.0",
      "model_name": "LayoutModel",
      "state": {}
     },
     "b55152b24ec74f50acac0744a0b96df3": {
      "model_module": "@jupyter-widgets/controls",
      "model_module_version": "1.5.0",
      "model_name": "ProgressStyleModel",
      "state": {
       "description_width": ""
      }
     },
     "b67e24fc2f02436c81688b86301fe7c6": {
      "model_module": "@jupyter-widgets/base",
      "model_module_version": "1.2.0",
      "model_name": "LayoutModel",
      "state": {}
     },
     "b69bf70110be46f388c385fdf6775e3f": {
      "model_module": "@jupyter-widgets/controls",
      "model_module_version": "1.5.0",
      "model_name": "DescriptionStyleModel",
      "state": {
       "description_width": ""
      }
     },
     "b743d7fba4654b7fafdba9e4146229fb": {
      "model_module": "@jupyter-widgets/controls",
      "model_module_version": "1.5.0",
      "model_name": "FloatProgressModel",
      "state": {
       "bar_style": "success",
       "layout": "IPY_MODEL_15d15a30e742412e8e17c86bcc6dfd06",
       "max": 500,
       "style": "IPY_MODEL_2707e746e4af4a9bb6bcaee2a5133f91",
       "value": 500
      }
     },
     "b75743e719814f7abd5af98028b58ed8": {
      "model_module": "@jupyter-widgets/controls",
      "model_module_version": "1.5.0",
      "model_name": "FloatProgressModel",
      "state": {
       "bar_style": "success",
       "layout": "IPY_MODEL_60a771de5532463d86296bce5af83ed8",
       "max": 500,
       "style": "IPY_MODEL_0518dc4d598b4c7f86532a1b80bbd28a",
       "value": 500
      }
     },
     "b7ffa727c1204951a6a50934e49d54ad": {
      "model_module": "@jupyter-widgets/controls",
      "model_module_version": "1.5.0",
      "model_name": "DescriptionStyleModel",
      "state": {
       "description_width": ""
      }
     },
     "b875451fb63248acb23fe5b7e0465e72": {
      "model_module": "@jupyter-widgets/base",
      "model_module_version": "1.2.0",
      "model_name": "LayoutModel",
      "state": {}
     },
     "b90298e591c6421082ef378f3b660fd4": {
      "model_module": "@jupyter-widgets/controls",
      "model_module_version": "1.5.0",
      "model_name": "HTMLModel",
      "state": {
       "layout": "IPY_MODEL_5dc26a8449184281ba3c55d045ec0477",
       "style": "IPY_MODEL_cbd0fb6681c84893a7f3e82a2a6546e5",
       "value": " 500/500 [00:38&lt;00:00, 12.81image/s]"
      }
     },
     "b95f96154b884469a178aa48a4f40fe1": {
      "model_module": "@jupyter-widgets/controls",
      "model_module_version": "1.5.0",
      "model_name": "DescriptionStyleModel",
      "state": {
       "description_width": ""
      }
     },
     "baf7064ec2ba42919220c1c03251af8f": {
      "model_module": "@jupyter-widgets/controls",
      "model_module_version": "1.5.0",
      "model_name": "DescriptionStyleModel",
      "state": {
       "description_width": ""
      }
     },
     "bb1cd188ee844c1890895140b3e82159": {
      "model_module": "@jupyter-widgets/controls",
      "model_module_version": "1.5.0",
      "model_name": "HBoxModel",
      "state": {
       "children": [
        "IPY_MODEL_3407c0a6bbc445199ff69b5e139eb1d4",
        "IPY_MODEL_3ba63995422b47f0a5117541ff06ad0a",
        "IPY_MODEL_62d202a6935d43a385a8d1c92d633b2b"
       ],
       "layout": "IPY_MODEL_378a73d598ba43fb9fabe3a859b1a672"
      }
     },
     "bbabe8b893ad490c863b92c7a27a9a82": {
      "model_module": "@jupyter-widgets/controls",
      "model_module_version": "1.5.0",
      "model_name": "HTMLModel",
      "state": {
       "layout": "IPY_MODEL_e77c1a147db24b859cc62cdebc4e7152",
       "style": "IPY_MODEL_c6c15a35a3d445d8b98a5ea292af346c",
       "value": " 500/500 [00:38&lt;00:00, 13.28image/s]"
      }
     },
     "bc814047816447cc8ea07601c41065a8": {
      "model_module": "@jupyter-widgets/base",
      "model_module_version": "1.2.0",
      "model_name": "LayoutModel",
      "state": {}
     },
     "bcb033af889345ed83f966eb225214f4": {
      "model_module": "@jupyter-widgets/base",
      "model_module_version": "1.2.0",
      "model_name": "LayoutModel",
      "state": {}
     },
     "bcec652086bc410391575f3d36d8aba8": {
      "model_module": "@jupyter-widgets/controls",
      "model_module_version": "1.5.0",
      "model_name": "HTMLModel",
      "state": {
       "layout": "IPY_MODEL_ee21ea3a9de746d5be2cbccda48c41fb",
       "style": "IPY_MODEL_c5c4883676a643cca83b6ad1c7d5d124",
       "value": " 500/500 [00:06&lt;00:00, 74.82image/s]"
      }
     },
     "be8bc6a71bf84733ad8ce2801ef6f4e8": {
      "model_module": "@jupyter-widgets/controls",
      "model_module_version": "1.5.0",
      "model_name": "HBoxModel",
      "state": {
       "children": [
        "IPY_MODEL_abf5f0553af34e67b2f545f28d65c85f",
        "IPY_MODEL_0f9d377aff594f54bdf36a1319102d84",
        "IPY_MODEL_bcec652086bc410391575f3d36d8aba8"
       ],
       "layout": "IPY_MODEL_a169825522604d619f2cb33679797e8b"
      }
     },
     "bea0cbdf883541b08d1a56c819b77ac2": {
      "model_module": "@jupyter-widgets/controls",
      "model_module_version": "1.5.0",
      "model_name": "FloatProgressModel",
      "state": {
       "bar_style": "success",
       "layout": "IPY_MODEL_c8415d0151754c03b31bc9fb7fcbdc34",
       "max": 500,
       "style": "IPY_MODEL_2489ca74ac084016a7009863e1c05922",
       "value": 500
      }
     },
     "beac1adc3fff46008bc0db6b0e818d55": {
      "model_module": "@jupyter-widgets/base",
      "model_module_version": "1.2.0",
      "model_name": "LayoutModel",
      "state": {}
     },
     "bf00853d72f541dbac97e2fa8a2beed2": {
      "model_module": "@jupyter-widgets/controls",
      "model_module_version": "1.5.0",
      "model_name": "DescriptionStyleModel",
      "state": {
       "description_width": ""
      }
     },
     "bf3760e81e1d4c49a356d293c0b8fdd1": {
      "model_module": "@jupyter-widgets/controls",
      "model_module_version": "1.5.0",
      "model_name": "HTMLModel",
      "state": {
       "layout": "IPY_MODEL_5bb43e2cecd041aaa3eeda377fc594f6",
       "style": "IPY_MODEL_37a44987a2ef4262b7de07d52b0042ed",
       "value": "Calculating TedEval metric: 100%"
      }
     },
     "bf9b75e2a0fa42839e25ac7701cd6431": {
      "model_module": "@jupyter-widgets/controls",
      "model_module_version": "1.5.0",
      "model_name": "HBoxModel",
      "state": {
       "children": [
        "IPY_MODEL_9b7d4f7ae3594150ba40d25f30bba7cb",
        "IPY_MODEL_a2fdc1bf45b045e88dfaa652c85f030c",
        "IPY_MODEL_611ccc0d23dc45a6bde5a1a479a44a43"
       ],
       "layout": "IPY_MODEL_a49b9007669e4989b2e47815240024b2"
      }
     },
     "bfda0c8033e348009822097fcead4945": {
      "model_module": "@jupyter-widgets/controls",
      "model_module_version": "1.5.0",
      "model_name": "FloatProgressModel",
      "state": {
       "bar_style": "success",
       "layout": "IPY_MODEL_3f4a37533327416d8d90a5c669be0041",
       "max": 500,
       "style": "IPY_MODEL_afeb4fea76014d4a8130e5c78a23a9e1",
       "value": 500
      }
     },
     "c0382430c4d44dd0ba003225c1a8d83e": {
      "model_module": "@jupyter-widgets/controls",
      "model_module_version": "1.5.0",
      "model_name": "HBoxModel",
      "state": {
       "children": [
        "IPY_MODEL_338b863d51b949a79dacaac5ca9ce286",
        "IPY_MODEL_fa53dd9bb4644101aaf4c9e98bd24a94",
        "IPY_MODEL_e3fa8a12d5024d0c85f0fc8348dcb859"
       ],
       "layout": "IPY_MODEL_190eb67018c34e2192e47c79aa923980"
      }
     },
     "c063f86dc7ff497781961484304c0822": {
      "model_module": "@jupyter-widgets/controls",
      "model_module_version": "1.5.0",
      "model_name": "ProgressStyleModel",
      "state": {
       "description_width": ""
      }
     },
     "c0bc4d9be3684cd99bfc93daa78167de": {
      "model_module": "@jupyter-widgets/base",
      "model_module_version": "1.2.0",
      "model_name": "LayoutModel",
      "state": {}
     },
     "c10780e74cf54543937c8684f9d17dd5": {
      "model_module": "@jupyter-widgets/controls",
      "model_module_version": "1.5.0",
      "model_name": "ProgressStyleModel",
      "state": {
       "description_width": ""
      }
     },
     "c12675c28adb4d98aad4fd4ec12a21a2": {
      "model_module": "@jupyter-widgets/controls",
      "model_module_version": "1.5.0",
      "model_name": "DescriptionStyleModel",
      "state": {
       "description_width": ""
      }
     },
     "c16dd17388d644f69b1c94c5fde1b3d3": {
      "model_module": "@jupyter-widgets/controls",
      "model_module_version": "1.5.0",
      "model_name": "HBoxModel",
      "state": {
       "children": [
        "IPY_MODEL_f9e827ce55fe4a69b620793b6f1db613",
        "IPY_MODEL_6121096cde5a4bb596746647c2e7d5e5",
        "IPY_MODEL_fd2bf9fb09b14199b1af939e5456cfee"
       ],
       "layout": "IPY_MODEL_0c6d175db42c45df9dffe904f8684e39"
      }
     },
     "c22e8f2b298043949881c31bbe6cae8c": {
      "model_module": "@jupyter-widgets/base",
      "model_module_version": "1.2.0",
      "model_name": "LayoutModel",
      "state": {}
     },
     "c26b4aeddec54d17b1d0c7c67aed8563": {
      "model_module": "@jupyter-widgets/controls",
      "model_module_version": "1.5.0",
      "model_name": "DescriptionStyleModel",
      "state": {
       "description_width": ""
      }
     },
     "c2b54c3e0b044787a1086f5d461c5a65": {
      "model_module": "@jupyter-widgets/controls",
      "model_module_version": "1.5.0",
      "model_name": "HBoxModel",
      "state": {
       "children": [
        "IPY_MODEL_9f68392a08ab49339feef9a0ec311847",
        "IPY_MODEL_3c110f1c2186463ea3ea6d544fe6ee06",
        "IPY_MODEL_657a4d8473ed43a699552697cae105f9"
       ],
       "layout": "IPY_MODEL_6f6497e6d9894f8288631ba10cadbb53"
      }
     },
     "c2bd5b5a8ffd4321a4f71d1fd7a59d3c": {
      "model_module": "@jupyter-widgets/controls",
      "model_module_version": "1.5.0",
      "model_name": "HTMLModel",
      "state": {
       "layout": "IPY_MODEL_9813540aa7a74f6cb69774a3ff89d985",
       "style": "IPY_MODEL_c26b4aeddec54d17b1d0c7c67aed8563",
       "value": " 500/500 [00:39&lt;00:00, 13.00image/s]"
      }
     },
     "c339f8d99fdf4d47b6b295281b7538cb": {
      "model_module": "@jupyter-widgets/controls",
      "model_module_version": "1.5.0",
      "model_name": "HTMLModel",
      "state": {
       "layout": "IPY_MODEL_6736cf47c73d4192bc6518aa35acddb9",
       "style": "IPY_MODEL_e968627b2e3a451ca7d7f4ac05bf7773",
       "value": "Predicting bounding boxes: 100%"
      }
     },
     "c3fd550159444bd985c06ad5886cd43e": {
      "model_module": "@jupyter-widgets/controls",
      "model_module_version": "1.5.0",
      "model_name": "DescriptionStyleModel",
      "state": {
       "description_width": ""
      }
     },
     "c4919046d07e499c83a9cd98286edf1f": {
      "model_module": "@jupyter-widgets/controls",
      "model_module_version": "1.5.0",
      "model_name": "ProgressStyleModel",
      "state": {
       "description_width": ""
      }
     },
     "c5c4883676a643cca83b6ad1c7d5d124": {
      "model_module": "@jupyter-widgets/controls",
      "model_module_version": "1.5.0",
      "model_name": "DescriptionStyleModel",
      "state": {
       "description_width": ""
      }
     },
     "c5f5d644e4914182baf14ecbed377459": {
      "model_module": "@jupyter-widgets/controls",
      "model_module_version": "1.5.0",
      "model_name": "ProgressStyleModel",
      "state": {
       "description_width": ""
      }
     },
     "c688a5d8623f4f189bc0f5c0d057ac5b": {
      "model_module": "@jupyter-widgets/controls",
      "model_module_version": "1.5.0",
      "model_name": "DescriptionStyleModel",
      "state": {
       "description_width": ""
      }
     },
     "c6bd7a4f3e34436181b944f7c91da455": {
      "model_module": "@jupyter-widgets/controls",
      "model_module_version": "1.5.0",
      "model_name": "DescriptionStyleModel",
      "state": {
       "description_width": ""
      }
     },
     "c6c15a35a3d445d8b98a5ea292af346c": {
      "model_module": "@jupyter-widgets/controls",
      "model_module_version": "1.5.0",
      "model_name": "DescriptionStyleModel",
      "state": {
       "description_width": ""
      }
     },
     "c7472bbc3c894433a9a3a1d9ed532517": {
      "model_module": "@jupyter-widgets/base",
      "model_module_version": "1.2.0",
      "model_name": "LayoutModel",
      "state": {}
     },
     "c8415d0151754c03b31bc9fb7fcbdc34": {
      "model_module": "@jupyter-widgets/base",
      "model_module_version": "1.2.0",
      "model_name": "LayoutModel",
      "state": {}
     },
     "c903c3f69472448f85327bc0ee05897f": {
      "model_module": "@jupyter-widgets/controls",
      "model_module_version": "1.5.0",
      "model_name": "ProgressStyleModel",
      "state": {
       "description_width": ""
      }
     },
     "c9ad0de8ef63478d91e85b59d661b4d7": {
      "model_module": "@jupyter-widgets/base",
      "model_module_version": "1.2.0",
      "model_name": "LayoutModel",
      "state": {}
     },
     "c9be419a996049688556fc76e8ff8681": {
      "model_module": "@jupyter-widgets/controls",
      "model_module_version": "1.5.0",
      "model_name": "HBoxModel",
      "state": {
       "children": [
        "IPY_MODEL_888f0b228d18433680c73e16f3f60d0a",
        "IPY_MODEL_f9a5abab2421477a8e5be68bd39881d0",
        "IPY_MODEL_dba95f736ca846b187c633dca0dfdf7a"
       ],
       "layout": "IPY_MODEL_4f8aff069a544f80b2900e30c774f6b8"
      }
     },
     "ca4a13231cec4fc986509e1ac9e6022e": {
      "model_module": "@jupyter-widgets/controls",
      "model_module_version": "1.5.0",
      "model_name": "HTMLModel",
      "state": {
       "layout": "IPY_MODEL_d414031d87cf4c5bb63d5b10f00cafe4",
       "style": "IPY_MODEL_9023732228d34f57ad8f1079a8717073",
       "value": " 500/500 [00:02&lt;00:00, 191.95image/s]"
      }
     },
     "cb598f75310e42dd8ae673c9bd69defc": {
      "model_module": "@jupyter-widgets/controls",
      "model_module_version": "1.5.0",
      "model_name": "HTMLModel",
      "state": {
       "layout": "IPY_MODEL_e6095e23f03a44919d20c20f4acc44db",
       "style": "IPY_MODEL_ae8d1056c7f74b0ebaee2b67228eb27b",
       "value": " 500/500 [00:02&lt;00:00, 235.67image/s]"
      }
     },
     "cbc9fc9ef6f04cde9a04fa3b3ec7cb3c": {
      "model_module": "@jupyter-widgets/base",
      "model_module_version": "1.2.0",
      "model_name": "LayoutModel",
      "state": {}
     },
     "cbd0fb6681c84893a7f3e82a2a6546e5": {
      "model_module": "@jupyter-widgets/controls",
      "model_module_version": "1.5.0",
      "model_name": "DescriptionStyleModel",
      "state": {
       "description_width": ""
      }
     },
     "cc72ba7804164c069365c7f26d9430d1": {
      "model_module": "@jupyter-widgets/base",
      "model_module_version": "1.2.0",
      "model_name": "LayoutModel",
      "state": {}
     },
     "cc8d8e6ea5454d2db4ac9d32429d2b9f": {
      "model_module": "@jupyter-widgets/controls",
      "model_module_version": "1.5.0",
      "model_name": "HBoxModel",
      "state": {
       "children": [
        "IPY_MODEL_2fb4ba8b027243a3a673af62e1934099",
        "IPY_MODEL_01574ea3bb1d4c46a331e81772028696",
        "IPY_MODEL_107028bd2cc54ef3b734521894bf4e96"
       ],
       "layout": "IPY_MODEL_8270a45a98774ab4883c70fac6c0cbe4"
      }
     },
     "ccbfe0346fbf4528a911547f84fae55b": {
      "model_module": "@jupyter-widgets/base",
      "model_module_version": "1.2.0",
      "model_name": "LayoutModel",
      "state": {}
     },
     "cdec98713bcd47d18f9dd500bade9d3e": {
      "model_module": "@jupyter-widgets/base",
      "model_module_version": "1.2.0",
      "model_name": "LayoutModel",
      "state": {}
     },
     "ce01f9689ecc4545871ed883ac2a85dd": {
      "model_module": "@jupyter-widgets/controls",
      "model_module_version": "1.5.0",
      "model_name": "FloatProgressModel",
      "state": {
       "bar_style": "success",
       "layout": "IPY_MODEL_faa3aff4a8544f588285e8b740e30ce5",
       "max": 500,
       "style": "IPY_MODEL_a0cf1e01929b4db187e49942e49b7021",
       "value": 500
      }
     },
     "ced369b6144941c0a58ab7c8bcc02660": {
      "model_module": "@jupyter-widgets/controls",
      "model_module_version": "1.5.0",
      "model_name": "ProgressStyleModel",
      "state": {
       "description_width": ""
      }
     },
     "cf64e6d67df1404ea4de4aae920ec489": {
      "model_module": "@jupyter-widgets/controls",
      "model_module_version": "1.5.0",
      "model_name": "HTMLModel",
      "state": {
       "layout": "IPY_MODEL_f59e31bf2606426fa1561c7a2e104b9f",
       "style": "IPY_MODEL_de0526c6b04f4b9dadf01d362bd0fd95",
       "value": " 500/500 [00:38&lt;00:00, 12.85image/s]"
      }
     },
     "cf8b8f82a08d48efbd1fe05cf1b7cac6": {
      "model_module": "@jupyter-widgets/base",
      "model_module_version": "1.2.0",
      "model_name": "LayoutModel",
      "state": {}
     },
     "cf9b542b0e0744c5bdf92c12cf46211e": {
      "model_module": "@jupyter-widgets/controls",
      "model_module_version": "1.5.0",
      "model_name": "HTMLModel",
      "state": {
       "layout": "IPY_MODEL_3849a99a1d3a4acd87fb023922c28f1a",
       "style": "IPY_MODEL_d2b824b55e074eed8a4012ce4f704c83",
       "value": " 500/500 [00:03&lt;00:00, 119.46image/s]"
      }
     },
     "cff2acacf9b9403f86b45f034f04a16a": {
      "model_module": "@jupyter-widgets/base",
      "model_module_version": "1.2.0",
      "model_name": "LayoutModel",
      "state": {}
     },
     "d02f852da0754e07b00567ae30a4b69b": {
      "model_module": "@jupyter-widgets/controls",
      "model_module_version": "1.5.0",
      "model_name": "DescriptionStyleModel",
      "state": {
       "description_width": ""
      }
     },
     "d068f2c71d934f9d9080a7c86d4926bf": {
      "model_module": "@jupyter-widgets/controls",
      "model_module_version": "1.5.0",
      "model_name": "DescriptionStyleModel",
      "state": {
       "description_width": ""
      }
     },
     "d15ba450b7ea4bf29507e26a6a84c871": {
      "model_module": "@jupyter-widgets/base",
      "model_module_version": "1.2.0",
      "model_name": "LayoutModel",
      "state": {}
     },
     "d1f6eb613d014615916d09172a3af994": {
      "model_module": "@jupyter-widgets/base",
      "model_module_version": "1.2.0",
      "model_name": "LayoutModel",
      "state": {}
     },
     "d2450b80352342b39cbe9d2c9c9ff39b": {
      "model_module": "@jupyter-widgets/controls",
      "model_module_version": "1.5.0",
      "model_name": "HTMLModel",
      "state": {
       "layout": "IPY_MODEL_8a95ed2ad2964b0381c5e8c53d52ad60",
       "style": "IPY_MODEL_6c10ab760288467d8917b40aa66af67e",
       "value": "Predicting bounding boxes: 100%"
      }
     },
     "d27c35ea2a184d369ed57e572f095219": {
      "model_module": "@jupyter-widgets/base",
      "model_module_version": "1.2.0",
      "model_name": "LayoutModel",
      "state": {}
     },
     "d2b824b55e074eed8a4012ce4f704c83": {
      "model_module": "@jupyter-widgets/controls",
      "model_module_version": "1.5.0",
      "model_name": "DescriptionStyleModel",
      "state": {
       "description_width": ""
      }
     },
     "d414031d87cf4c5bb63d5b10f00cafe4": {
      "model_module": "@jupyter-widgets/base",
      "model_module_version": "1.2.0",
      "model_name": "LayoutModel",
      "state": {}
     },
     "d5e1ca899d7a486d936481538f7e7a6d": {
      "model_module": "@jupyter-widgets/controls",
      "model_module_version": "1.5.0",
      "model_name": "HTMLModel",
      "state": {
       "layout": "IPY_MODEL_9957d7c663874cf3893d2addbf31abc9",
       "style": "IPY_MODEL_60ac92a076c54341b5cf362daaeca59c",
       "value": "Calculating TedEval metric: 100%"
      }
     },
     "d60693f9c0f24f28953661c126f14e13": {
      "model_module": "@jupyter-widgets/controls",
      "model_module_version": "1.5.0",
      "model_name": "DescriptionStyleModel",
      "state": {
       "description_width": ""
      }
     },
     "d60eeda2486d45cbb4145f3e2e2dcf1d": {
      "model_module": "@jupyter-widgets/base",
      "model_module_version": "1.2.0",
      "model_name": "LayoutModel",
      "state": {}
     },
     "d6ce236983ac4eaabbd84ae930e69dff": {
      "model_module": "@jupyter-widgets/controls",
      "model_module_version": "1.5.0",
      "model_name": "DescriptionStyleModel",
      "state": {
       "description_width": ""
      }
     },
     "d71f23bb1c5d45c8bd2c7798b180d487": {
      "model_module": "@jupyter-widgets/base",
      "model_module_version": "1.2.0",
      "model_name": "LayoutModel",
      "state": {}
     },
     "d748626d809f437395ebe211e430a643": {
      "model_module": "@jupyter-widgets/base",
      "model_module_version": "1.2.0",
      "model_name": "LayoutModel",
      "state": {}
     },
     "d7a49e3865d7405084ffba62d9b13438": {
      "model_module": "@jupyter-widgets/base",
      "model_module_version": "1.2.0",
      "model_name": "LayoutModel",
      "state": {}
     },
     "d8bbc6ef1cc44f5aa988e628eddd6703": {
      "model_module": "@jupyter-widgets/controls",
      "model_module_version": "1.5.0",
      "model_name": "FloatProgressModel",
      "state": {
       "bar_style": "success",
       "layout": "IPY_MODEL_ae99a6258a93451a80f9e3e3809aebfa",
       "max": 500,
       "style": "IPY_MODEL_028d9f8bdd1e46b889bc917069bbd8f6",
       "value": 500
      }
     },
     "da3a7ab760b74423908f1284846bb332": {
      "model_module": "@jupyter-widgets/base",
      "model_module_version": "1.2.0",
      "model_name": "LayoutModel",
      "state": {}
     },
     "da5ee1abcbcb442e9b037ca7b2ccd316": {
      "model_module": "@jupyter-widgets/base",
      "model_module_version": "1.2.0",
      "model_name": "LayoutModel",
      "state": {}
     },
     "db06428cdf9d4cd1a31aba0b0e750668": {
      "model_module": "@jupyter-widgets/base",
      "model_module_version": "1.2.0",
      "model_name": "LayoutModel",
      "state": {}
     },
     "db5b39f1594d44d086641935e3841bcc": {
      "model_module": "@jupyter-widgets/controls",
      "model_module_version": "1.5.0",
      "model_name": "HTMLModel",
      "state": {
       "layout": "IPY_MODEL_37465db8cc9b4812b5c1c6657f81688f",
       "style": "IPY_MODEL_e8a3c69f7f52478cb2db4c8406cc1121",
       "value": "Reading evaluation images: 100%"
      }
     },
     "db9678334f5f45de8fc9f5296bf50d1a": {
      "model_module": "@jupyter-widgets/controls",
      "model_module_version": "1.5.0",
      "model_name": "DescriptionStyleModel",
      "state": {
       "description_width": ""
      }
     },
     "db9ea7dd4bf94ad0930c75e8c7e797ab": {
      "model_module": "@jupyter-widgets/controls",
      "model_module_version": "1.5.0",
      "model_name": "HBoxModel",
      "state": {
       "children": [
        "IPY_MODEL_612aefb2963449149549fd8477f865f5",
        "IPY_MODEL_372135b1748e4616b0fab7c77548ac81",
        "IPY_MODEL_c2bd5b5a8ffd4321a4f71d1fd7a59d3c"
       ],
       "layout": "IPY_MODEL_196af4fbbcf942a3a54990267fe8b5cd"
      }
     },
     "dba95f736ca846b187c633dca0dfdf7a": {
      "model_module": "@jupyter-widgets/controls",
      "model_module_version": "1.5.0",
      "model_name": "HTMLModel",
      "state": {
       "layout": "IPY_MODEL_a9c7cef9ebbb40409b1c4e9b6e912360",
       "style": "IPY_MODEL_04f852fe1acc4029a93ec92f0d92f45e",
       "value": " 500/500 [00:00&lt;00:00, 550.32image/s]"
      }
     },
     "dbbac6ae516c480ab44952bb798d2b9e": {
      "model_module": "@jupyter-widgets/base",
      "model_module_version": "1.2.0",
      "model_name": "LayoutModel",
      "state": {}
     },
     "dc1e590782cb4f8ab4bdeb9916adeb60": {
      "model_module": "@jupyter-widgets/base",
      "model_module_version": "1.2.0",
      "model_name": "LayoutModel",
      "state": {}
     },
     "dc23003d316148d59e407c560b5c44ac": {
      "model_module": "@jupyter-widgets/controls",
      "model_module_version": "1.5.0",
      "model_name": "HTMLModel",
      "state": {
       "layout": "IPY_MODEL_65127938fab844149780810005790e42",
       "style": "IPY_MODEL_d02f852da0754e07b00567ae30a4b69b",
       "value": " 500/500 [00:38&lt;00:00, 12.96image/s]"
      }
     },
     "dc2d89e0c3194f89972fff0d1244bda8": {
      "model_module": "@jupyter-widgets/base",
      "model_module_version": "1.2.0",
      "model_name": "LayoutModel",
      "state": {}
     },
     "dc38f2dac334491f9e2c54f605174195": {
      "model_module": "@jupyter-widgets/base",
      "model_module_version": "1.2.0",
      "model_name": "LayoutModel",
      "state": {}
     },
     "dcaa20e673064f53859de355149647e1": {
      "model_module": "@jupyter-widgets/controls",
      "model_module_version": "1.5.0",
      "model_name": "DescriptionStyleModel",
      "state": {
       "description_width": ""
      }
     },
     "dda120b24a6c49f8a68b16cc06b2b084": {
      "model_module": "@jupyter-widgets/base",
      "model_module_version": "1.2.0",
      "model_name": "LayoutModel",
      "state": {}
     },
     "ddce97bd152549869231d4872a7e1bf0": {
      "model_module": "@jupyter-widgets/base",
      "model_module_version": "1.2.0",
      "model_name": "LayoutModel",
      "state": {}
     },
     "dddae50857204b2daca15edb3502ba24": {
      "model_module": "@jupyter-widgets/controls",
      "model_module_version": "1.5.0",
      "model_name": "HTMLModel",
      "state": {
       "layout": "IPY_MODEL_7884889b942d4408838f0040a4a4e7ed",
       "style": "IPY_MODEL_0508d09ac9f84b418bc4cb9ead5102a5",
       "value": " 500/500 [00:40&lt;00:00, 12.64image/s]"
      }
     },
     "ddef0d037ccd4e1d9b85e1e60d384fd0": {
      "model_module": "@jupyter-widgets/base",
      "model_module_version": "1.2.0",
      "model_name": "LayoutModel",
      "state": {}
     },
     "de0526c6b04f4b9dadf01d362bd0fd95": {
      "model_module": "@jupyter-widgets/controls",
      "model_module_version": "1.5.0",
      "model_name": "DescriptionStyleModel",
      "state": {
       "description_width": ""
      }
     },
     "de1012faf542453fb49d267cc1cd0ea6": {
      "model_module": "@jupyter-widgets/base",
      "model_module_version": "1.2.0",
      "model_name": "LayoutModel",
      "state": {}
     },
     "deae87d04e194153a349de2449785bd1": {
      "model_module": "@jupyter-widgets/controls",
      "model_module_version": "1.5.0",
      "model_name": "DescriptionStyleModel",
      "state": {
       "description_width": ""
      }
     },
     "dfb96b8da2fe404383bdc203bc4bcc8d": {
      "model_module": "@jupyter-widgets/base",
      "model_module_version": "1.2.0",
      "model_name": "LayoutModel",
      "state": {}
     },
     "dffaae16bee84821a6b674d3295c2faf": {
      "model_module": "@jupyter-widgets/controls",
      "model_module_version": "1.5.0",
      "model_name": "DescriptionStyleModel",
      "state": {
       "description_width": ""
      }
     },
     "e084f752a6034cdaa583b24d3cdac0d0": {
      "model_module": "@jupyter-widgets/controls",
      "model_module_version": "1.5.0",
      "model_name": "HTMLModel",
      "state": {
       "layout": "IPY_MODEL_134eb4a9b22e4c8eac7d3b97d1b1b8ac",
       "style": "IPY_MODEL_8ee5e468e47e4dc99172f29bedd9d861",
       "value": "Predicting bounding boxes: 100%"
      }
     },
     "e0c28d37050f42d9aa964d81a8e4c474": {
      "model_module": "@jupyter-widgets/controls",
      "model_module_version": "1.5.0",
      "model_name": "HTMLModel",
      "state": {
       "layout": "IPY_MODEL_7a0769e64e544babbca2b6e1c178b988",
       "style": "IPY_MODEL_ad2e021bfffb4092be87fb3ba5536e99",
       "value": " 500/500 [00:06&lt;00:00, 77.57image/s]"
      }
     },
     "e0eba60e12224733ba30a851b2b719cf": {
      "model_module": "@jupyter-widgets/controls",
      "model_module_version": "1.5.0",
      "model_name": "ProgressStyleModel",
      "state": {
       "description_width": ""
      }
     },
     "e12d039d68794da1974a23e945522d26": {
      "model_module": "@jupyter-widgets/controls",
      "model_module_version": "1.5.0",
      "model_name": "HBoxModel",
      "state": {
       "children": [
        "IPY_MODEL_c339f8d99fdf4d47b6b295281b7538cb",
        "IPY_MODEL_4593bd1675304f4caf1e9517d0a2beb0",
        "IPY_MODEL_efca7dad2a834b7a992bbbcd04172fc0"
       ],
       "layout": "IPY_MODEL_781e53448afb4c69952ab5c393b9915b"
      }
     },
     "e17cc2431860450eb40fa9901b06d041": {
      "model_module": "@jupyter-widgets/controls",
      "model_module_version": "1.5.0",
      "model_name": "ProgressStyleModel",
      "state": {
       "description_width": ""
      }
     },
     "e2083cdd7df14d40a3d2305462eeb0ca": {
      "model_module": "@jupyter-widgets/controls",
      "model_module_version": "1.5.0",
      "model_name": "HTMLModel",
      "state": {
       "layout": "IPY_MODEL_e79497af8c984cd195704947623d80b1",
       "style": "IPY_MODEL_221628eb76674d4ab063b1c901ef246d",
       "value": " 500/500 [00:02&lt;00:00, 138.75image/s]"
      }
     },
     "e24069b33533410da1f491bb72caa7b5": {
      "model_module": "@jupyter-widgets/controls",
      "model_module_version": "1.5.0",
      "model_name": "FloatProgressModel",
      "state": {
       "bar_style": "success",
       "layout": "IPY_MODEL_44a6b1811d2048a88e79bbc1d12400e4",
       "max": 500,
       "style": "IPY_MODEL_ec0ce4d386e5424b8a158c7cdffe9c7a",
       "value": 500
      }
     },
     "e330e151eda6467e84ac9443e55f9e1a": {
      "model_module": "@jupyter-widgets/base",
      "model_module_version": "1.2.0",
      "model_name": "LayoutModel",
      "state": {}
     },
     "e3328b6f4e6d4fe2a6a6f5ac53711c37": {
      "model_module": "@jupyter-widgets/controls",
      "model_module_version": "1.5.0",
      "model_name": "DescriptionStyleModel",
      "state": {
       "description_width": ""
      }
     },
     "e365dabbd614486b90454f8c04bf2e96": {
      "model_module": "@jupyter-widgets/controls",
      "model_module_version": "1.5.0",
      "model_name": "HTMLModel",
      "state": {
       "layout": "IPY_MODEL_12c08f3ab6ae48f1a7cfaa6541f8fb8d",
       "style": "IPY_MODEL_98a4fbe92dd54bdebb804bbb756a8f77",
       "value": "Predicting bounding boxes: 100%"
      }
     },
     "e384dbd014574da7b67fe4c96116eef5": {
      "model_module": "@jupyter-widgets/base",
      "model_module_version": "1.2.0",
      "model_name": "LayoutModel",
      "state": {}
     },
     "e38ff537ac0149eea650e8473c9213b3": {
      "model_module": "@jupyter-widgets/base",
      "model_module_version": "1.2.0",
      "model_name": "LayoutModel",
      "state": {}
     },
     "e3fa8a12d5024d0c85f0fc8348dcb859": {
      "model_module": "@jupyter-widgets/controls",
      "model_module_version": "1.5.0",
      "model_name": "HTMLModel",
      "state": {
       "layout": "IPY_MODEL_0d2760ca2afd480abb5a66d53290a562",
       "style": "IPY_MODEL_8bf55251fd6b46a7855b101c26d8e574",
       "value": " 500/500 [00:38&lt;00:00, 13.25image/s]"
      }
     },
     "e5696cb091db4e098fa7c0a246782a5a": {
      "model_module": "@jupyter-widgets/controls",
      "model_module_version": "1.5.0",
      "model_name": "ProgressStyleModel",
      "state": {
       "description_width": ""
      }
     },
     "e575414785124cb5b2c7a406efeb995d": {
      "model_module": "@jupyter-widgets/controls",
      "model_module_version": "1.5.0",
      "model_name": "ProgressStyleModel",
      "state": {
       "description_width": ""
      }
     },
     "e58455a951934bee9a52cba140eac6a4": {
      "model_module": "@jupyter-widgets/controls",
      "model_module_version": "1.5.0",
      "model_name": "HTMLModel",
      "state": {
       "layout": "IPY_MODEL_ad6fc42e3a734e53b4df7c04daa0487d",
       "style": "IPY_MODEL_a55d06a485e84b62af33c7993b02f40b",
       "value": " 500/500 [00:02&lt;00:00, 155.44image/s]"
      }
     },
     "e5fa852476f045788cc47f9064d208b4": {
      "model_module": "@jupyter-widgets/base",
      "model_module_version": "1.2.0",
      "model_name": "LayoutModel",
      "state": {}
     },
     "e6095e23f03a44919d20c20f4acc44db": {
      "model_module": "@jupyter-widgets/base",
      "model_module_version": "1.2.0",
      "model_name": "LayoutModel",
      "state": {}
     },
     "e6156ddf2dda4d9f832e4f334dfb7b5e": {
      "model_module": "@jupyter-widgets/controls",
      "model_module_version": "1.5.0",
      "model_name": "HBoxModel",
      "state": {
       "children": [
        "IPY_MODEL_b194d641d2d14bcd8abd133bf4a2a859",
        "IPY_MODEL_f219a25aa79842a986717211f6490928",
        "IPY_MODEL_a1b2056aea7f441b822e3ee20e8923ca"
       ],
       "layout": "IPY_MODEL_61d61f08bac0423ebb0a4dd0bcb4859c"
      }
     },
     "e77c1a147db24b859cc62cdebc4e7152": {
      "model_module": "@jupyter-widgets/base",
      "model_module_version": "1.2.0",
      "model_name": "LayoutModel",
      "state": {}
     },
     "e79497af8c984cd195704947623d80b1": {
      "model_module": "@jupyter-widgets/base",
      "model_module_version": "1.2.0",
      "model_name": "LayoutModel",
      "state": {}
     },
     "e7af8c208b0843ab905f08e65fb9a525": {
      "model_module": "@jupyter-widgets/controls",
      "model_module_version": "1.5.0",
      "model_name": "FloatProgressModel",
      "state": {
       "bar_style": "success",
       "layout": "IPY_MODEL_459ca7d5747e49d1ab1a0ab2fe118847",
       "max": 500,
       "style": "IPY_MODEL_5c659d1a00a54a63aca6e06a78661c38",
       "value": 500
      }
     },
     "e8a3c69f7f52478cb2db4c8406cc1121": {
      "model_module": "@jupyter-widgets/controls",
      "model_module_version": "1.5.0",
      "model_name": "DescriptionStyleModel",
      "state": {
       "description_width": ""
      }
     },
     "e968627b2e3a451ca7d7f4ac05bf7773": {
      "model_module": "@jupyter-widgets/controls",
      "model_module_version": "1.5.0",
      "model_name": "DescriptionStyleModel",
      "state": {
       "description_width": ""
      }
     },
     "ea23b6b5a9d4499d8d0aa866a832c8d0": {
      "model_module": "@jupyter-widgets/controls",
      "model_module_version": "1.5.0",
      "model_name": "DescriptionStyleModel",
      "state": {
       "description_width": ""
      }
     },
     "eab7250a1c534a9781a0a45b3dd68614": {
      "model_module": "@jupyter-widgets/controls",
      "model_module_version": "1.5.0",
      "model_name": "DescriptionStyleModel",
      "state": {
       "description_width": ""
      }
     },
     "eac00edac9264151a8e2d315f8a78bbf": {
      "model_module": "@jupyter-widgets/controls",
      "model_module_version": "1.5.0",
      "model_name": "DescriptionStyleModel",
      "state": {
       "description_width": ""
      }
     },
     "ead597519dbe42f49613e4430a9e1ce4": {
      "model_module": "@jupyter-widgets/controls",
      "model_module_version": "1.5.0",
      "model_name": "DescriptionStyleModel",
      "state": {
       "description_width": ""
      }
     },
     "eb01faf93938488f948cb19e328d6d21": {
      "model_module": "@jupyter-widgets/controls",
      "model_module_version": "1.5.0",
      "model_name": "HBoxModel",
      "state": {
       "children": [
        "IPY_MODEL_e365dabbd614486b90454f8c04bf2e96",
        "IPY_MODEL_686f2e18433e4913bafc725426ab6e67",
        "IPY_MODEL_033858eb484e43838f208491213bdaa0"
       ],
       "layout": "IPY_MODEL_b875451fb63248acb23fe5b7e0465e72"
      }
     },
     "ebae12cb6d3349a3bbfe7c4f402fb9f5": {
      "model_module": "@jupyter-widgets/base",
      "model_module_version": "1.2.0",
      "model_name": "LayoutModel",
      "state": {}
     },
     "ec0ce4d386e5424b8a158c7cdffe9c7a": {
      "model_module": "@jupyter-widgets/controls",
      "model_module_version": "1.5.0",
      "model_name": "ProgressStyleModel",
      "state": {
       "description_width": ""
      }
     },
     "ec6a47768f0a46f09556bac906cacee1": {
      "model_module": "@jupyter-widgets/controls",
      "model_module_version": "1.5.0",
      "model_name": "HBoxModel",
      "state": {
       "children": [
        "IPY_MODEL_2ace23ce29e947c3ad5186bf6f45604b",
        "IPY_MODEL_d8bbc6ef1cc44f5aa988e628eddd6703",
        "IPY_MODEL_cb598f75310e42dd8ae673c9bd69defc"
       ],
       "layout": "IPY_MODEL_4916194f83bb4caa9778adf28066aa84"
      }
     },
     "ed9c64622a6f45bfb8c6750df4babedf": {
      "model_module": "@jupyter-widgets/controls",
      "model_module_version": "1.5.0",
      "model_name": "ProgressStyleModel",
      "state": {
       "description_width": ""
      }
     },
     "edbe88e32de24d279c01f38c35aaf690": {
      "model_module": "@jupyter-widgets/controls",
      "model_module_version": "1.5.0",
      "model_name": "DescriptionStyleModel",
      "state": {
       "description_width": ""
      }
     },
     "ee157f975d1347ea86ef3805dbaf344c": {
      "model_module": "@jupyter-widgets/controls",
      "model_module_version": "1.5.0",
      "model_name": "HTMLModel",
      "state": {
       "layout": "IPY_MODEL_8d15552d960448398e4747be4356240f",
       "style": "IPY_MODEL_fec61127bb244930b76a84fcd0ed0347",
       "value": "Predicting bounding boxes: 100%"
      }
     },
     "ee21ea3a9de746d5be2cbccda48c41fb": {
      "model_module": "@jupyter-widgets/base",
      "model_module_version": "1.2.0",
      "model_name": "LayoutModel",
      "state": {}
     },
     "ee380fd7a5a34d3888307b5edacfef5d": {
      "model_module": "@jupyter-widgets/controls",
      "model_module_version": "1.5.0",
      "model_name": "DescriptionStyleModel",
      "state": {
       "description_width": ""
      }
     },
     "ee49accfc15e4285a06187084574e569": {
      "model_module": "@jupyter-widgets/controls",
      "model_module_version": "1.5.0",
      "model_name": "FloatProgressModel",
      "state": {
       "bar_style": "success",
       "layout": "IPY_MODEL_3a700a69beee491b97f8f6afc66e1ca0",
       "max": 500,
       "style": "IPY_MODEL_0dc61368bb8b401ba3db552518f824a8",
       "value": 500
      }
     },
     "ef7b04f5bdd54adf8b3707fc57986ddb": {
      "model_module": "@jupyter-widgets/controls",
      "model_module_version": "1.5.0",
      "model_name": "ProgressStyleModel",
      "state": {
       "description_width": ""
      }
     },
     "efca7dad2a834b7a992bbbcd04172fc0": {
      "model_module": "@jupyter-widgets/controls",
      "model_module_version": "1.5.0",
      "model_name": "HTMLModel",
      "state": {
       "layout": "IPY_MODEL_f54a23baf5bd4a4897695dc2205a0187",
       "style": "IPY_MODEL_91842525acc24e2781def444671fbd2b",
       "value": " 500/500 [00:40&lt;00:00, 12.53image/s]"
      }
     },
     "f0afb4af71a44bb5ab092bfb786b59b1": {
      "model_module": "@jupyter-widgets/controls",
      "model_module_version": "1.5.0",
      "model_name": "HBoxModel",
      "state": {
       "children": [
        "IPY_MODEL_44145fe679f04b458b78bc2f60734af1",
        "IPY_MODEL_4ef3c5b101b5441bb574f11589541a09",
        "IPY_MODEL_1c9eaeab09fb41ea9b0d161a53927856"
       ],
       "layout": "IPY_MODEL_18c23db5651d4cbf82031e75c92b2ec0"
      }
     },
     "f1c8bd7218f94ee8a364f8d2022a54b8": {
      "model_module": "@jupyter-widgets/controls",
      "model_module_version": "1.5.0",
      "model_name": "HTMLModel",
      "state": {
       "layout": "IPY_MODEL_1ec053e700de4685a60d063c82cc7cba",
       "style": "IPY_MODEL_0de22103e34a408793b6e1590a1cbce8",
       "value": "Calculating TedEval metric: 100%"
      }
     },
     "f219a25aa79842a986717211f6490928": {
      "model_module": "@jupyter-widgets/controls",
      "model_module_version": "1.5.0",
      "model_name": "FloatProgressModel",
      "state": {
       "bar_style": "success",
       "layout": "IPY_MODEL_1d79fb543edb410db711e53a0cce82e9",
       "max": 500,
       "style": "IPY_MODEL_34fecdb2cf4c4530a65759c73d8b0553",
       "value": 500
      }
     },
     "f25dcd744fdc48f1a277a2f5ef91bd3f": {
      "model_module": "@jupyter-widgets/controls",
      "model_module_version": "1.5.0",
      "model_name": "ProgressStyleModel",
      "state": {
       "description_width": ""
      }
     },
     "f33845b227a141bb8bb6e80d6c97279d": {
      "model_module": "@jupyter-widgets/controls",
      "model_module_version": "1.5.0",
      "model_name": "HTMLModel",
      "state": {
       "layout": "IPY_MODEL_a430f334695b4e8788fe13c47b3979f0",
       "style": "IPY_MODEL_9bff7f09583045bfa61536d10f2affb7",
       "value": " 500/500 [00:38&lt;00:00, 13.10image/s]"
      }
     },
     "f37ce8a41e4945868c85554102e477f4": {
      "model_module": "@jupyter-widgets/base",
      "model_module_version": "1.2.0",
      "model_name": "LayoutModel",
      "state": {}
     },
     "f48f2d7bc13a48d6b04154f58007aff1": {
      "model_module": "@jupyter-widgets/base",
      "model_module_version": "1.2.0",
      "model_name": "LayoutModel",
      "state": {}
     },
     "f54a23baf5bd4a4897695dc2205a0187": {
      "model_module": "@jupyter-widgets/base",
      "model_module_version": "1.2.0",
      "model_name": "LayoutModel",
      "state": {}
     },
     "f59e31bf2606426fa1561c7a2e104b9f": {
      "model_module": "@jupyter-widgets/base",
      "model_module_version": "1.2.0",
      "model_name": "LayoutModel",
      "state": {}
     },
     "f63170eb35f84480a8bba6c86eecf987": {
      "model_module": "@jupyter-widgets/controls",
      "model_module_version": "1.5.0",
      "model_name": "HTMLModel",
      "state": {
       "layout": "IPY_MODEL_0e1022212eee472fbe505ba2a8c7e81b",
       "style": "IPY_MODEL_123dfbe33f274a8694ad95544074b1b6",
       "value": "Predicting bounding boxes: 100%"
      }
     },
     "f66ea4d7b3474782b15376485d3c3c6e": {
      "model_module": "@jupyter-widgets/controls",
      "model_module_version": "1.5.0",
      "model_name": "DescriptionStyleModel",
      "state": {
       "description_width": ""
      }
     },
     "f71003821cff4d1daf521fba656f608d": {
      "model_module": "@jupyter-widgets/base",
      "model_module_version": "1.2.0",
      "model_name": "LayoutModel",
      "state": {}
     },
     "f73da7782528444fa4f4481152f3a984": {
      "model_module": "@jupyter-widgets/controls",
      "model_module_version": "1.5.0",
      "model_name": "FloatProgressModel",
      "state": {
       "bar_style": "success",
       "layout": "IPY_MODEL_5fd6d4023b9f46e9a80d9c2f94999d04",
       "max": 500,
       "style": "IPY_MODEL_065ffccbeb444bfa82abf6c305eb1ded",
       "value": 500
      }
     },
     "f81e5b130c4a45879666d6e298382211": {
      "model_module": "@jupyter-widgets/controls",
      "model_module_version": "1.5.0",
      "model_name": "HBoxModel",
      "state": {
       "children": [
        "IPY_MODEL_6e352eb0c3f94e06aa0698a69a4f14e9",
        "IPY_MODEL_29250ef72b9b4aad8d356c7d3afb935d",
        "IPY_MODEL_108acb501ab64502aad196e61cc281f7"
       ],
       "layout": "IPY_MODEL_c0bc4d9be3684cd99bfc93daa78167de"
      }
     },
     "f8c7cf6b30f449ef9f642222de380e54": {
      "model_module": "@jupyter-widgets/base",
      "model_module_version": "1.2.0",
      "model_name": "LayoutModel",
      "state": {}
     },
     "f8d1967e4b354c259b139a1da89b4742": {
      "model_module": "@jupyter-widgets/base",
      "model_module_version": "1.2.0",
      "model_name": "LayoutModel",
      "state": {}
     },
     "f916829eb4244a739a86f374d9e8cbd6": {
      "model_module": "@jupyter-widgets/controls",
      "model_module_version": "1.5.0",
      "model_name": "DescriptionStyleModel",
      "state": {
       "description_width": ""
      }
     },
     "f92a05c2dd8b47c0908dadb6280187d3": {
      "model_module": "@jupyter-widgets/base",
      "model_module_version": "1.2.0",
      "model_name": "LayoutModel",
      "state": {}
     },
     "f9a5abab2421477a8e5be68bd39881d0": {
      "model_module": "@jupyter-widgets/controls",
      "model_module_version": "1.5.0",
      "model_name": "FloatProgressModel",
      "state": {
       "bar_style": "success",
       "layout": "IPY_MODEL_4493108a4e234efca820d19104a87920",
       "max": 500,
       "style": "IPY_MODEL_b1e3d93b8eb543afaa9e30b26ce548c5",
       "value": 500
      }
     },
     "f9b7acf1a295434a8e00c03fe9008ca8": {
      "model_module": "@jupyter-widgets/base",
      "model_module_version": "1.2.0",
      "model_name": "LayoutModel",
      "state": {}
     },
     "f9e827ce55fe4a69b620793b6f1db613": {
      "model_module": "@jupyter-widgets/controls",
      "model_module_version": "1.5.0",
      "model_name": "HTMLModel",
      "state": {
       "layout": "IPY_MODEL_80c36058aca8484693a1129b0908abfc",
       "style": "IPY_MODEL_bf00853d72f541dbac97e2fa8a2beed2",
       "value": "Predicting bounding boxes: 100%"
      }
     },
     "fa53dd9bb4644101aaf4c9e98bd24a94": {
      "model_module": "@jupyter-widgets/controls",
      "model_module_version": "1.5.0",
      "model_name": "FloatProgressModel",
      "state": {
       "bar_style": "success",
       "layout": "IPY_MODEL_24c70c1617a64414840d2c828dc0fa1c",
       "max": 500,
       "style": "IPY_MODEL_40383afbae6348d2bc37ac262866686b",
       "value": 500
      }
     },
     "faa3aff4a8544f588285e8b740e30ce5": {
      "model_module": "@jupyter-widgets/base",
      "model_module_version": "1.2.0",
      "model_name": "LayoutModel",
      "state": {}
     },
     "fac9af8df0104b888adf45a1ef394844": {
      "model_module": "@jupyter-widgets/controls",
      "model_module_version": "1.5.0",
      "model_name": "FloatProgressModel",
      "state": {
       "bar_style": "success",
       "layout": "IPY_MODEL_371d5cc523e344a2b37ea40aacdd69fa",
       "max": 500,
       "style": "IPY_MODEL_256be6e8cbc048dba2082addb0133350",
       "value": 500
      }
     },
     "fb264558dd7a40faaa2e67d3a494d875": {
      "model_module": "@jupyter-widgets/base",
      "model_module_version": "1.2.0",
      "model_name": "LayoutModel",
      "state": {}
     },
     "fb28145a94244227a4da0565974dac8c": {
      "model_module": "@jupyter-widgets/base",
      "model_module_version": "1.2.0",
      "model_name": "LayoutModel",
      "state": {}
     },
     "fb78c6078e5c4b159684da33263a8e54": {
      "model_module": "@jupyter-widgets/controls",
      "model_module_version": "1.5.0",
      "model_name": "HTMLModel",
      "state": {
       "layout": "IPY_MODEL_6c465e9ac4e54e2f83ecb9686889e75b",
       "style": "IPY_MODEL_62b7ed411f4949b0bf13ece8d3d302dc",
       "value": "Calculating TedEval metric: 100%"
      }
     },
     "fbe5a8ba72f64de6867f0301ea2f446f": {
      "model_module": "@jupyter-widgets/controls",
      "model_module_version": "1.5.0",
      "model_name": "HBoxModel",
      "state": {
       "children": [
        "IPY_MODEL_ee157f975d1347ea86ef3805dbaf344c",
        "IPY_MODEL_e7af8c208b0843ab905f08e65fb9a525",
        "IPY_MODEL_222c5f1edaeb4c83883588bb6e1edc01"
       ],
       "layout": "IPY_MODEL_684b1738176e441dbd4ca7867693a58b"
      }
     },
     "fc7088578a7248088f42d7bf596919cc": {
      "model_module": "@jupyter-widgets/controls",
      "model_module_version": "1.5.0",
      "model_name": "ProgressStyleModel",
      "state": {
       "description_width": ""
      }
     },
     "fc9fc9cb821840f4819122713a008cc5": {
      "model_module": "@jupyter-widgets/controls",
      "model_module_version": "1.5.0",
      "model_name": "ProgressStyleModel",
      "state": {
       "description_width": ""
      }
     },
     "fd2bf9fb09b14199b1af939e5456cfee": {
      "model_module": "@jupyter-widgets/controls",
      "model_module_version": "1.5.0",
      "model_name": "HTMLModel",
      "state": {
       "layout": "IPY_MODEL_71db1e706dec4fdb8c21c9d9c293bf83",
       "style": "IPY_MODEL_5ba09e752bd845dab2d76b557f103cf6",
       "value": " 500/500 [00:38&lt;00:00, 12.97image/s]"
      }
     },
     "fe0b6b8130264ea692ca7c3b725a50a4": {
      "model_module": "@jupyter-widgets/controls",
      "model_module_version": "1.5.0",
      "model_name": "HBoxModel",
      "state": {
       "children": [
        "IPY_MODEL_1aed7f37437a4e32bd0a37ff7d56ab11",
        "IPY_MODEL_bfda0c8033e348009822097fcead4945",
        "IPY_MODEL_27310cc9f84542f9af676e0092db1f99"
       ],
       "layout": "IPY_MODEL_6f0e8aca7c094efea9ced3f8bd7aa053"
      }
     },
     "feb8fe0948694b278a352f03463f925e": {
      "model_module": "@jupyter-widgets/base",
      "model_module_version": "1.2.0",
      "model_name": "LayoutModel",
      "state": {}
     },
     "fec61127bb244930b76a84fcd0ed0347": {
      "model_module": "@jupyter-widgets/controls",
      "model_module_version": "1.5.0",
      "model_name": "DescriptionStyleModel",
      "state": {
       "description_width": ""
      }
     },
     "ff4ec3e24c0b48a4ab743a1cadd3ff79": {
      "model_module": "@jupyter-widgets/controls",
      "model_module_version": "1.5.0",
      "model_name": "DescriptionStyleModel",
      "state": {
       "description_width": ""
      }
     },
     "ff7547a18ff5417ba9f41e5fcf641dd5": {
      "model_module": "@jupyter-widgets/base",
      "model_module_version": "1.2.0",
      "model_name": "LayoutModel",
      "state": {}
     }
    },
    "version_major": 2,
    "version_minor": 0
   }
  }
 },
 "nbformat": 4,
 "nbformat_minor": 5
}
